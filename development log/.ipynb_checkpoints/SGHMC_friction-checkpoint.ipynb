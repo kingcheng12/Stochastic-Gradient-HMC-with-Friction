{
 "cells": [
  {
   "cell_type": "markdown",
   "metadata": {},
   "source": [
    "# Project: Stochastic Gradient Hamiltonian Monte Carlo"
   ]
  },
  {
   "cell_type": "markdown",
   "metadata": {},
   "source": [
    "In this project we are going to implement standard HMC, HMC with MH, Naive SGHMC and SGHMC with Friction."
   ]
  },
  {
   "cell_type": "markdown",
   "metadata": {},
   "source": [
    "# standard HMC"
   ]
  },
  {
   "cell_type": "markdown",
   "metadata": {},
   "source": [
    "### Basic settings"
   ]
  },
  {
   "cell_type": "markdown",
   "metadata": {},
   "source": [
    "Suppose we want to sample from the posterior distribution: \n",
    "$$p(\\theta|D) \\propto exp(-U(\\theta))$$ where $D = \\{x_{1\\:n}\\}$\n",
    "which are independent and $U$ is the potential energy fucntion: \n",
    "$$U = -\\sum_{x_i \\in D}\\log p(x|\\theta)- \\log p(\\theta)$$\n",
    "We will sample from joint distribution $$\\pi(\\theta, r) \\propto exp(-U(\\theta)-\\frac{1}{2}r^TM^{-1}r)$$\n",
    "where r is the auxiliary momentum variables and M is the mass matrix. They define the kinetic energy together.\n",
    "Then we discard r and keep $\\theta$."
   ]
  },
  {
   "cell_type": "markdown",
   "metadata": {},
   "source": [
    "The Hamiltonian function is:\n",
    "$$H(\\theta, r)=U(\\theta)+\\frac{1}{2}r^TM^{-1}r$$\n",
    "The Hamiltonian dynamics are:\n",
    "$$d\\theta = M^{-1}r dt\\\\ dr=-\\triangledown U(\\theta) dt$$"
   ]
  },
  {
   "cell_type": "markdown",
   "metadata": {},
   "source": [
    "### Implement of SGHMC with Friction"
   ]
  },
  {
   "cell_type": "markdown",
   "metadata": {},
   "source": [
    "We use a univariate $\\theta$ for illustration. Suppose $U(\\theta)=-2\\theta^2+\\theta^4$. Based on $U(\\theta)$, we need to define functions $\\triangledown U, H$."
   ]
  },
  {
   "cell_type": "code",
   "execution_count": null,
   "metadata": {},
   "outputs": [],
   "source": [
    "import scipy.stats as sta\n",
    "import seaborn as sns\n",
    "import numpy as np\n",
    "import matplotlib.pyplot as plt\n",
    "from numba import jit,njit\n",
    "from ipyparallel import Client\n",
    "import random\n",
    "import numpy"
   ]
  },
  {
   "cell_type": "markdown",
   "metadata": {},
   "source": [
    "## Basic Code"
   ]
  },
  {
   "cell_type": "code",
   "execution_count": 193,
   "metadata": {},
   "outputs": [],
   "source": [
    "def SGHMC_friction(theta0, X, gradU, eps, sample_size, B, C, batch_size,burnin, M = None):\n",
    "    '''\n",
    "    SGHMC with friction. See details from Stochastic Gradient Hamiltonian Monte Carlo (Chen et al., 2014)\n",
    "    \n",
    "    INPUT:\n",
    "    ----------------------------------------------------------------------\n",
    "    theta0(numpy array of shape(p,)): starting position of theta\n",
    "    \n",
    "    X(numpy array of shape(n,m)): data\n",
    "    \n",
    "    gradU(scale,theta,batch): function to compute gradient of U on a particular batch,\n",
    "    \n",
    "        INPUT:\n",
    "        ----------------------------------------------------------------------\n",
    "        scale: data size/ batch size\n",
    "        theta: theta\n",
    "        batch(numpy array): batch\n",
    "        ----------------------------------------------------------------------\n",
    "        OUTPUT:\n",
    "        ----------------------------------------------------------------------\n",
    "        thetat: Gradient of U on batch\n",
    "        ----------------------------------------------------------------------\n",
    "    \n",
    "    eps: step size\n",
    "    \n",
    "    sample_size: number of samples drawn from prosterior distribution\n",
    "    \n",
    "    B: noise estimate\n",
    "    \n",
    "    C: user specified friction term\n",
    "    \n",
    "    batch_size: size of minibatches\n",
    "    \n",
    "    burnin: number of iterations for warm up\n",
    "    \n",
    "    M(optional): Mass matrix, defualt is set to be identity.\n",
    "    ----------------------------------------------------------------------\n",
    "    OUTPUT:\n",
    "    ----------------------------------------------------------------------\n",
    "    thetat: thetas sampled from posterior distribution\n",
    "    ----------------------------------------------------------------------\n",
    "    '''\n",
    "    \n",
    "    i = sample_size+burnin\n",
    "    p = theta0.shape[0]\n",
    "    thetat = np.zeros((i+1,p))\n",
    "    thetat[0,:] = theta0\n",
    "    \n",
    "    m1 = int(np.ceil(X.shape[0]/batch_size))\n",
    "    batch = [X[i::m1] for i in range(m1)]\n",
    "    m = len(batch)\n",
    "\n",
    "    if(M is None):\n",
    "        M = np.eye(p)\n",
    "    \n",
    "    \n",
    "    for t in range(i):\n",
    "        ri = np.random.multivariate_normal(np.zeros(p), M)\n",
    "        thetai = thetat[t]\n",
    "        for j in range(m):\n",
    "            thetai = thetai + eps * np.linalg.solve(M, ri)\n",
    "            gU = gradU(X.shape[0]/batch[j].shape[0],thetai,batch[j])\n",
    "            ri = ri - eps * gU - eps * C @ np.linalg.solve(M, ri) + np.random.multivariate_normal(np.zeros(p), np.array(2*eps*(C-B)).reshape(p,p))\n",
    "        thetat[t+1] = thetai\n",
    "\n",
    "    return thetat[burnin+1:]"
   ]
  },
  {
   "cell_type": "markdown",
   "metadata": {},
   "source": [
    "## Example 1 (Test code and reproduce figure 1)"
   ]
  },
  {
   "cell_type": "code",
   "execution_count": 3,
   "metadata": {},
   "outputs": [],
   "source": [
    "def gradU(scale,theta,batch):\n",
    "    \"\"\"\n",
    "    Compute gradient of U on a particular batch\n",
    "    \n",
    "    INPUT:\n",
    "    ----------------------------------------------------------------------\n",
    "    scale:\n",
    "    \n",
    "    theta:\n",
    "    \n",
    "    batch: \n",
    "    ----------------------------------------------------------------------\n",
    "    OUTPUT:\n",
    "    \n",
    "    thetat: Gradient of U on batch\n",
    "    \"\"\"\n",
    "    def grad_log_data(x,theta):\n",
    "        return -(-4*theta+4*theta**3)/50\n",
    "\n",
    "    def grad_log_prior(theta):\n",
    "        return 0\n",
    "    return - scale*batch.shape[0]*grad_log_data(batch,theta)-grad_log_prior(theta)"
   ]
  },
  {
   "cell_type": "code",
   "execution_count": 20,
   "metadata": {},
   "outputs": [
    {
     "name": "stdout",
     "output_type": "stream",
     "text": [
      "CPU times: user 11.6 s, sys: 43.3 ms, total: 11.7 s\n",
      "Wall time: 11.6 s\n"
     ]
    }
   ],
   "source": [
    "%%time\n",
    "random.seed(100)\n",
    "theta1 = SGHMC_friction(theta0 = np.array([0]),X = np.zeros((50,1)), gradU = gradU,\n",
    "                eps=0.1,sample_size=10000, B=np.array([0]),C=2*np.eye(1),batch_size = 10,burnin=500)"
   ]
  },
  {
   "cell_type": "code",
   "execution_count": 21,
   "metadata": {},
   "outputs": [
    {
     "data": {
      "image/png": "[encoded data removed]",
      "text/plain": [
       "<Figure size 432x288 with 1 Axes>"
      ]
     },
     "metadata": {
      "needs_background": "light"
     },
     "output_type": "display_data"
    }
   ],
   "source": [
    "sns.kdeplot(np.concatenate(theta1).reshape(-1,))\n",
    "plt.title('density plot of U(theta) = -2theta^2+theta^4')\n",
    "plt.savefig('U_in_paper.png')"
   ]
  },
  {
   "cell_type": "code",
   "execution_count": 22,
   "metadata": {},
   "outputs": [
    {
     "data": {
      "image/png": "[encoded data removed]",
      "text/plain": [
       "<Figure size 432x288 with 1 Axes>"
      ]
     },
     "metadata": {
      "needs_background": "light"
     },
     "output_type": "display_data"
    }
   ],
   "source": [
    "# real distribution of U_in_paper\n",
    "theta = np.linspace(-2,2,100)\n",
    "p = np.exp(2*theta**2-theta**4)\n",
    "fig, ax = plt.subplots()\n",
    "ax.plot(theta,p,label = \"true distribution\")\n",
    "ax.legend(loc= \"upper center\")\n",
    "plt.savefig('real_U_in_paper.png')"
   ]
  },
  {
   "cell_type": "markdown",
   "metadata": {},
   "source": [
    "## Example 2 (mixture normal)"
   ]
  },
  {
   "cell_type": "code",
   "execution_count": 23,
   "metadata": {},
   "outputs": [],
   "source": [
    "mu = np.array([-5, 5]).reshape(2,1) # true value for mu\n",
    "n = 200 # number of observations\n",
    "y = np.r_[np.random.normal(mu[0], 1, n),np.random.normal(mu[1], 1, n)]"
   ]
  },
  {
   "cell_type": "code",
   "execution_count": 24,
   "metadata": {},
   "outputs": [],
   "source": [
    "def gradU2(scale,theta,batch):\n",
    "    def mn_glpdf(y,mu):\n",
    "        exp1=numpy.exp(-0.5*(y-mu[0])**2)\n",
    "        exp2=numpy.exp(-0.5*(y-mu[1])**2)\n",
    "\n",
    "        v = numpy.c_[exp1*(y-mu[0]),exp2*(y-mu[1])]\n",
    "        return numpy.sum(v/(exp1+exp2),axis=0)\n",
    "\n",
    "    def mn_glpr(mu):\n",
    "        return -(numpy.sum(mu)/100)\n",
    "    return - scale*mn_glpdf(batch,theta)-mn_glpr(theta)"
   ]
  },
  {
   "cell_type": "code",
   "execution_count": 25,
   "metadata": {},
   "outputs": [],
   "source": [
    "theta_mn = SGHMC_friction(theta0=np.array([1,1]), X = y[:,None], gradU = gradU2, eps=0.01, sample_size=1000, B=0, C=np.eye(2), batch_size=100,burnin=500)"
   ]
  },
  {
   "cell_type": "code",
   "execution_count": 26,
   "metadata": {},
   "outputs": [
    {
     "data": {
      "image/png": "[encoded data removed]",
      "text/plain": [
       "<Figure size 432x288 with 1 Axes>"
      ]
     },
     "metadata": {
      "needs_background": "light"
     },
     "output_type": "display_data"
    }
   ],
   "source": [
    "kdeplt2 = sns.kdeplot(theta_mn[:,0],theta_mn[:,1])  \n",
    "plt.title('density plot of mixture normal')\n",
    "plt.savefig('mixture_norm.png')"
   ]
  },
  {
   "cell_type": "markdown",
   "metadata": {},
   "source": [
    "## example 3 (simulated linear model)"
   ]
  },
  {
   "cell_type": "code",
   "execution_count": 198,
   "metadata": {},
   "outputs": [],
   "source": [
    "# simulated results for linear model, n = #{obs} = 100, p = 4 (p*p X matrix), s2 = 1, coef = [1,2,3,4]^T\n",
    "n, p = 100, 3\n",
    "s2 = 1\n",
    "X = np.c_[np.random.normal(size=n), np.random.normal(size=n), np.random.normal(size=n)]\n",
    "noise = np.random.normal(size=n).reshape(-1,1)\n",
    "beta = np.array([2,3,4]).reshape(-1,1)\n",
    "alpha = 1\n",
    "\n",
    "Y = X @ beta + alpha + noise\n",
    "data = np.c_[Y,X]"
   ]
  },
  {
   "cell_type": "code",
   "execution_count": 231,
   "metadata": {},
   "outputs": [],
   "source": [
    "def logposterior(parameter, data, alpha_prior_m=0, alpha_prior_sd=10, beta_prior_m=1, beta_prior_sd=10, logs2_prior_m=0, logs2_prior_sd=10):\n",
    "    '''\n",
    "    \n",
    "    Compute the log density of data and gradient of log density of data\n",
    "    Parameter: beta and log variance (p+1,1)\n",
    "    X: data matrix (n,p)\n",
    "    Y: response (n,1)\n",
    "    ..._prior_m = prior mean of elts in parameters\n",
    "    ..._prior_sd = prior standard error of elts in parameters\n",
    "    \n",
    "    '''\n",
    "    \n",
    "    def normal_prior(p, mu, s):\n",
    "        '''compute the log prior and gradient of log prior'''\n",
    "        Z = (p-mu)/s\n",
    "        logpdf = np.sum(-np.log(s) - 0.5*np.log(2*np.pi)-0.5*Z**2, axis=0)\n",
    "        grad_logpdf = -Z/s\n",
    "        \n",
    "        return logpdf.reshape(-1,1), grad_logpdf.reshape(-1,1)\n",
    "    \n",
    "    Y = data[:,0].reshape(-1,1)\n",
    "    X = data[:,1:]\n",
    "    \n",
    "    alpha = parameter[0]\n",
    "    beta = parameter[1:parameter.shape[0]-1]\n",
    "    beta = beta.reshape(-1,1)\n",
    "    logs2 = parameter[parameter.shape[0]-1]\n",
    "    \n",
    "    # compute log likelihood and gradient\n",
    "    sigma = np.sqrt(np.exp(logs2))\n",
    "    mu = X @ beta + alpha\n",
    "    Z = (Y-mu)/sigma\n",
    "    \n",
    "    grad_alpha1 = np.sum(Z/sigma)\n",
    "    grad_beta1 = X.T @ Z/sigma\n",
    "    grad_logs21 = np.sum(-0.5 + 0.5*Z**2)\n",
    "    \n",
    "    # compute log priors and gradient\n",
    "    log_prior_alpha, grad_lp_alpha = normal_prior(alpha, alpha_prior_m, alpha_prior_sd)\n",
    "    log_prior_beta, grad_lp_beta = normal_prior(beta, beta_prior_m, beta_prior_sd)\n",
    "    log_prior_logs2, grad_lp_logs2 = normal_prior(logs2, logs2_prior_m, logs2_prior_sd)\n",
    "    log_prior = log_prior_alpha + log_prior_beta + log_prior_logs2 # '+' in matlab\n",
    "    \n",
    "    # log posterior and gradient\n",
    "    grad_alpha = grad_alpha1 + grad_lp_alpha\n",
    "    grad_beta = grad_beta1 + grad_lp_beta\n",
    "    grad_logs2 = grad_logs21 + grad_lp_logs2\n",
    "    grad_log_post = np.hstack((grad_alpha[0], grad_beta[:,0], grad_logs2[0]))\n",
    "    \n",
    "    return grad_log_post"
   ]
  },
  {
   "cell_type": "code",
   "execution_count": 232,
   "metadata": {},
   "outputs": [],
   "source": [
    "def gradU3(scale,theta,batch):\n",
    "    '''compute gradient of U for linear model'''\n",
    "    \n",
    "    return - scale*logposterior(theta, batch)"
   ]
  },
  {
   "cell_type": "code",
   "execution_count": 201,
   "metadata": {},
   "outputs": [],
   "source": [
    "theta_mn = SGHMC_friction(theta0=np.ones(5), X = data, gradU = gradU3, eps=0.01, sample_size=2000, B=0.01, C=np.eye(5), batch_size=20,burnin=500)"
   ]
  },
  {
   "cell_type": "code",
   "execution_count": 202,
   "metadata": {},
   "outputs": [
    {
     "data": {
      "text/plain": [
       "array([1.00195337, 1.64387656, 3.17308108, 4.18143991, 0.05761228])"
      ]
     },
     "execution_count": 202,
     "metadata": {},
     "output_type": "execute_result"
    }
   ],
   "source": [
    "para_est = np.mean(theta_mn,axis = 0)\n",
    "para_est"
   ]
  },
  {
   "cell_type": "code",
   "execution_count": 203,
   "metadata": {},
   "outputs": [
    {
     "data": {
      "text/plain": [
       "array([1.64387656, 3.17308108, 4.18143991])"
      ]
     },
     "execution_count": 203,
     "metadata": {},
     "output_type": "execute_result"
    }
   ],
   "source": [
    "para_est[1:4]"
   ]
  },
  {
   "cell_type": "code",
   "execution_count": 204,
   "metadata": {},
   "outputs": [],
   "source": [
    "# compute estimate\n",
    "Y_est = para_est[0] + X @ para_est[1:4].reshape(-1,1)"
   ]
  },
  {
   "cell_type": "code",
   "execution_count": 205,
   "metadata": {},
   "outputs": [
    {
     "data": {
      "text/plain": [
       "10.296677224990336"
      ]
     },
     "execution_count": 205,
     "metadata": {},
     "output_type": "execute_result"
    }
   ],
   "source": [
    "rmse = np.sqrt(np.sum((Y-Y_est)**2))\n",
    "rmse"
   ]
  },
  {
   "cell_type": "code",
   "execution_count": 206,
   "metadata": {},
   "outputs": [
    {
     "data": {
      "image/png": "[encoded data removed]",
      "text/plain": [
       "<Figure size 432x288 with 1 Axes>"
      ]
     },
     "metadata": {
      "needs_background": "light"
     },
     "output_type": "display_data"
    }
   ],
   "source": [
    "plt.scatter(Y,Y_est)\n",
    "plt.xlabel('True y')\n",
    "plt.ylabel('estimated y')\n",
    "plt.title('Plot true Y against estimated Y')\n",
    "plt.savefig('sim_lm_error.png')"
   ]
  },
  {
   "cell_type": "markdown",
   "metadata": {},
   "source": [
    "## Example with real data "
   ]
  },
  {
   "cell_type": "code",
   "execution_count": 233,
   "metadata": {},
   "outputs": [],
   "source": [
    "import pandas as pd"
   ]
  },
  {
   "cell_type": "code",
   "execution_count": 234,
   "metadata": {},
   "outputs": [
    {
     "data": {
      "text/html": [
       "<div>\n",
       "<style scoped>\n",
       "    .dataframe tbody tr th:only-of-type {\n",
       "        vertical-align: middle;\n",
       "    }\n",
       "\n",
       "    .dataframe tbody tr th {\n",
       "        vertical-align: top;\n",
       "    }\n",
       "\n",
       "    .dataframe thead th {\n",
       "        text-align: right;\n",
       "    }\n",
       "</style>\n",
       "<table border=\"1\" class=\"dataframe\">\n",
       "  <thead>\n",
       "    <tr style=\"text-align: right;\">\n",
       "      <th></th>\n",
       "      <th>npreg</th>\n",
       "      <th>glu</th>\n",
       "      <th>bp skin</th>\n",
       "      <th>bmi</th>\n",
       "      <th>ped age</th>\n",
       "      <th>diabetes</th>\n",
       "      <th>Unnamed: 6</th>\n",
       "    </tr>\n",
       "  </thead>\n",
       "  <tbody>\n",
       "    <tr>\n",
       "      <td>0</td>\n",
       "      <td>5</td>\n",
       "      <td>86</td>\n",
       "      <td>68</td>\n",
       "      <td>28</td>\n",
       "      <td>30.2</td>\n",
       "      <td>0.364 24</td>\n",
       "      <td>No</td>\n",
       "    </tr>\n",
       "    <tr>\n",
       "      <td>1</td>\n",
       "      <td>7</td>\n",
       "      <td>195</td>\n",
       "      <td>70</td>\n",
       "      <td>33</td>\n",
       "      <td>25.1</td>\n",
       "      <td>0.163 55</td>\n",
       "      <td>Yes</td>\n",
       "    </tr>\n",
       "    <tr>\n",
       "      <td>2</td>\n",
       "      <td>5</td>\n",
       "      <td>77</td>\n",
       "      <td>82</td>\n",
       "      <td>41</td>\n",
       "      <td>35.8</td>\n",
       "      <td>0.156 35</td>\n",
       "      <td>No</td>\n",
       "    </tr>\n",
       "    <tr>\n",
       "      <td>3</td>\n",
       "      <td>0</td>\n",
       "      <td>165</td>\n",
       "      <td>76</td>\n",
       "      <td>43</td>\n",
       "      <td>47.9</td>\n",
       "      <td>0.259 26</td>\n",
       "      <td>No</td>\n",
       "    </tr>\n",
       "    <tr>\n",
       "      <td>4</td>\n",
       "      <td>0</td>\n",
       "      <td>107</td>\n",
       "      <td>60</td>\n",
       "      <td>25</td>\n",
       "      <td>26.4</td>\n",
       "      <td>0.133 23</td>\n",
       "      <td>No</td>\n",
       "    </tr>\n",
       "  </tbody>\n",
       "</table>\n",
       "</div>"
      ],
      "text/plain": [
       "   npreg  glu  bp skin  bmi  ped age  diabetes Unnamed: 6\n",
       "0      5   86       68   28     30.2  0.364 24         No\n",
       "1      7  195       70   33     25.1  0.163 55        Yes\n",
       "2      5   77       82   41     35.8  0.156 35         No\n",
       "3      0  165       76   43     47.9  0.259 26         No\n",
       "4      0  107       60   25     26.4  0.133 23         No"
      ]
     },
     "execution_count": 234,
     "metadata": {},
     "output_type": "execute_result"
    }
   ],
   "source": [
    "dieb = pd.read_fwf('diab.txt')\n",
    "dieb.head()"
   ]
  },
  {
   "cell_type": "code",
   "execution_count": 235,
   "metadata": {},
   "outputs": [
    {
     "data": {
      "text/html": [
       "<div>\n",
       "<style scoped>\n",
       "    .dataframe tbody tr th:only-of-type {\n",
       "        vertical-align: middle;\n",
       "    }\n",
       "\n",
       "    .dataframe tbody tr th {\n",
       "        vertical-align: top;\n",
       "    }\n",
       "\n",
       "    .dataframe thead th {\n",
       "        text-align: right;\n",
       "    }\n",
       "</style>\n",
       "<table border=\"1\" class=\"dataframe\">\n",
       "  <thead>\n",
       "    <tr style=\"text-align: right;\">\n",
       "      <th></th>\n",
       "      <th>npreg</th>\n",
       "      <th>glu</th>\n",
       "      <th>bp skin</th>\n",
       "      <th>bmi</th>\n",
       "      <th>ped age</th>\n",
       "    </tr>\n",
       "  </thead>\n",
       "  <tbody>\n",
       "    <tr>\n",
       "      <td>0</td>\n",
       "      <td>5</td>\n",
       "      <td>86</td>\n",
       "      <td>68</td>\n",
       "      <td>28</td>\n",
       "      <td>30.2</td>\n",
       "    </tr>\n",
       "    <tr>\n",
       "      <td>1</td>\n",
       "      <td>7</td>\n",
       "      <td>195</td>\n",
       "      <td>70</td>\n",
       "      <td>33</td>\n",
       "      <td>25.1</td>\n",
       "    </tr>\n",
       "    <tr>\n",
       "      <td>2</td>\n",
       "      <td>5</td>\n",
       "      <td>77</td>\n",
       "      <td>82</td>\n",
       "      <td>41</td>\n",
       "      <td>35.8</td>\n",
       "    </tr>\n",
       "    <tr>\n",
       "      <td>3</td>\n",
       "      <td>0</td>\n",
       "      <td>165</td>\n",
       "      <td>76</td>\n",
       "      <td>43</td>\n",
       "      <td>47.9</td>\n",
       "    </tr>\n",
       "    <tr>\n",
       "      <td>4</td>\n",
       "      <td>0</td>\n",
       "      <td>107</td>\n",
       "      <td>60</td>\n",
       "      <td>25</td>\n",
       "      <td>26.4</td>\n",
       "    </tr>\n",
       "  </tbody>\n",
       "</table>\n",
       "</div>"
      ],
      "text/plain": [
       "   npreg  glu  bp skin  bmi  ped age\n",
       "0      5   86       68   28     30.2\n",
       "1      7  195       70   33     25.1\n",
       "2      5   77       82   41     35.8\n",
       "3      0  165       76   43     47.9\n",
       "4      0  107       60   25     26.4"
      ]
     },
     "execution_count": 235,
     "metadata": {},
     "output_type": "execute_result"
    }
   ],
   "source": [
    "dieb = dieb.drop(\"Unnamed: 6\", axis=1)\n",
    "dieb = dieb.drop(\"diabetes\", axis=1)\n",
    "dieb.head()"
   ]
  },
  {
   "cell_type": "code",
   "execution_count": 236,
   "metadata": {},
   "outputs": [
    {
     "data": {
      "text/html": [
       "<div>\n",
       "<style scoped>\n",
       "    .dataframe tbody tr th:only-of-type {\n",
       "        vertical-align: middle;\n",
       "    }\n",
       "\n",
       "    .dataframe tbody tr th {\n",
       "        vertical-align: top;\n",
       "    }\n",
       "\n",
       "    .dataframe thead th {\n",
       "        text-align: right;\n",
       "    }\n",
       "</style>\n",
       "<table border=\"1\" class=\"dataframe\">\n",
       "  <thead>\n",
       "    <tr style=\"text-align: right;\">\n",
       "      <th></th>\n",
       "      <th>glu</th>\n",
       "      <th>npreg</th>\n",
       "      <th>bp skin</th>\n",
       "      <th>bmi</th>\n",
       "      <th>ped age</th>\n",
       "    </tr>\n",
       "  </thead>\n",
       "  <tbody>\n",
       "    <tr>\n",
       "      <td>0</td>\n",
       "      <td>86</td>\n",
       "      <td>5</td>\n",
       "      <td>68</td>\n",
       "      <td>28</td>\n",
       "      <td>30.2</td>\n",
       "    </tr>\n",
       "    <tr>\n",
       "      <td>1</td>\n",
       "      <td>195</td>\n",
       "      <td>7</td>\n",
       "      <td>70</td>\n",
       "      <td>33</td>\n",
       "      <td>25.1</td>\n",
       "    </tr>\n",
       "    <tr>\n",
       "      <td>2</td>\n",
       "      <td>77</td>\n",
       "      <td>5</td>\n",
       "      <td>82</td>\n",
       "      <td>41</td>\n",
       "      <td>35.8</td>\n",
       "    </tr>\n",
       "    <tr>\n",
       "      <td>3</td>\n",
       "      <td>165</td>\n",
       "      <td>0</td>\n",
       "      <td>76</td>\n",
       "      <td>43</td>\n",
       "      <td>47.9</td>\n",
       "    </tr>\n",
       "    <tr>\n",
       "      <td>4</td>\n",
       "      <td>107</td>\n",
       "      <td>0</td>\n",
       "      <td>60</td>\n",
       "      <td>25</td>\n",
       "      <td>26.4</td>\n",
       "    </tr>\n",
       "  </tbody>\n",
       "</table>\n",
       "</div>"
      ],
      "text/plain": [
       "   glu  npreg  bp skin  bmi  ped age\n",
       "0   86      5       68   28     30.2\n",
       "1  195      7       70   33     25.1\n",
       "2   77      5       82   41     35.8\n",
       "3  165      0       76   43     47.9\n",
       "4  107      0       60   25     26.4"
      ]
     },
     "execution_count": 236,
     "metadata": {},
     "output_type": "execute_result"
    }
   ],
   "source": [
    "# regress glu over other paramters\n",
    "dieb = dieb[['glu','npreg','bp skin','bmi','ped age']]\n",
    "dieb.head()"
   ]
  },
  {
   "cell_type": "code",
   "execution_count": 237,
   "metadata": {},
   "outputs": [
    {
     "data": {
      "text/plain": [
       "((532, 5), (532, 4), (532,))"
      ]
     },
     "execution_count": 237,
     "metadata": {},
     "output_type": "execute_result"
    }
   ],
   "source": [
    "data = dieb.to_numpy()\n",
    "X = data[:,1:]\n",
    "glu = data[:,0]\n",
    "data.shape, X.shape, glu.shape"
   ]
  },
  {
   "cell_type": "code",
   "execution_count": 238,
   "metadata": {},
   "outputs": [],
   "source": [
    "# 1 intercept, 4 coef, 1 sigma2\n",
    "random.seed(1)\n",
    "theta_mn = SGHMC_friction(theta0=np.ones(6), X = data, gradU = gradU3, eps=0.01, sample_size=2000, B=0.01, C=np.eye(6), batch_size=20,burnin=500)"
   ]
  },
  {
   "cell_type": "code",
   "execution_count": 239,
   "metadata": {},
   "outputs": [
    {
     "data": {
      "text/plain": [
       "array([2.49781585, 0.99040136, 0.8427279 , 0.13134063, 1.51241662])"
      ]
     },
     "execution_count": 239,
     "metadata": {},
     "output_type": "execute_result"
    }
   ],
   "source": [
    "post_coef_m = np.mean(theta_mn, axis=0)\n",
    "est_coef = post_coef_m[:post_coef_m.shape[0]-1]\n",
    "est_coef"
   ]
  },
  {
   "cell_type": "code",
   "execution_count": 240,
   "metadata": {},
   "outputs": [],
   "source": [
    "est_glu = est_coef[0] + X @ est_coef[1:]"
   ]
  },
  {
   "cell_type": "code",
   "execution_count": 241,
   "metadata": {},
   "outputs": [
    {
     "data": {
      "image/png": "[encoded data removed]",
      "text/plain": [
       "<Figure size 432x288 with 1 Axes>"
      ]
     },
     "metadata": {
      "needs_background": "light"
     },
     "output_type": "display_data"
    }
   ],
   "source": [
    "plt.scatter(glu,est_glu)\n",
    "plt.xlabel('True glu')\n",
    "plt.ylabel('estimated glu')\n",
    "plt.title('Plot true glu against estimated glu')\n",
    "plt.savefig('glu_estimation.png')"
   ]
  },
  {
   "cell_type": "markdown",
   "metadata": {},
   "source": [
    "# data 2"
   ]
  },
  {
   "cell_type": "code",
   "execution_count": 252,
   "metadata": {},
   "outputs": [],
   "source": [
    "df = pd.read_csv('salary.csv')"
   ]
  },
  {
   "cell_type": "code",
   "execution_count": 253,
   "metadata": {},
   "outputs": [],
   "source": [
    "d = df.to_numpy()\n",
    "scal = 10000\n",
    "Y = d[:,1]/scal\n",
    "X = d[:,0]\n",
    "\n",
    "data = np.c_[Y,X]"
   ]
  },
  {
   "cell_type": "code",
   "execution_count": 254,
   "metadata": {},
   "outputs": [
    {
     "data": {
      "text/plain": [
       "<matplotlib.collections.PathCollection at 0x13135b0d0>"
      ]
     },
     "execution_count": 254,
     "metadata": {},
     "output_type": "execute_result"
    },
    {
     "data": {
      "image/png": "[encoded data removed]",
      "text/plain": [
       "<Figure size 432x288 with 1 Axes>"
      ]
     },
     "metadata": {
      "needs_background": "light"
     },
     "output_type": "display_data"
    }
   ],
   "source": [
    "plt.scatter(X,Y)"
   ]
  },
  {
   "cell_type": "code",
   "execution_count": 255,
   "metadata": {},
   "outputs": [],
   "source": [
    "# 1 intercept, 1 coef, 1 sigma2\n",
    "theta_mn = SGHMC_friction(theta0=np.ones(3), X = data, gradU = gradU3, eps=0.01, sample_size=1000, B=0, C=np.eye(3), batch_size=20,burnin=500)"
   ]
  },
  {
   "cell_type": "code",
   "execution_count": 257,
   "metadata": {},
   "outputs": [],
   "source": [
    "pm_coef=np.mean(theta_mn,axis=0)"
   ]
  },
  {
   "cell_type": "code",
   "execution_count": 258,
   "metadata": {},
   "outputs": [],
   "source": [
    "a = pm_coef[0]\n",
    "b = pm_coef[1]"
   ]
  },
  {
   "cell_type": "code",
   "execution_count": 260,
   "metadata": {},
   "outputs": [],
   "source": [
    "Y_est = a + b * X"
   ]
  },
  {
   "cell_type": "code",
   "execution_count": 263,
   "metadata": {},
   "outputs": [
    {
     "data": {
      "text/plain": [
       "<matplotlib.collections.PathCollection at 0x131fe1490>"
      ]
     },
     "execution_count": 263,
     "metadata": {},
     "output_type": "execute_result"
    },
    {
     "data": {
      "image/png": "[encoded data removed]",
      "text/plain": [
       "<Figure size 432x288 with 1 Axes>"
      ]
     },
     "metadata": {
      "needs_background": "light"
     },
     "output_type": "display_data"
    }
   ],
   "source": [
    "plt.scatter(Y,Y_est)"
   ]
  },
  {
   "cell_type": "markdown",
   "metadata": {},
   "source": [
    "## Profile Basic SGHMC function"
   ]
  },
  {
   "cell_type": "code",
   "execution_count": null,
   "metadata": {},
   "outputs": [],
   "source": [
    "profile = %prun -r -q SGHMC_friction(theta0 = np.array([0]),X = np.zeros((50,1)), gradU = gradU, eps=0.1,sample_size=2000, B=np.array([0]),C=2*np.eye(1),batch_size = 10,burnin=500)\n",
    "profile.sort_stats('cumtime').print_stats(10)"
   ]
  },
  {
   "cell_type": "markdown",
   "metadata": {},
   "source": [
    "## Use SqrtM @ Normal to replace multivariate normal"
   ]
  },
  {
   "cell_type": "code",
   "execution_count": 38,
   "metadata": {},
   "outputs": [],
   "source": [
    "def SGHMC_friction2(theta0, X, gradU, eps, sample_size, B, C, batch_size,burnin, M = None):\n",
    "    '''\n",
    "    SGHMC with friction:\n",
    "    theta0(numpy array): starting position of theta\n",
    "    X: data\n",
    "    grad_logden_data: gradient of the data log density\n",
    "    grad_logden_prior: gradient of the prior log density\n",
    "    eps: step size\n",
    "    sample_size: number of samples drawn from prosterior distribution\n",
    "    B: noise estimate\n",
    "    C: user specified friction term\n",
    "    batch_size: size of minibatches\n",
    "    M: Mass matrix\n",
    "    '''\n",
    "    \n",
    "    i = sample_size+burnin\n",
    "    p = theta0.shape[0]\n",
    "    thetat = np.zeros((i+1,p))\n",
    "    thetat[0] = theta0\n",
    "    \n",
    "    m1 = int(np.ceil(X.shape[0]/batch_size))\n",
    "    batch = [X[i::m1] for i in range(m1)]\n",
    "    m = len(batch)\n",
    "\n",
    "    if(M is None):\n",
    "        M = np.eye(p)\n",
    "    \n",
    "    M1sqrt = np.linalg.cholesky(M)\n",
    "    Msqrt = np.linalg.cholesky(2*eps*(C-B))\n",
    "    \n",
    "    for t in range(i):\n",
    "        thetai = thetat[t]\n",
    "        ri = M1sqrt@np.random.normal(size=p)\n",
    "        for j in range(m):\n",
    "            thetai = thetai + eps * np.linalg.solve(M,ri)\n",
    "            gU = gradU(X.shape[0]/batch[j].shape[0],thetai,batch[j])\n",
    "            ri = ri - eps * gU - eps * C @ np.linalg.solve(M, ri) + Msqrt@np.random.normal(size=p)\n",
    "        thetat[t+1] = thetai\n",
    "    \n",
    "    return thetat[burnin+1:]"
   ]
  },
  {
   "cell_type": "markdown",
   "metadata": {},
   "source": [
    "## Test SGHMC2"
   ]
  },
  {
   "cell_type": "code",
   "execution_count": null,
   "metadata": {},
   "outputs": [],
   "source": [
    "%%time\n",
    "random.seed(100)\n",
    "theta1 = SGHMC_friction2(theta0 = np.array([0]),X = np.zeros((50,1)), gradU = gradU,\n",
    "                eps=0.1,sample_size=10000, B=np.array([0]),C=2*np.eye(1),batch_size = 10,burnin=500)"
   ]
  },
  {
   "cell_type": "code",
   "execution_count": null,
   "metadata": {},
   "outputs": [],
   "source": [
    "sns.kdeplot(theta1.reshape(-1,))\n",
    "plt.show()"
   ]
  },
  {
   "cell_type": "code",
   "execution_count": null,
   "metadata": {},
   "outputs": [],
   "source": [
    "theta_mn = SGHMC_friction2(theta0=np.array([1,1]), X = y[:,None], gradU = gradU2, eps=0.01, sample_size=1000, B=0, C=np.eye(2), batch_size=100,burnin=500)"
   ]
  },
  {
   "cell_type": "code",
   "execution_count": null,
   "metadata": {},
   "outputs": [],
   "source": [
    "kdeplt2 = sns.kdeplot(theta_mn[:,0],theta_mn[:,1])  \n",
    "plt.show()"
   ]
  },
  {
   "cell_type": "markdown",
   "metadata": {},
   "source": [
    "## Test with linear model"
   ]
  },
  {
   "cell_type": "code",
   "execution_count": 37,
   "metadata": {},
   "outputs": [
    {
     "ename": "NameError",
     "evalue": "name 'SGHMC_friction2' is not defined",
     "output_type": "error",
     "traceback": [
      "\u001b[0;31m---------------------------------------------------------------------------\u001b[0m",
      "\u001b[0;31mNameError\u001b[0m                                 Traceback (most recent call last)",
      "\u001b[0;32m<ipython-input-37-968d482d83de>\u001b[0m in \u001b[0;36m<module>\u001b[0;34m\u001b[0m\n\u001b[0;32m----> 1\u001b[0;31m \u001b[0mtheta_mn\u001b[0m \u001b[0;34m=\u001b[0m \u001b[0mSGHMC_friction2\u001b[0m\u001b[0;34m(\u001b[0m\u001b[0mtheta0\u001b[0m\u001b[0;34m=\u001b[0m\u001b[0mnp\u001b[0m\u001b[0;34m.\u001b[0m\u001b[0mones\u001b[0m\u001b[0;34m(\u001b[0m\u001b[0;36m5\u001b[0m\u001b[0;34m)\u001b[0m\u001b[0;34m,\u001b[0m \u001b[0mX\u001b[0m \u001b[0;34m=\u001b[0m \u001b[0mdata\u001b[0m\u001b[0;34m,\u001b[0m \u001b[0mgradU\u001b[0m \u001b[0;34m=\u001b[0m \u001b[0mgradU3\u001b[0m\u001b[0;34m,\u001b[0m \u001b[0meps\u001b[0m\u001b[0;34m=\u001b[0m\u001b[0;36m0.01\u001b[0m\u001b[0;34m,\u001b[0m \u001b[0msample_size\u001b[0m\u001b[0;34m=\u001b[0m\u001b[0;36m2000\u001b[0m\u001b[0;34m,\u001b[0m \u001b[0mB\u001b[0m\u001b[0;34m=\u001b[0m\u001b[0;36m0.01\u001b[0m\u001b[0;34m,\u001b[0m \u001b[0mC\u001b[0m\u001b[0;34m=\u001b[0m\u001b[0mnp\u001b[0m\u001b[0;34m.\u001b[0m\u001b[0meye\u001b[0m\u001b[0;34m(\u001b[0m\u001b[0;36m5\u001b[0m\u001b[0;34m)\u001b[0m\u001b[0;34m,\u001b[0m \u001b[0mbatch_size\u001b[0m\u001b[0;34m=\u001b[0m\u001b[0;36m10\u001b[0m\u001b[0;34m,\u001b[0m\u001b[0mburnin\u001b[0m\u001b[0;34m=\u001b[0m\u001b[0;36m500\u001b[0m\u001b[0;34m)\u001b[0m\u001b[0;34m\u001b[0m\u001b[0;34m\u001b[0m\u001b[0m\n\u001b[0m",
      "\u001b[0;31mNameError\u001b[0m: name 'SGHMC_friction2' is not defined"
     ]
    }
   ],
   "source": [
    "theta_mn = SGHMC_friction2(theta0=np.ones(5), X = data, gradU = gradU3, eps=0.01, sample_size=2000, B=0.01, C=np.eye(5), batch_size=10,burnin=500)"
   ]
  },
  {
   "cell_type": "code",
   "execution_count": null,
   "metadata": {},
   "outputs": [],
   "source": [
    "np.mean(theta_mn,axis = 0)"
   ]
  },
  {
   "cell_type": "markdown",
   "metadata": {},
   "source": [
    "## Profile SGHMC2"
   ]
  },
  {
   "cell_type": "code",
   "execution_count": null,
   "metadata": {},
   "outputs": [],
   "source": [
    "profile = %prun -r -q SGHMC_friction2(theta0 = np.array([0]),X = np.zeros((50,1)), gradU = gradU, eps=0.1,sample_size=2000, B=np.array([0]),C=2*np.eye(1),batch_size = 10,burnin=500)\n",
    "profile.sort_stats('cumtime').print_stats(10)"
   ]
  },
  {
   "cell_type": "markdown",
   "metadata": {},
   "source": [
    "## Use parallel computation to test code"
   ]
  },
  {
   "cell_type": "code",
   "execution_count": null,
   "metadata": {},
   "outputs": [],
   "source": [
    "def SGHMC_parallel(theta0, X, gradU, eps, sample_size, B, C, batch_size,burnin, M = None):\n",
    "    '''\n",
    "    parallel version of SGHMC. Please set ipython Clusters before running the following code.\n",
    "    \n",
    "    SETUP:\n",
    "    ----------------------------------------------------------------------\n",
    "    Step1:\n",
    "    Open a terminal (cmd.exe) and type:\n",
    "    ipcluster start -n 4(or other specified number of engines)\n",
    "    \n",
    "    Step2: \n",
    "    Run the following code \n",
    "    \n",
    "    from ipyparallel import Client\n",
    "    rc = Client()\n",
    "    dv = rc[:]\n",
    "    n = len(rc.ids)\n",
    "    with dv.sync_imports():\n",
    "        from numpy import recarray\n",
    "    \n",
    "    dv.push(dict(gradU=gradU))\n",
    "    \n",
    "        \n",
    "    INPUT:\n",
    "    ----------------------------------------------------------------------\n",
    "    theta0: starting position of theta\n",
    "    \n",
    "    X: data\n",
    "    \n",
    "    grad_logden_data: gradient of the data log density\n",
    "    \n",
    "    grad_logden_prior: gradient of the prior log density\n",
    "    \n",
    "    eps: step size\n",
    "    \n",
    "    sample_size: number of samples drawn from prosterior distribution\n",
    "    \n",
    "    B: noise estimate\n",
    "    \n",
    "    C: user specified friction term\n",
    "    \n",
    "    batch_size: size of minibatches\n",
    "    \n",
    "    burnin: number of iterations for warm up\n",
    "    \n",
    "    M(optional): Mass matrix, defualt is set to be identity.\n",
    "    ----------------------------------------------------------------------\n",
    "    OUTPUT:\n",
    "    \n",
    "    thetat: thetas sampled from posterior distribution\n",
    "    ----------------------------------------------------------------------\n",
    "    '''\n",
    "    i = int((sample_size+n*burnin)/4)  \n",
    "\n",
    "    @dv.remote(block=True)\n",
    "    def SGHMC_friction4(theta0, X, gradU, eps, sample_size, B, C, batch_size,burnin, M = None):\n",
    "\n",
    "        i = sample_size+burnin\n",
    "        p = theta0.shape[0]\n",
    "        thetat = numpy.zeros((i+1,p))\n",
    "        thetat[0] = theta0\n",
    "\n",
    "        m1 = int(numpy.ceil(X.shape[0]/batch_size))\n",
    "        batch = [X[i::m1] for i in range(m1)]\n",
    "        m = len(batch)\n",
    "\n",
    "        if(M is None):\n",
    "            M = numpy.eye(p)\n",
    "\n",
    "        M1sqrt = numpy.linalg.cholesky(M)\n",
    "        Msqrt = numpy.linalg.cholesky(2*eps*(C-B))\n",
    "\n",
    "        for t in range(i):\n",
    "            thetai = thetat[t]\n",
    "            ri = M1sqrt@numpy.random.normal(size=p)\n",
    "            for j in range(m):\n",
    "                thetai = thetai + eps * numpy.linalg.solve(M,ri)\n",
    "                gU = gradU(X.shape[0]/batch[j].shape[0],thetai,batch[j])\n",
    "                ri = ri - eps * gU - eps * C @ numpy.linalg.solve(M, ri) + Msqrt@numpy.random.normal(size=p)\n",
    "            thetat[t+1] = thetai\n",
    "\n",
    "        return thetat[burnin+1:]\n",
    "    \n",
    "    theta = SGHMC_friction4(theta0, X, gradU, eps, i, B, C, batch_size,burnin, M)\n",
    "    return numpy.concatenate(theta)"
   ]
  },
  {
   "cell_type": "code",
   "execution_count": null,
   "metadata": {},
   "outputs": [],
   "source": [
    "from ipyparallel import Client\n",
    "rc = Client()\n",
    "dv = rc[:]\n",
    "n = len(rc.ids)\n",
    "with dv.sync_imports():\n",
    "    import numpy\n",
    "\n",
    "dv.push(dict(gradU=gradU))"
   ]
  },
  {
   "cell_type": "code",
   "execution_count": null,
   "metadata": {},
   "outputs": [],
   "source": [
    "%%time\n",
    "theta1 = SGHMC_parallel(np.array([0]),np.zeros((50,1)),gradU,0.1,10000, np.array([0]),2*np.eye(1),10,500)"
   ]
  },
  {
   "cell_type": "code",
   "execution_count": null,
   "metadata": {},
   "outputs": [],
   "source": [
    "sns.kdeplot(np.concatenate(theta1).reshape(-1,))"
   ]
  },
  {
   "cell_type": "code",
   "execution_count": null,
   "metadata": {},
   "outputs": [],
   "source": []
  },
  {
   "cell_type": "code",
   "execution_count": null,
   "metadata": {},
   "outputs": [],
   "source": []
  },
  {
   "cell_type": "code",
   "execution_count": null,
   "metadata": {},
   "outputs": [],
   "source": [
    "def std_HMC(theta0, epsilon, nmc, max_iteration):\n",
    "    '''\n",
    "    implement standard HMC\n",
    "    theta0: np.array\n",
    "    epsilon: float\n",
    "    '''\n",
    "    \n",
    "    theta_post = [theta0]\n",
    "    M = set_M(theta0)\n",
    "    m = M.shape[0] # number of parameters\n",
    "    \n",
    "    i = 1\n",
    "    while i < (nmc+1):\n",
    "        r = ri = np.random.multivariate_normal(np.zeros(m), M).reshape(-1,1)\n",
    "        \n",
    "        theta= theta0\n",
    "        \n",
    "        #simulate discretization of Hamiltonian Dynamics\n",
    "        r = r - epsilon * grad_U(theta)/2\n",
    "        \n",
    "        for j in range(max_iteration):\n",
    "            theta = theta + epsilon * np.linalg.inv(M) @ r\n",
    "            r = r - epsilon * grad_U(theta)\n",
    "        \n",
    "        # MH correction\n",
    "        u = np.random.rand()\n",
    "        ro = np.exp(H(theta, r, M) - H(theta_post[i-1], ri, M))\n",
    "        if u < min(1,ro):\n",
    "            theta_post.append(theta[0,0])\n",
    "            i += 1\n",
    "            \n",
    "    return theta_post[1:]"
   ]
  },
  {
   "cell_type": "code",
   "execution_count": null,
   "metadata": {},
   "outputs": [],
   "source": [
    "x = std_HMC(np.array([1]), 0.01, 1000, 100)"
   ]
  },
  {
   "cell_type": "markdown",
   "metadata": {},
   "source": [
    "# Stochastic Gradient HMC with Naive Approach"
   ]
  },
  {
   "cell_type": "markdown",
   "metadata": {},
   "source": [
    "The Naive approach refers to the simple plug-in estimator of $\\triangledown \\tilde{U}(\\theta) = -\\frac{|D|}{|\\tilde{D}|}\\sum_{x \\in \\tilde{D}} \\triangledown log p(x|\\theta) - \\triangledown log p(\\theta)$ with minibatch $\\tilde{D}$. $\\triangledown \\tilde{U}(\\theta)$ is computationally easier, but then the resulting joint distribution $\\pi(\\theta, r)$ is not invariant."
   ]
  },
  {
   "cell_type": "code",
   "execution_count": null,
   "metadata": {},
   "outputs": [],
   "source": []
  },
  {
   "cell_type": "markdown",
   "metadata": {},
   "source": [
    "The Hamiltonian Dynamics are:\n",
    "$$d\\theta = M^{-1}r dt\\\\ dr=-\\triangledown U(\\theta) dt + N(0,2B(\\theta)) dt$$\n",
    "where $B(\\theta) = \\frac{1}{2}\\epsilon V(\\theta)$"
   ]
  },
  {
   "cell_type": "markdown",
   "metadata": {},
   "source": [
    "# need to find covariance of the stochastic gradient noise"
   ]
  },
  {
   "cell_type": "markdown",
   "metadata": {},
   "source": [
    "Since $\\epsilon$ is small, it does not really matter that V is. Thus we take V as identity."
   ]
  },
  {
   "cell_type": "markdown",
   "metadata": {},
   "source": [
    "### Implement Naive SGHMC"
   ]
  },
  {
   "cell_type": "markdown",
   "metadata": {},
   "source": [
    "# SGHMC with Friction"
   ]
  },
  {
   "cell_type": "markdown",
   "metadata": {},
   "source": [
    "Add friction term to momentum update:\n",
    "$$\n",
    "d\\theta = M^{-1}r dt\\\\\n",
    "dr = - \\triangledown U(\\theta)dt - BM^{-1}rdt+N(0,2Bdt)\n",
    "$$"
   ]
  },
  {
   "cell_type": "markdown",
   "metadata": {},
   "source": [
    "# new proposal for SGHMC with friction"
   ]
  },
  {
   "cell_type": "code",
   "execution_count": null,
   "metadata": {},
   "outputs": [],
   "source": [
    "def SGHMC_friction(theta0, X, grad_logden_data, grad_logden_prior, V, eps, i, C, batch_size, M = None):\n",
    "    '''\n",
    "    SGHMC with friction:\n",
    "    theta0(numpy array): starting position of theta (p,)\n",
    "    X: data (n,m)\n",
    "    grad_logden_data: gradient of the data log density (p,)\n",
    "    grad_logden_prior: gradient of the prior log density (p,)\n",
    "    V: estimated finsher information, (p,p)\n",
    "    eps: step size\n",
    "    i: number of iterations\n",
    "    C: user specified friction term\n",
    "    batch_size: size of minibatches\n",
    "    M: Mass matrix\n",
    "    '''\n",
    "    \n",
    "    def minib(x, batch_size):\n",
    "        '''\n",
    "        create minibatchs of x\n",
    "        x: data\n",
    "        batch_size: size of minibatch, if len(x)/batch_size is not integer, some batches wille have smaller sizes\n",
    "        \n",
    "        output: list of np.array of batchs [[batch_size,],...,[]]\n",
    "        '''\n",
    "        m = np.ceil(x.shape[0]/batch_size)\n",
    "        np.random.shuffle(x)\n",
    "\n",
    "        return np.array_split(x, m)\n",
    "    \n",
    "    def grad_U(grad_log_data, grad_log_prior, batch, theta, n):\n",
    "        '''compute the gradient of U of batch'''\n",
    "        \n",
    "        return -(n*grad_log_data(batch,theta)/batch.shape[0]+grad_log_prior(theta))\n",
    "    \n",
    "    n, m = X.shape\n",
    "    p = theta0.shape[0] # dim of theta\n",
    "    \n",
    "    # samples\n",
    "    thetat = np.zeros((i+1,p)) # (#samples,p)\n",
    "    thetat[0] = theta0 # set initial\n",
    "    batch = minib(X, batch_size) # m-list of (batch_size,)\n",
    "    m = len(batch)\n",
    "    B = 1/2*eps*V\n",
    "    \n",
    "    \n",
    "    if(M is None):\n",
    "        M = np.eye(p)\n",
    "    \n",
    "    for t in range(i):\n",
    "        ri = np.random.multivariate_normal(np.zeros(p), M)\n",
    "        thetai = thetat[t]\n",
    "        for j in range(m):\n",
    "            bat = batch[j] # batch_j\n",
    "            thetai = thetai + eps * np.linalg.inv(M) @ ri\n",
    "            gU = grad_U(grad_logden_data,grad_logden_prior,bat,thetai,n)\n",
    "            ri = ri - eps * gU - eps * C @ ri + la.sqrtm(2*(C-B)*eps) @ np.random.multivariate_normal(np.zeros(p), M)\n",
    "        thetat[t+1] = thetai + eps * np.linalg.inv(M) @ ri\n",
    "    \n",
    "    return thetat[200:thetat.shape[0]]\n",
    "        "
   ]
  },
  {
   "cell_type": "code",
   "execution_count": null,
   "metadata": {},
   "outputs": [],
   "source": [
    "def SGHMC_friction(theta0, X, grad_logden_data, grad_logden_prior, V, eps, i, C, batch_size, M = None):\n",
    "    '''\n",
    "    SGHMC with friction:\n",
    "    theta0(numpy array): starting position of theta (p,)\n",
    "    X: data (n,m)\n",
    "    grad_logden_data: gradient of the data log density (p,)\n",
    "    grad_logden_prior: gradient of the prior log density (p,)\n",
    "    V: estimated finsher information, (p,p)\n",
    "    eps: step size\n",
    "    i: number of iterations\n",
    "    C: user specified friction term\n",
    "    batch_size: size of minibatches\n",
    "    M: Mass matrix\n",
    "    '''\n",
    "    \n",
    "    def minib(x, batch_size):\n",
    "        '''\n",
    "        create minibatchs of x\n",
    "        x: data\n",
    "        batch_size: size of minibatch, if len(x)/batch_size is not integer, some batches wille have smaller sizes\n",
    "        \n",
    "        output: list of np.array of batchs [[batch_size,],...,[]]\n",
    "        '''\n",
    "        m = np.ceil(x.shape[0]/batch_size)\n",
    "        np.random.shuffle(x)\n",
    "\n",
    "        return np.array_split(x, m)\n",
    "    \n",
    "    def grad_U(grad_log_data, grad_log_prior, batch, theta, n):\n",
    "        '''compute the gradient of U of batch'''\n",
    "        \n",
    "        return -(n*grad_log_data(batch,theta)/batch.shape[0]+grad_log_prior(theta))\n",
    "    \n",
    "    n, m = X.shape\n",
    "    p = theta0.shape[0] # dim of theta\n",
    "    \n",
    "    # samples\n",
    "    thetat = np.zeros((i+1,p)) # (#samples,p)\n",
    "    thetat[0] = theta0 # set initial\n",
    "    batch = minib(X, batch_size) # m-list of (batch_size,)\n",
    "    m = len(batch)\n",
    "    B = 1/2*eps*V\n",
    "    \n",
    "    sqm = np.linalg.cholesky(2*(C-B)*eps)\n",
    "    \n",
    "    if(M is None):\n",
    "        M = np.eye(p)\n",
    "    \n",
    "    for t in range(i):\n",
    "        ri = np.random.multivariate_normal(np.zeros(p), M)\n",
    "        thetai = thetat[t]\n",
    "        for j in range(m):\n",
    "            bat = batch[j] # batch_j\n",
    "            thetai = thetai + eps * np.linalg.inv(M) @ ri\n",
    "            gU = grad_U(grad_logden_data,grad_logden_prior,bat,thetai,n)\n",
    "            ri = ri - eps * gU - eps * C @ ri + sqm @ np.random.normal(size=p)\n",
    "        thetat[t+1] = thetai + eps * np.linalg.inv(M) @ ri\n",
    "    \n",
    "    return thetat[200:thetat.shape[0]]\n",
    "        "
   ]
  },
  {
   "cell_type": "code",
   "execution_count": null,
   "metadata": {},
   "outputs": [],
   "source": [
    "def grad_logden_data(x,theta):\n",
    "    return -(-4*theta+4*theta**3)/50"
   ]
  },
  {
   "cell_type": "code",
   "execution_count": null,
   "metadata": {},
   "outputs": [],
   "source": [
    "def grad_prior(theta):\n",
    "    return 0"
   ]
  },
  {
   "cell_type": "code",
   "execution_count": null,
   "metadata": {},
   "outputs": [],
   "source": [
    "np.zeros(1)"
   ]
  },
  {
   "cell_type": "code",
   "execution_count": null,
   "metadata": {},
   "outputs": [],
   "source": [
    "theta = SGHMC_friction(theta0 = np.array([0]),X = np.zeros((50,1)),grad_logden_data = grad_logden_data,grad_logden_prior = grad_prior,\n",
    "                V = np.eye(1)*0, eps=0.1,i=2000,C=2*np.eye(1),batch_size = 10)"
   ]
  },
  {
   "cell_type": "code",
   "execution_count": null,
   "metadata": {},
   "outputs": [],
   "source": [
    "sns.kdeplot(theta[:,0])"
   ]
  },
  {
   "cell_type": "markdown",
   "metadata": {},
   "source": [
    "## take simulated data from normal distribution as example"
   ]
  },
  {
   "cell_type": "markdown",
   "metadata": {},
   "source": [
    "Simulate 1000 samples from N($\\mu=10$,100). We want to sample $\\mu$ from the posterior $p(\\mu|D)$."
   ]
  },
  {
   "cell_type": "code",
   "execution_count": null,
   "metadata": {},
   "outputs": [],
   "source": [
    "x = np.random.normal(10,10,1000)"
   ]
  },
  {
   "cell_type": "code",
   "execution_count": null,
   "metadata": {},
   "outputs": [],
   "source": [
    "theta = np.linspace(-2,2,100)\n",
    "p = np.exp(2*theta**2-theta**4)\n",
    "fig, ax = plt.subplots()\n",
    "ax.plot(theta,p,label = \"true distribution\")\n",
    "ax.legend(loc= \"upper center\")"
   ]
  },
  {
   "cell_type": "markdown",
   "metadata": {},
   "source": [
    "# 2nd example of mixture normal"
   ]
  },
  {
   "cell_type": "markdown",
   "metadata": {},
   "source": [
    "Suppose we want to sample $x \\sim 0.5N(5,1)+0.5N(-5,1)$. We want to sample from SGHMC."
   ]
  },
  {
   "cell_type": "code",
   "execution_count": null,
   "metadata": {},
   "outputs": [],
   "source": [
    "mu = np.array([5, -5]).reshape(2,1)\n",
    "nmc = 200\n",
    "x = np.r_[np.random.normal(mu[0], 1, nmc),np.random.normal(mu[1], 1, nmc)]"
   ]
  },
  {
   "cell_type": "code",
   "execution_count": null,
   "metadata": {},
   "outputs": [],
   "source": [
    "# define gradient of log p(x|theta)\n",
    "def grad_log_p(x, mu):\n",
    "    '''compute gradient of log p(x|theta)'''\n",
    "    \n",
    "    #gd = np.c_[x-mu[0], x-mu[1]]\n",
    "    #return np.sum(gd, axis = 0)\n",
    "    exp1=np.exp(-0.5*(x-mu[0])**2)\n",
    "    exp2=np.exp(-0.5*(x-mu[1])**2)\n",
    "    \n",
    "    v = np.c_[exp1*(x-mu[0]),exp2*(x-mu[1])]\n",
    "    return np.sum(v/(exp1+exp2),axis=0)\n",
    "\n",
    "# define gradient of log prior of theta\n",
    "def grad_log_prior(mu):\n",
    "    '''compute gradient of log prior'''\n",
    "    \n",
    "    return -(np.sum(mu)/10)"
   ]
  },
  {
   "cell_type": "code",
   "execution_count": null,
   "metadata": {},
   "outputs": [],
   "source": [
    "sim_mn = SGHMC_friction(theta0=np.array([1,1]), X = x[:,None], grad_logden_data=grad_log_p, grad_logden_prior=grad_log_prior, V=np.eye(2), eps=0.01, i=5000, C=np.eye(2), batch_size=50)"
   ]
  },
  {
   "cell_type": "code",
   "execution_count": null,
   "metadata": {},
   "outputs": [],
   "source": [
    "kdeplt2 = sns.kdeplot(sim_mn[:,0],sim_mn[:,1]) "
   ]
  },
  {
   "cell_type": "markdown",
   "metadata": {},
   "source": [
    "# HMC in linear model"
   ]
  },
  {
   "cell_type": "code",
   "execution_count": null,
   "metadata": {},
   "outputs": [],
   "source": [
    "# simulated results for linear model, n = #{obs} = 100, p = 4 (p*p X matrix), s2 = 1, coef = [1,2,3,4]^T\n",
    "n, p = 100, 4\n",
    "s2 = 1\n",
    "X = np.c_[np.random.normal(size=n), np.random.normal(size=n), np.random.normal(size=n)]\n",
    "noise = np.random.normal(size=n).reshape(-1,1)\n",
    "beta = np.array([2,3,4]).reshape(-1,1)\n",
    "alpha = 1\n",
    "\n",
    "Y = X @ beta + alpha + noise"
   ]
  },
  {
   "cell_type": "code",
   "execution_count": null,
   "metadata": {},
   "outputs": [],
   "source": [
    "# set up priors for elements in beta and s2\n",
    "alpha_prior_m = 0\n",
    "alpha_prior_sd = 10\n",
    "\n",
    "beta_prior_m = 0\n",
    "beta_prior_sd = 10\n",
    "\n",
    "logs2_prior_m = 0\n",
    "logs2_prior_sd = 2\n",
    "\n",
    "data = np.c_[Y,X]"
   ]
  },
  {
   "cell_type": "code",
   "execution_count": null,
   "metadata": {},
   "outputs": [],
   "source": [
    "def logposterior(parameter, data, alpha_prior_m=0, alpha_prior_sd=1, beta_prior_m=0, beta_prior_sd=1, logs2_prior_m=0, logs2_prior_sd=1):\n",
    "    '''\n",
    "    \n",
    "    Compute the log density of data and gradient of log density of data\n",
    "    Parameter: beta and log variance (p+1,1)\n",
    "    X: data matrix (n,p)\n",
    "    Y: response (n,1)\n",
    "    ..._prior_m = prior mean of elts in parameters\n",
    "    ..._prior_sd = prior standard error of elts in parameters\n",
    "    \n",
    "    '''\n",
    "    \n",
    "    def normal_prior(p, mu, s):\n",
    "        '''compute the log prior and gradient of log prior'''\n",
    "        Z = (p-mu)/s\n",
    "        logpdf = np.sum(-np.log(s) - 0.5*np.log(2*np.pi)-0.5*Z**2, axis=0)\n",
    "        grad_logpdf = -Z/s\n",
    "        \n",
    "        return logpdf.reshape(-1,1), grad_logpdf.reshape(-1,1)\n",
    "    \n",
    "    Y = data[:,0].reshape(-1,1)\n",
    "    X = data[:,1:]\n",
    "    \n",
    "    alpha = parameter[0]\n",
    "    beta = parameter[1:parameter.shape[0]-1]\n",
    "    beta = beta.reshape(-1,1)\n",
    "    logs2 = parameter[parameter.shape[0]-1]\n",
    "    \n",
    "    # compute log likelihood and gradient\n",
    "    sigma = np.sqrt(np.exp(logs2))\n",
    "    mu = X @ beta + alpha\n",
    "    Z = (Y-mu)/sigma\n",
    "    \n",
    "    loglik = np.sum(-np.log(sigma)-0.5*np.log(2*np.pi)-0.5*Z**2)\n",
    "    \n",
    "    grad_alpha1 = np.sum(Z/sigma)\n",
    "    grad_beta1 = X.T @ Z/sigma\n",
    "    grad_logs21 = np.sum(-0.5 + 0.5*Z**2)\n",
    "    \n",
    "    # compute log priors and gradient\n",
    "    log_prior_alpha, grad_lp_alpha = normal_prior(alpha, alpha_prior_m, alpha_prior_sd)\n",
    "    log_prior_beta, grad_lp_beta = normal_prior(beta, beta_prior_m, beta_prior_sd)\n",
    "    log_prior_logs2, grad_lp_logs2 = normal_prior(logs2, logs2_prior_m, logs2_prior_sd)\n",
    "    log_prior = log_prior_alpha + log_prior_beta + log_prior_logs2 # '+' in matlab\n",
    "    \n",
    "    # log posterior and gradient\n",
    "    log_post = loglik + log_prior\n",
    "    grad_alpha = grad_alpha1 + grad_lp_alpha\n",
    "    grad_beta = grad_beta1 + grad_lp_beta\n",
    "    grad_logs2 = grad_logs21 + grad_lp_logs2\n",
    "    grad_log_post = np.hstack((grad_alpha[0], grad_beta[:,0], grad_logs2[0]))\n",
    "    \n",
    "    return grad_log_post"
   ]
  },
  {
   "cell_type": "code",
   "execution_count": null,
   "metadata": {},
   "outputs": [],
   "source": [
    "glp = logposterior(np.array([1,2,3,4,2]), data)"
   ]
  },
  {
   "cell_type": "code",
   "execution_count": null,
   "metadata": {},
   "outputs": [],
   "source": [
    "glp"
   ]
  },
  {
   "cell_type": "code",
   "execution_count": null,
   "metadata": {},
   "outputs": [],
   "source": [
    "def gradU3(scale,theta,batch):\n",
    "    '''compute gradient of U for linear model'''\n",
    "    \n",
    "    return - scale*logposterior(theta, batch)"
   ]
  },
  {
   "cell_type": "code",
   "execution_count": null,
   "metadata": {},
   "outputs": [],
   "source": [
    "gradU3(1,np.ones(5),data)"
   ]
  },
  {
   "cell_type": "code",
   "execution_count": null,
   "metadata": {},
   "outputs": [],
   "source": [
    "# try linear model hmc\n",
    "def SGHMC_friction2(theta0, X, gradU, eps, i, B, C, batch_size,burnin,seed=1, M = None):\n",
    "    '''\n",
    "    SGHMC with friction:\n",
    "    theta0(numpy array): starting position of theta\n",
    "    X: data\n",
    "    grad_logden_data: gradient of the data log density\n",
    "    grad_logden_prior: gradient of the prior log density\n",
    "    eps: step size\n",
    "    i: number of iterations\n",
    "    B: noise estimate\n",
    "    C: user specified friction term\n",
    "    batch_size: size of minibatches\n",
    "    M: Mass matrix\n",
    "    '''\n",
    "    \n",
    "    #def minib(x, batch_size):\n",
    "    #    '''\n",
    "    #    create minibatchs of x\n",
    "    #    x: data\n",
    "    #    batch_size: size of minibatch, if len(x)/batch_size is not integer, some batches wille have smaller sizes\n",
    "    #    '''\n",
    "    #    m = np.ceil(x.shape[0]/batch_size)\n",
    "    #    np.random.shuffle(x)\n",
    "    #\n",
    "    #    return np.array_split(x, m)\n",
    "    \n",
    "    m1 = int(np.ceil(X.shape[0]/batch_size))\n",
    "    batch = [X[i::m1] for i in range(m1)]\n",
    "    m = len(batch)\n",
    "    \n",
    "    i = sample_size+burnin\n",
    "    \n",
    "    p = theta0.shape[0]\n",
    "    thetat = np.zeros((i+1,p))\n",
    "    thetat[0,:] = theta0\n",
    "    \n",
    "\n",
    "    if(M is None):\n",
    "        M = np.eye(p)\n",
    "    \n",
    "    for t in range(i):\n",
    "        ri = np.random.multivariate_normal(np.zeros(p), M).reshape(-1,1)\n",
    "        thetai = thetat[t,:].reshape(-1,1)\n",
    "        for j in range(m):\n",
    "            thetai = thetai + eps * np.linalg.inv(M) @ ri\n",
    "            gU = gradU(X.shape[0]/batch[j].shape[0], thetai, batch[j]) # (5,1)\n",
    "            ri = ri - eps * gU.reshape(-1,1) - eps * C @ np.linalg.inv(M) @ ri + np.random.multivariate_normal(np.zeros(p), np.array(2*eps*(C-B)).reshape(p,p)).reshape(-1,1)\n",
    "        thetat[t+1,:] = thetai.reshape(-1,p)\n",
    "    \n",
    "    return thetat[burnin+1:,]"
   ]
  },
  {
   "cell_type": "code",
   "execution_count": null,
   "metadata": {},
   "outputs": [],
   "source": [
    "a = SGHMC_friction2(np.ones(5), data, gradU3, 0.01, 1000, 0*np.eye(5), np.eye(5), batch_size=20,burnin=100,seed=1)"
   ]
  },
  {
   "cell_type": "code",
   "execution_count": null,
   "metadata": {},
   "outputs": [],
   "source": [
    "theta_mn = SGHMC_friction(theta0=np.ones(5), X = data, gradU = gradU3, eps=0.01, sample_size=1000, B=0*np.eye(5), C=np.eye(5), batch_size=20,burnin=100)"
   ]
  },
  {
   "cell_type": "code",
   "execution_count": null,
   "metadata": {},
   "outputs": [],
   "source": [
    "np.mean(a,axis=0)"
   ]
  },
  {
   "cell_type": "code",
   "execution_count": null,
   "metadata": {},
   "outputs": [],
   "source": []
  }
 ],
 "metadata": {
  "kernelspec": {
   "display_name": "Python 3",
   "language": "python",
   "name": "python3"
  },
  "language_info": {
   "codemirror_mode": {
    "name": "ipython",
    "version": 3
   },
   "file_extension": ".py",
   "mimetype": "text/x-python",
   "name": "python",
   "nbconvert_exporter": "python",
   "pygments_lexer": "ipython3",
   "version": "3.7.4"
  }
 },
 "nbformat": 4,
 "nbformat_minor": 2
}

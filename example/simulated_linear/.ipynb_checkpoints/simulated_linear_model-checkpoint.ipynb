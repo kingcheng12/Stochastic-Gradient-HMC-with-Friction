{
 "cells": [
  {
   "cell_type": "code",
   "execution_count": 1,
   "metadata": {},
   "outputs": [],
   "source": [
    "import scipy.stats as sta\n",
    "import seaborn as sns\n",
    "import numpy as np\n",
    "import matplotlib.pyplot as plt\n",
    "from numba import jit,vectorize\n",
    "from ipyparallel import Client\n",
    "import random\n",
    "import numpy"
   ]
  },
  {
   "cell_type": "code",
   "execution_count": 2,
   "metadata": {},
   "outputs": [],
   "source": [
    "from sghmc.module import SGHMC, SGHMC_parallel"
   ]
  },
  {
   "cell_type": "code",
   "execution_count": 3,
   "metadata": {},
   "outputs": [],
   "source": [
    "# simulated results for linear model, n = #{obs} = 100, p = 4 (p*p X matrix), s2 = 1, coef = [1,2,3,4]^T\n",
    "n, p = 100, 3\n",
    "s2 = 1\n",
    "X = np.c_[np.random.normal(size=n), np.random.normal(size=n), np.random.normal(size=n)]\n",
    "noise = np.random.normal(size=n).reshape(-1,1)\n",
    "beta = np.array([2,3,4]).reshape(-1,1)\n",
    "alpha = 1\n",
    "\n",
    "Y = X @ beta + alpha + noise\n",
    "data = np.c_[Y,X]"
   ]
  },
  {
   "cell_type": "code",
   "execution_count": 4,
   "metadata": {},
   "outputs": [],
   "source": [
    "def gradU3(scale,theta,batch):\n",
    "    '''compute gradient of U for linear model'''\n",
    "    \n",
    "    def logposterior(parameter, data, alpha_prior_m=0, alpha_prior_sd=10, beta_prior_m=1, beta_prior_sd=10, logs2_prior_m=0, logs2_prior_sd=10):\n",
    "        '''\n",
    "    \n",
    "        Compute the log density of data and gradient of log density of data\n",
    "        Parameter: beta and log variance (p+1,1)\n",
    "        X: data matrix (n,p)\n",
    "        Y: response (n,1)\n",
    "        ..._prior_m = prior mean of elts in parameters\n",
    "        ..._prior_sd = prior standard error of elts in parameters\n",
    "    \n",
    "        '''\n",
    "    \n",
    "        def normal_prior(p, mu, s):\n",
    "            '''compute the log prior and gradient of log prior'''\n",
    "            Z = (p-mu)/s\n",
    "            logpdf = numpy.sum(-numpy.log(s) - 0.5*numpy.log(2*numpy.pi)-0.5*Z**2, axis=0)\n",
    "            grad_logpdf = -Z/s\n",
    "        \n",
    "            return logpdf.reshape(-1,1), grad_logpdf.reshape(-1,1)\n",
    "    \n",
    "        Y = data[:,0].reshape(-1,1)\n",
    "        X = data[:,1:]\n",
    "    \n",
    "        alpha = parameter[0]\n",
    "        beta = parameter[1:parameter.shape[0]-1]\n",
    "        beta = beta.reshape(-1,1)\n",
    "        logs2 = parameter[parameter.shape[0]-1]\n",
    "    \n",
    "        # compute log likelihood and gradient\n",
    "        sigma = numpy.sqrt(numpy.exp(logs2))\n",
    "        mu = X @ beta + alpha\n",
    "        Z = (Y-mu)/sigma\n",
    "    \n",
    "        grad_alpha1 = numpy.sum(Z/sigma)\n",
    "        grad_beta1 = X.T @ Z/sigma\n",
    "        grad_logs21 = numpy.sum(-0.5 + 0.5*Z**2)\n",
    "    \n",
    "        # compute log priors and gradient\n",
    "        log_prior_alpha, grad_lp_alpha = normal_prior(alpha, alpha_prior_m, alpha_prior_sd)\n",
    "        log_prior_beta, grad_lp_beta = normal_prior(beta, beta_prior_m, beta_prior_sd)\n",
    "        log_prior_logs2, grad_lp_logs2 = normal_prior(logs2, logs2_prior_m, logs2_prior_sd)\n",
    "        log_prior = log_prior_alpha + log_prior_beta + log_prior_logs2 # '+' in matlab\n",
    "    \n",
    "        # log posterior and gradient\n",
    "        grad_alpha = grad_alpha1 + grad_lp_alpha\n",
    "        grad_beta = grad_beta1 + grad_lp_beta\n",
    "        grad_logs2 = grad_logs21 + grad_lp_logs2\n",
    "        grad_log_post = numpy.hstack((grad_alpha[0], grad_beta[:,0], grad_logs2[0]))\n",
    "    \n",
    "        return grad_log_post\n",
    "    \n",
    "    return - scale*logposterior(theta, batch)"
   ]
  },
  {
   "cell_type": "code",
   "execution_count": 5,
   "metadata": {},
   "outputs": [],
   "source": [
    "theta1 = SGHMC(theta0=np.ones(5), X = data, gradU = gradU3, eps=0.01, sample_size=2000, B=0.01, C=np.eye(5), batch_size=20,burnin=500)"
   ]
  },
  {
   "cell_type": "code",
   "execution_count": 6,
   "metadata": {},
   "outputs": [],
   "source": [
    "para_est = np.mean(theta1,axis = 0)\n",
    "# compute estimate\n",
    "Y_est = para_est[0] + X @ para_est[1:4].reshape(-1,1)\n",
    "rmse = np.sqrt(np.sum((Y-Y_est)**2))"
   ]
  },
  {
   "cell_type": "code",
   "execution_count": 7,
   "metadata": {},
   "outputs": [
    {
     "data": {
      "image/png": "[encoded data removed]",
      "text/plain": [
       "<Figure size 432x288 with 1 Axes>"
      ]
     },
     "metadata": {
      "needs_background": "light"
     },
     "output_type": "display_data"
    }
   ],
   "source": [
    "plt.scatter(Y,Y_est)\n",
    "plt.xlabel('True y')\n",
    "plt.ylabel('estimated y')\n",
    "plt.title('Plot true Y against estimated Y')\n",
    "plt.savefig('sim_lm_error.png')"
   ]
  },
  {
   "cell_type": "code",
   "execution_count": 8,
   "metadata": {},
   "outputs": [
    {
     "name": "stdout",
     "output_type": "stream",
     "text": [
      "importing numpy on engine(s)\n"
     ]
    }
   ],
   "source": [
    "theta2 = SGHMC_parallel(theta0=np.ones(5), X = data, gradU = gradU3, eps=0.01, sample_size=2000, B=0.01, C=np.eye(5), batch_size=20,burnin=500)"
   ]
  },
  {
   "cell_type": "code",
   "execution_count": 9,
   "metadata": {},
   "outputs": [],
   "source": [
    "para_est = np.mean(theta2,axis = 0)\n",
    "# compute estimate\n",
    "Y_est = para_est[0] + X @ para_est[1:4].reshape(-1,1)\n",
    "rmse = np.sqrt(np.sum((Y-Y_est)**2))"
   ]
  },
  {
   "cell_type": "code",
   "execution_count": 10,
   "metadata": {},
   "outputs": [
    {
     "data": {
      "text/plain": [
       "Text(0, 0.5, 'estimated y')"
      ]
     },
     "execution_count": 10,
     "metadata": {},
     "output_type": "execute_result"
    },
    {
     "data": {
      "image/png": "[encoded data removed]",
      "text/plain": [
       "<Figure size 432x288 with 1 Axes>"
      ]
     },
     "metadata": {
      "needs_background": "light"
     },
     "output_type": "display_data"
    }
   ],
   "source": [
    "plt.scatter(Y,Y_est)\n",
    "plt.xlabel('True y')\n",
    "plt.ylabel('estimated y')"
   ]
  },
  {
   "cell_type": "code",
   "execution_count": null,
   "metadata": {},
   "outputs": [],
   "source": []
  }
 ],
 "metadata": {
  "kernelspec": {
   "display_name": "Python 3",
   "language": "python",
   "name": "python3"
  },
  "language_info": {
   "codemirror_mode": {
    "name": "ipython",
    "version": 3
   },
   "file_extension": ".py",
   "mimetype": "text/x-python",
   "name": "python",
   "nbconvert_exporter": "python",
   "pygments_lexer": "ipython3",
   "version": "3.7.4"
  }
 },
 "nbformat": 4,
 "nbformat_minor": 2
}

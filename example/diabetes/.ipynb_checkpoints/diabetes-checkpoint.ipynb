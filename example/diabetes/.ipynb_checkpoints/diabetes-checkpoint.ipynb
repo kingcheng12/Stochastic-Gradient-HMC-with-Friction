{
 "cells": [
  {
   "cell_type": "code",
   "execution_count": 2,
   "metadata": {},
   "outputs": [],
   "source": [
    "import scipy.stats as sta\n",
    "import seaborn as sns\n",
    "import numpy as np\n",
    "import matplotlib.pyplot as plt\n",
    "from numba import jit,vectorize\n",
    "from ipyparallel import Client\n",
    "import random\n",
    "import numpy"
   ]
  },
  {
   "cell_type": "code",
   "execution_count": 3,
   "metadata": {},
   "outputs": [],
   "source": [
    "from sghmc.module import SGHMC, SGHMC_parallel"
   ]
  },
  {
   "cell_type": "code",
   "execution_count": 4,
   "metadata": {},
   "outputs": [],
   "source": [
    "import pandas as pd\n",
    "dieb = pd.read_fwf('diab.txt')\n",
    "dieb = dieb.drop(\"Unnamed: 6\", axis=1)\n",
    "dieb = dieb.drop(\"diabetes\", axis=1)\n",
    "dieb = dieb[['glu','npreg','bp skin','bmi','ped age']]\n",
    "data = dieb.to_numpy()\n",
    "X = data[:,1:]\n",
    "glu = data[:,0]"
   ]
  },
  {
   "cell_type": "code",
   "execution_count": 5,
   "metadata": {},
   "outputs": [],
   "source": [
    "def gradU3(scale,theta,batch):\n",
    "    '''compute gradient of U for linear model'''\n",
    "    \n",
    "    def logposterior(parameter, data, alpha_prior_m=0, alpha_prior_sd=10, beta_prior_m=1, beta_prior_sd=10, logs2_prior_m=0, logs2_prior_sd=10):\n",
    "        '''\n",
    "    \n",
    "        Compute the log density of data and gradient of log density of data\n",
    "        Parameter: beta and log variance (p+1,1)\n",
    "        X: data matrix (n,p)\n",
    "        Y: response (n,1)\n",
    "        ..._prior_m = prior mean of elts in parameters\n",
    "        ..._prior_sd = prior standard error of elts in parameters\n",
    "    \n",
    "        '''\n",
    "    \n",
    "        def normal_prior(p, mu, s):\n",
    "            '''compute the log prior and gradient of log prior'''\n",
    "            Z = (p-mu)/s\n",
    "            logpdf = numpy.sum(-numpy.log(s) - 0.5*numpy.log(2*numpy.pi)-0.5*Z**2, axis=0)\n",
    "            grad_logpdf = -Z/s\n",
    "        \n",
    "            return logpdf.reshape(-1,1), grad_logpdf.reshape(-1,1)\n",
    "    \n",
    "        Y = data[:,0].reshape(-1,1)\n",
    "        X = data[:,1:]\n",
    "    \n",
    "        alpha = parameter[0]\n",
    "        beta = parameter[1:parameter.shape[0]-1]\n",
    "        beta = beta.reshape(-1,1)\n",
    "        logs2 = parameter[parameter.shape[0]-1]\n",
    "    \n",
    "        # compute log likelihood and gradient\n",
    "        sigma = numpy.sqrt(numpy.exp(logs2))\n",
    "        mu = X @ beta + alpha\n",
    "        Z = (Y-mu)/sigma\n",
    "    \n",
    "        grad_alpha1 = numpy.sum(Z/sigma)\n",
    "        grad_beta1 = X.T @ Z/sigma\n",
    "        grad_logs21 = numpy.sum(-0.5 + 0.5*Z**2)\n",
    "    \n",
    "        # compute log priors and gradient\n",
    "        log_prior_alpha, grad_lp_alpha = normal_prior(alpha, alpha_prior_m, alpha_prior_sd)\n",
    "        log_prior_beta, grad_lp_beta = normal_prior(beta, beta_prior_m, beta_prior_sd)\n",
    "        log_prior_logs2, grad_lp_logs2 = normal_prior(logs2, logs2_prior_m, logs2_prior_sd)\n",
    "        log_prior = log_prior_alpha + log_prior_beta + log_prior_logs2 # '+' in matlab\n",
    "    \n",
    "        # log posterior and gradient\n",
    "        grad_alpha = grad_alpha1 + grad_lp_alpha\n",
    "        grad_beta = grad_beta1 + grad_lp_beta\n",
    "        grad_logs2 = grad_logs21 + grad_lp_logs2\n",
    "        grad_log_post = numpy.hstack((grad_alpha[0], grad_beta[:,0], grad_logs2[0]))\n",
    "    \n",
    "        return grad_log_post\n",
    "    \n",
    "    return - scale*logposterior(theta, batch)"
   ]
  },
  {
   "cell_type": "code",
   "execution_count": 6,
   "metadata": {},
   "outputs": [],
   "source": [
    "theta1 = SGHMC(theta0=np.ones(6), X = data, gradU = gradU3, eps=0.01, sample_size=2000, B=0.01, C=np.eye(6), batch_size=20,burnin=500)"
   ]
  },
  {
   "cell_type": "code",
   "execution_count": 7,
   "metadata": {},
   "outputs": [
    {
     "data": {
      "text/plain": [
       "array([3.32618964, 0.92165288, 0.84335874, 0.14128639, 1.48522367])"
      ]
     },
     "execution_count": 7,
     "metadata": {},
     "output_type": "execute_result"
    }
   ],
   "source": [
    "post_coef_m = np.mean(theta1, axis=0)\n",
    "est_coef = post_coef_m[:post_coef_m.shape[0]-1]\n",
    "est_coef"
   ]
  },
  {
   "cell_type": "code",
   "execution_count": 8,
   "metadata": {},
   "outputs": [],
   "source": [
    "est_glu = est_coef[0] + X @ est_coef[1:]"
   ]
  },
  {
   "cell_type": "code",
   "execution_count": 9,
   "metadata": {},
   "outputs": [
    {
     "data": {
      "image/png": "[encoded data removed]",
      "text/plain": [
       "<Figure size 432x288 with 1 Axes>"
      ]
     },
     "metadata": {
      "needs_background": "light"
     },
     "output_type": "display_data"
    }
   ],
   "source": [
    "plt.scatter(glu,est_glu)\n",
    "plt.xlabel('True glu')\n",
    "plt.ylabel('estimated glu')\n",
    "plt.title('Plot true glu against estimated glu')\n",
    "plt.savefig('glu_estimation.png')"
   ]
  },
  {
   "cell_type": "code",
   "execution_count": 10,
   "metadata": {},
   "outputs": [
    {
     "name": "stdout",
     "output_type": "stream",
     "text": [
      "importing numpy on engine(s)\n"
     ]
    }
   ],
   "source": [
    "theta2 = SGHMC_parallel(theta0=np.ones(6), X = data, gradU = gradU3, eps=0.01, sample_size=2000, B=0.01, C=np.eye(6), batch_size=20,burnin=500)"
   ]
  },
  {
   "cell_type": "code",
   "execution_count": 11,
   "metadata": {},
   "outputs": [
    {
     "data": {
      "text/plain": [
       "array([2.88205183, 0.98478238, 0.84581056, 0.14796559, 1.47932217])"
      ]
     },
     "execution_count": 11,
     "metadata": {},
     "output_type": "execute_result"
    }
   ],
   "source": [
    "post_coef_m = np.mean(theta2, axis=0)\n",
    "est_coef = post_coef_m[:post_coef_m.shape[0]-1]\n",
    "est_coef"
   ]
  },
  {
   "cell_type": "code",
   "execution_count": 12,
   "metadata": {},
   "outputs": [],
   "source": [
    "est_glu = est_coef[0] + X @ est_coef[1:]"
   ]
  },
  {
   "cell_type": "code",
   "execution_count": 13,
   "metadata": {},
   "outputs": [
    {
     "data": {
      "text/plain": [
       "Text(0.5, 1.0, 'Plot true glu against estimated glu')"
      ]
     },
     "execution_count": 13,
     "metadata": {},
     "output_type": "execute_result"
    },
    {
     "data": {
      "image/png": "[encoded data removed]",
      "text/plain": [
       "<Figure size 432x288 with 1 Axes>"
      ]
     },
     "metadata": {
      "needs_background": "light"
     },
     "output_type": "display_data"
    }
   ],
   "source": [
    "plt.scatter(glu,est_glu)\n",
    "plt.xlabel('True glu')\n",
    "plt.ylabel('estimated glu')\n",
    "plt.title('Plot true glu against estimated glu')"
   ]
  },
  {
   "cell_type": "code",
   "execution_count": null,
   "metadata": {},
   "outputs": [],
   "source": []
  }
 ],
 "metadata": {
  "kernelspec": {
   "display_name": "Python 3",
   "language": "python",
   "name": "python3"
  },
  "language_info": {
   "codemirror_mode": {
    "name": "ipython",
    "version": 3
   },
   "file_extension": ".py",
   "mimetype": "text/x-python",
   "name": "python",
   "nbconvert_exporter": "python",
   "pygments_lexer": "ipython3",
   "version": "3.7.4"
  }
 },
 "nbformat": 4,
 "nbformat_minor": 2
}

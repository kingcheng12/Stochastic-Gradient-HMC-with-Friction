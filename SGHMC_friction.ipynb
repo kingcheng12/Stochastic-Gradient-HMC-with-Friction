{
 "cells": [
  {
   "cell_type": "markdown",
   "metadata": {},
   "source": [
    "# Project: Stochastic Gradient Hamiltonian Monte Carlo"
   ]
  },
  {
   "cell_type": "markdown",
   "metadata": {},
   "source": [
    "In this project we are going to implement standard HMC, HMC with MH, Naive SGHMC and SGHMC with Friction."
   ]
  },
  {
   "cell_type": "markdown",
   "metadata": {},
   "source": [
    "# standard HMC"
   ]
  },
  {
   "cell_type": "markdown",
   "metadata": {},
   "source": [
    "### Basic settings"
   ]
  },
  {
   "cell_type": "markdown",
   "metadata": {},
   "source": [
    "Suppose we want to sample from the posterior distribution: \n",
    "$$p(\\theta|D) \\propto exp(-U(\\theta))$$ where $D = \\{x_{1\\:n}\\}$\n",
    "which are independent and $U$ is the potential energy fucntion: \n",
    "$$U = -\\sum_{x_i \\in D}\\log p(x|\\theta)- \\log p(\\theta)$$\n",
    "We will sample from joint distribution $$\\pi(\\theta, r) \\propto exp(-U(\\theta)-\\frac{1}{2}r^TM^{-1}r)$$\n",
    "where r is the auxiliary momentum variables and M is the mass matrix. They define the kinetic energy together.\n",
    "Then we discard r and keep $\\theta$."
   ]
  },
  {
   "cell_type": "markdown",
   "metadata": {},
   "source": [
    "The Hamiltonian function is:\n",
    "$$H(\\theta, r)=U(\\theta)+\\frac{1}{2}r^TM^{-1}r$$\n",
    "The Hamiltonian dynamics are:\n",
    "$$d\\theta = M^{-1}r dt\\\\ dr=-\\triangledown U(\\theta) dt$$"
   ]
  },
  {
   "cell_type": "markdown",
   "metadata": {},
   "source": [
    "### Implement HMC"
   ]
  },
  {
   "cell_type": "markdown",
   "metadata": {},
   "source": [
    "We use a univariate $\\theta$ for illustration. Suppose $U(\\theta)=-2\\theta^2+\\theta^4$. Based on $U(\\theta)$, we need to define functions $\\triangledown U, H$."
   ]
  },
  {
   "cell_type": "code",
   "execution_count": null,
   "metadata": {},
   "outputs": [],
   "source": [
    "import scipy.stats as sta\n",
    "import seaborn as sns\n",
    "import numpy as np\n",
    "import matplotlib.pyplot as plt\n",
    "from numba import jit,njit\n",
    "from ipyparallel import Client\n",
    "import random\n",
    "import numpy"
   ]
  },
  {
   "cell_type": "code",
   "execution_count": null,
   "metadata": {},
   "outputs": [],
   "source": [
    "def SGHMC_friction(theta0, X, gradU, eps, sample_size, B, C, batch_size,burnin, M = None):\n",
    "    '''\n",
    "    SGHMC with friction. See details from Stochastic Gradient Hamiltonian Monte Carlo (Chen et al., 2014)\n",
    "    \n",
    "    INPUT:\n",
    "    ----------------------------------------------------------------------\n",
    "    theta0(numpy array of shape(p,)): starting position of theta\n",
    "    \n",
    "    X(numpy array of shape(n,m)): data\n",
    "    \n",
    "    gradU(scale,theta,batch): function to compute gradient of U on a particular batch,\n",
    "    \n",
    "        INPUT:\n",
    "        ----------------------------------------------------------------------\n",
    "        scale: data size/ batch size\n",
    "        theta: theta\n",
    "        batch(numpy array): batch\n",
    "        ----------------------------------------------------------------------\n",
    "        OUTPUT:\n",
    "        ----------------------------------------------------------------------\n",
    "        thetat: Gradient of U on batch\n",
    "        ----------------------------------------------------------------------\n",
    "    \n",
    "    eps: step size\n",
    "    \n",
    "    sample_size: number of samples drawn from prosterior distribution\n",
    "    \n",
    "    B: noise estimate\n",
    "    \n",
    "    C: user specified friction term\n",
    "    \n",
    "    batch_size: size of minibatches\n",
    "    \n",
    "    burnin: number of iterations for warm up\n",
    "    \n",
    "    M(optional): Mass matrix, defualt is set to be identity.\n",
    "    ----------------------------------------------------------------------\n",
    "    OUTPUT:\n",
    "    ----------------------------------------------------------------------\n",
    "    thetat: thetas sampled from posterior distribution\n",
    "    ----------------------------------------------------------------------\n",
    "    '''\n",
    "    \n",
    "    i = sample_size+burnin\n",
    "    p = theta0.shape[0]\n",
    "    thetat = np.zeros((i+1,p))\n",
    "    thetat[0,:] = theta0\n",
    "    \n",
    "    m1 = int(np.ceil(X.shape[0]/batch_size))\n",
    "    batch = [X[i::m1] for i in range(m1)]\n",
    "    m = len(batch)\n",
    "\n",
    "    if(M is None):\n",
    "        M = np.eye(p)\n",
    "    \n",
    "    \n",
    "    for t in range(i):\n",
    "        ri = np.random.multivariate_normal(np.zeros(p), M)\n",
    "        thetai = thetat[t]\n",
    "        for j in range(m):\n",
    "            thetai = thetai + eps * np.linalg.solve(M, ri)\n",
    "            gU = gradU(X.shape[0]/batch[j].shape[0],thetai,batch[j])\n",
    "            ri = ri - eps * gU - eps * C @ np.linalg.solve(M, ri) + np.random.multivariate_normal(np.zeros(p), np.array(2*eps*(C-B)).reshape(p,p))\n",
    "        thetat[t+1] = thetai\n",
    "\n",
    "    return thetat[burnin+1:]"
   ]
  },
  {
   "cell_type": "markdown",
   "metadata": {},
   "source": [
    "## Example 1 (Test code and reproduce figure 1)"
   ]
  },
  {
   "cell_type": "code",
   "execution_count": null,
   "metadata": {},
   "outputs": [],
   "source": [
    "def gradU(scale,theta,batch):\n",
    "    \"\"\"\n",
    "    Compute gradient of U on a particular batch\n",
    "    \n",
    "    INPUT:\n",
    "    ----------------------------------------------------------------------\n",
    "    scale:\n",
    "    \n",
    "    theta:\n",
    "    \n",
    "    batch: \n",
    "    ----------------------------------------------------------------------\n",
    "    OUTPUT:\n",
    "    \n",
    "    thetat: Gradient of U on batch\n",
    "    \"\"\"\n",
    "    def grad_log_data(x,theta):\n",
    "        return -(-4*theta+4*theta**3)/50\n",
    "\n",
    "    def grad_log_prior(theta):\n",
    "        return 0\n",
    "    return - scale*batch.shape[0]*grad_log_data(batch,theta)-grad_log_prior(theta)"
   ]
  },
  {
   "cell_type": "code",
   "execution_count": 10,
   "metadata": {},
   "outputs": [
    {
     "name": "stdout",
     "output_type": "stream",
     "text": [
      "CPU times: user 11.7 s, sys: 53.8 ms, total: 11.7 s\n",
      "Wall time: 11.7 s\n"
     ]
    }
   ],
   "source": [
    "%%time\n",
    "random.seed(100)\n",
    "theta1 = SGHMC_friction(theta0 = np.array([0]),X = np.zeros((50,1)), gradU = gradU,\n",
    "                eps=0.1,sample_size=10000, B=np.array([0]),C=2*np.eye(1),batch_size = 10,burnin=500)"
   ]
  },
  {
   "cell_type": "code",
   "execution_count": 11,
   "metadata": {},
   "outputs": [
    {
     "data": {
      "image/png": "[encoded data removed]",
      "text/plain": [
       "<Figure size 432x288 with 1 Axes>"
      ]
     },
     "metadata": {
      "needs_background": "light"
     },
     "output_type": "display_data"
    }
   ],
   "source": [
    "sns.kdeplot(np.concatenate(theta1).reshape(-1,))\n",
    "plt.show()"
   ]
  },
  {
   "cell_type": "markdown",
   "metadata": {},
   "source": [
    "## Example 2 (mixture normal)"
   ]
  },
  {
   "cell_type": "code",
   "execution_count": 12,
   "metadata": {},
   "outputs": [],
   "source": [
    "mu = np.array([-5, 5]).reshape(2,1) # true value for mu\n",
    "n = 200 # number of observations\n",
    "y = np.r_[np.random.normal(mu[0], 1, n),np.random.normal(mu[1], 1, n)]"
   ]
  },
  {
   "cell_type": "code",
   "execution_count": 13,
   "metadata": {},
   "outputs": [],
   "source": [
    "def gradU2(scale,theta,batch):\n",
    "    def mn_glpdf(y,mu):\n",
    "        exp1=numpy.exp(-0.5*(y-mu[0])**2)\n",
    "        exp2=numpy.exp(-0.5*(y-mu[1])**2)\n",
    "\n",
    "        v = numpy.c_[exp1*(y-mu[0]),exp2*(y-mu[1])]\n",
    "        return numpy.sum(v/(exp1+exp2),axis=0)\n",
    "\n",
    "    def mn_glpr(mu):\n",
    "        return -(numpy.sum(mu)/100)\n",
    "    return - scale*mn_glpdf(batch,theta)-mn_glpr(theta)"
   ]
  },
  {
   "cell_type": "code",
   "execution_count": 14,
   "metadata": {},
   "outputs": [],
   "source": [
    "theta_mn = SGHMC_friction(theta0=np.array([1,1]), X = y[:,None], gradU = gradU2, eps=0.01, sample_size=1000, B=0, C=np.eye(2), batch_size=100,burnin=500)"
   ]
  },
  {
   "cell_type": "code",
   "execution_count": 15,
   "metadata": {},
   "outputs": [
    {
     "data": {
      "image/png": "[encoded data removed]",
      "text/plain": [
       "<Figure size 432x288 with 1 Axes>"
      ]
     },
     "metadata": {
      "needs_background": "light"
     },
     "output_type": "display_data"
    }
   ],
   "source": [
    "kdeplt2 = sns.kdeplot(theta_mn[:,0],theta_mn[:,1])  \n",
    "plt.show()"
   ]
  },
  {
   "cell_type": "markdown",
   "metadata": {},
   "source": [
    "## example 3 (simulated linear model)"
   ]
  },
  {
   "cell_type": "code",
   "execution_count": 26,
   "metadata": {},
   "outputs": [],
   "source": [
    "# simulated results for linear model, n = #{obs} = 100, p = 4 (p*p X matrix), s2 = 1, coef = [1,2,3,4]^T\n",
    "n, p = 100, 4\n",
    "s2 = 1\n",
    "X = np.c_[np.random.normal(size=n), np.random.normal(size=n), np.random.normal(size=n)]\n",
    "noise = np.random.normal(size=n).reshape(-1,1)\n",
    "beta = np.array([2,3,4]).reshape(-1,1)\n",
    "alpha = 1\n",
    "\n",
    "Y = X @ beta + alpha + noise\n",
    "data = np.c_[Y,X]"
   ]
  },
  {
   "cell_type": "code",
   "execution_count": 27,
   "metadata": {},
   "outputs": [],
   "source": [
    "def logposterior(parameter, data, alpha_prior_m=0, alpha_prior_sd=1, beta_prior_m=0, beta_prior_sd=1, logs2_prior_m=0, logs2_prior_sd=1):\n",
    "    '''\n",
    "    \n",
    "    Compute the log density of data and gradient of log density of data\n",
    "    Parameter: beta and log variance (p+1,1)\n",
    "    X: data matrix (n,p)\n",
    "    Y: response (n,1)\n",
    "    ..._prior_m = prior mean of elts in parameters\n",
    "    ..._prior_sd = prior standard error of elts in parameters\n",
    "    \n",
    "    '''\n",
    "    \n",
    "    def normal_prior(p, mu, s):\n",
    "        '''compute the log prior and gradient of log prior'''\n",
    "        Z = (p-mu)/s\n",
    "        logpdf = np.sum(-np.log(s) - 0.5*np.log(2*np.pi)-0.5*Z**2, axis=0)\n",
    "        grad_logpdf = -Z/s\n",
    "        \n",
    "        return logpdf.reshape(-1,1), grad_logpdf.reshape(-1,1)\n",
    "    \n",
    "    Y = data[:,0].reshape(-1,1)\n",
    "    X = data[:,1:]\n",
    "    \n",
    "    alpha = parameter[0]\n",
    "    beta = parameter[1:parameter.shape[0]-1]\n",
    "    beta = beta.reshape(-1,1)\n",
    "    logs2 = parameter[parameter.shape[0]-1]\n",
    "    \n",
    "    # compute log likelihood and gradient\n",
    "    sigma = np.sqrt(np.exp(logs2))\n",
    "    mu = X @ beta + alpha\n",
    "    Z = (Y-mu)/sigma\n",
    "    \n",
    "    loglik = np.sum(-np.log(sigma)-0.5*np.log(2*np.pi)-0.5*Z**2)\n",
    "    \n",
    "    grad_alpha1 = np.sum(Z/sigma)\n",
    "    grad_beta1 = X.T @ Z/sigma\n",
    "    grad_logs21 = np.sum(-0.5 + 0.5*Z**2)\n",
    "    \n",
    "    # compute log priors and gradient\n",
    "    log_prior_alpha, grad_lp_alpha = normal_prior(alpha, alpha_prior_m, alpha_prior_sd)\n",
    "    log_prior_beta, grad_lp_beta = normal_prior(beta, beta_prior_m, beta_prior_sd)\n",
    "    log_prior_logs2, grad_lp_logs2 = normal_prior(logs2, logs2_prior_m, logs2_prior_sd)\n",
    "    log_prior = log_prior_alpha + log_prior_beta + log_prior_logs2 # '+' in matlab\n",
    "    \n",
    "    # log posterior and gradient\n",
    "    log_post = loglik + log_prior\n",
    "    grad_alpha = grad_alpha1 + grad_lp_alpha\n",
    "    grad_beta = grad_beta1 + grad_lp_beta\n",
    "    grad_logs2 = grad_logs21 + grad_lp_logs2\n",
    "    grad_log_post = np.hstack((grad_alpha[0], grad_beta[:,0], grad_logs2[0]))\n",
    "    \n",
    "    return grad_log_post"
   ]
  },
  {
   "cell_type": "code",
   "execution_count": 28,
   "metadata": {},
   "outputs": [],
   "source": [
    "def gradU3(scale,theta,batch):\n",
    "    '''compute gradient of U for linear model'''\n",
    "    \n",
    "    return - scale*logposterior(theta, batch)"
   ]
  },
  {
   "cell_type": "code",
   "execution_count": 29,
   "metadata": {},
   "outputs": [],
   "source": [
    "theta_mn = SGHMC_friction(theta0=np.ones(5), X = data, gradU = gradU3, eps=0.01, sample_size=2000, B=0.01, C=np.eye(5), batch_size=10,burnin=500)"
   ]
  },
  {
   "cell_type": "code",
   "execution_count": 30,
   "metadata": {},
   "outputs": [
    {
     "data": {
      "text/plain": [
       "array([0.83703239, 1.55140506, 2.72336972, 3.60255983, 0.16734325])"
      ]
     },
     "execution_count": 30,
     "metadata": {},
     "output_type": "execute_result"
    }
   ],
   "source": [
    "np.mean(theta_mn,axis = 0)"
   ]
  },
  {
   "cell_type": "markdown",
   "metadata": {},
   "source": [
    "## Profile Basic SGHMC function"
   ]
  },
  {
   "cell_type": "code",
   "execution_count": 31,
   "metadata": {},
   "outputs": [
    {
     "name": "stdout",
     "output_type": "stream",
     "text": [
      "          2132514 function calls (2057514 primitive calls) in 3.626 seconds\n",
      "\n",
      "   Ordered by: cumulative time\n",
      "   List reduced from 73 to 10 due to restriction <10>\n",
      "\n",
      "   ncalls  tottime  percall  cumtime  percall filename:lineno(function)\n",
      "        1    0.000    0.000    3.626    3.626 {built-in method builtins.exec}\n",
      "        1    0.000    0.000    3.626    3.626 <string>:1(<module>)\n",
      "        1    0.347    0.347    3.626    3.626 <ipython-input-2-0d59906a8798>:1(SGHMC_friction)\n",
      "    15000    0.481    0.000    2.393    0.000 {method 'multivariate_normal' of 'numpy.random.mtrand.RandomState' objects}\n",
      "145000/70000    0.158    0.000    1.746    0.000 {built-in method numpy.core._multiarray_umath.implement_array_function}\n",
      "    15000    0.015    0.000    1.119    0.000 <__array_function__ internals>:2(allclose)\n",
      "    15000    0.032    0.000    1.090    0.000 numeric.py:2103(allclose)\n",
      "    15000    0.013    0.000    0.924    0.000 <__array_function__ internals>:2(isclose)\n",
      "    15000    0.105    0.000    0.892    0.000 numeric.py:2179(isclose)\n",
      "    15000    0.227    0.000    0.665    0.000 decomp_svd.py:16(svd)\n",
      "\n",
      "\n"
     ]
    },
    {
     "data": {
      "text/plain": [
       "<pstats.Stats at 0x1292b6cd0>"
      ]
     },
     "execution_count": 31,
     "metadata": {},
     "output_type": "execute_result"
    }
   ],
   "source": [
    "profile = %prun -r -q SGHMC_friction(theta0 = np.array([0]),X = np.zeros((50,1)), gradU = gradU, eps=0.1,sample_size=2000, B=np.array([0]),C=2*np.eye(1),batch_size = 10,burnin=500)\n",
    "profile.sort_stats('cumtime').print_stats(10)"
   ]
  },
  {
   "cell_type": "markdown",
   "metadata": {},
   "source": [
    "## Use SqrtM @ Normal to replace multivariate normal"
   ]
  },
  {
   "cell_type": "code",
   "execution_count": 34,
   "metadata": {},
   "outputs": [],
   "source": [
    "def SGHMC_friction2(theta0, X, gradU, eps, sample_size, B, C, batch_size,burnin, M = None):\n",
    "    '''\n",
    "    SGHMC with friction:\n",
    "    theta0(numpy array): starting position of theta\n",
    "    X: data\n",
    "    grad_logden_data: gradient of the data log density\n",
    "    grad_logden_prior: gradient of the prior log density\n",
    "    eps: step size\n",
    "    sample_size: number of samples drawn from prosterior distribution\n",
    "    B: noise estimate\n",
    "    C: user specified friction term\n",
    "    batch_size: size of minibatches\n",
    "    M: Mass matrix\n",
    "    '''\n",
    "    \n",
    "    i = sample_size+burnin\n",
    "    p = theta0.shape[0]\n",
    "    thetat = np.zeros((i+1,p))\n",
    "    thetat[0] = theta0\n",
    "    \n",
    "    m1 = int(np.ceil(X.shape[0]/batch_size))\n",
    "    batch = [X[i::m1] for i in range(m1)]\n",
    "    m = len(batch)\n",
    "\n",
    "    if(M is None):\n",
    "        M = np.eye(p)\n",
    "    \n",
    "    M1sqrt = np.linalg.cholesky(M)\n",
    "    Msqrt = np.linalg.cholesky(2*eps*(C-B))\n",
    "    \n",
    "    for t in range(i):\n",
    "        thetai = thetat[t]\n",
    "        ri = M1sqrt@np.random.normal(size=p)\n",
    "        for j in range(m):\n",
    "            thetai = thetai + eps * np.linalg.solve(M,ri)\n",
    "            gU = gradU(X.shape[0]/batch[j].shape[0],thetai,batch[j])\n",
    "            ri = ri - eps * gU - eps * C @ np.linalg.solve(M, ri) + Msqrt@np.random.normal(size=p)\n",
    "        thetat[t+1] = thetai\n",
    "    \n",
    "    return thetat[burnin+1:]"
   ]
  },
  {
   "cell_type": "markdown",
   "metadata": {},
   "source": [
    "## Test SGHMC2"
   ]
  },
  {
   "cell_type": "code",
   "execution_count": 35,
   "metadata": {},
   "outputs": [
    {
     "name": "stdout",
     "output_type": "stream",
     "text": [
      "CPU times: user 2.93 s, sys: 83.8 ms, total: 3.02 s\n",
      "Wall time: 2.95 s\n"
     ]
    }
   ],
   "source": [
    "%%time\n",
    "random.seed(100)\n",
    "theta1 = SGHMC_friction2(theta0 = np.array([0]),X = np.zeros((50,1)), gradU = gradU,\n",
    "                eps=0.1,sample_size=10000, B=np.array([0]),C=2*np.eye(1),batch_size = 10,burnin=500)"
   ]
  },
  {
   "cell_type": "code",
   "execution_count": 36,
   "metadata": {},
   "outputs": [
    {
     "data": {
      "image/png": "[encoded data removed]",
      "text/plain": [
       "<Figure size 432x288 with 1 Axes>"
      ]
     },
     "metadata": {
      "needs_background": "light"
     },
     "output_type": "display_data"
    }
   ],
   "source": [
    "sns.kdeplot(theta1.reshape(-1,))\n",
    "plt.show()"
   ]
  },
  {
   "cell_type": "code",
   "execution_count": 37,
   "metadata": {},
   "outputs": [],
   "source": [
    "theta_mn = SGHMC_friction2(theta0=np.array([1,1]), X = y[:,None], gradU = gradU2, eps=0.01, sample_size=1000, B=0, C=np.eye(2), batch_size=100,burnin=500)"
   ]
  },
  {
   "cell_type": "code",
   "execution_count": 38,
   "metadata": {},
   "outputs": [
    {
     "data": {
      "image/png": "[encoded data removed]",
      "text/plain": [
       "<Figure size 432x288 with 1 Axes>"
      ]
     },
     "metadata": {
      "needs_background": "light"
     },
     "output_type": "display_data"
    }
   ],
   "source": [
    "kdeplt2 = sns.kdeplot(theta_mn[:,0],theta_mn[:,1])  \n",
    "plt.show()"
   ]
  },
  {
   "cell_type": "markdown",
   "metadata": {},
   "source": [
    "## Test with linear model"
   ]
  },
  {
   "cell_type": "code",
   "execution_count": 54,
   "metadata": {},
   "outputs": [],
   "source": [
    "theta_mn = SGHMC_friction2(theta0=np.ones(5), X = data, gradU = gradU3, eps=0.01, sample_size=2000, B=0.01, C=np.eye(5), batch_size=10,burnin=500)"
   ]
  },
  {
   "cell_type": "code",
   "execution_count": 55,
   "metadata": {},
   "outputs": [
    {
     "data": {
      "text/plain": [
       "array([0.83230886, 1.54703219, 2.7250075 , 3.60439031, 0.16137422])"
      ]
     },
     "execution_count": 55,
     "metadata": {},
     "output_type": "execute_result"
    }
   ],
   "source": [
    "np.mean(theta_mn,axis = 0)"
   ]
  },
  {
   "cell_type": "markdown",
   "metadata": {},
   "source": [
    "## Profile SGHMC2"
   ]
  },
  {
   "cell_type": "code",
   "execution_count": 40,
   "metadata": {},
   "outputs": [
    {
     "name": "stdout",
     "output_type": "stream",
     "text": [
      "          802556 function calls in 0.925 seconds\n",
      "\n",
      "   Ordered by: cumulative time\n",
      "   List reduced from 33 to 10 due to restriction <10>\n",
      "\n",
      "   ncalls  tottime  percall  cumtime  percall filename:lineno(function)\n",
      "        1    0.000    0.000    0.925    0.925 {built-in method builtins.exec}\n",
      "        1    0.000    0.000    0.925    0.925 <string>:1(<module>)\n",
      "        1    0.202    0.202    0.924    0.924 <ipython-input-34-844daab9ca59>:1(SGHMC_friction2)\n",
      "    25000    0.018    0.000    0.452    0.000 <__array_function__ internals>:2(solve)\n",
      "    25002    0.015    0.000    0.430    0.000 {built-in method numpy.core._multiarray_umath.implement_array_function}\n",
      "    25000    0.164    0.000    0.414    0.000 linalg.py:327(solve)\n",
      "    12500    0.050    0.000    0.166    0.000 <ipython-input-3-26035f15adb9>:1(gradU)\n",
      "    12500    0.114    0.000    0.114    0.000 <ipython-input-3-26035f15adb9>:17(grad_log_data)\n",
      "    15000    0.104    0.000    0.104    0.000 {method 'normal' of 'numpy.random.mtrand.RandomState' objects}\n",
      "    25002    0.057    0.000    0.103    0.000 linalg.py:144(_commonType)\n",
      "\n",
      "\n"
     ]
    },
    {
     "data": {
      "text/plain": [
       "<pstats.Stats at 0x129e7e090>"
      ]
     },
     "execution_count": 40,
     "metadata": {},
     "output_type": "execute_result"
    }
   ],
   "source": [
    "profile = %prun -r -q SGHMC_friction2(theta0 = np.array([0]),X = np.zeros((50,1)), gradU = gradU, eps=0.1,sample_size=2000, B=np.array([0]),C=2*np.eye(1),batch_size = 10,burnin=500)\n",
    "profile.sort_stats('cumtime').print_stats(10)"
   ]
  },
  {
   "cell_type": "markdown",
   "metadata": {},
   "source": [
    "## Use parallel computation to test code"
   ]
  },
  {
   "cell_type": "code",
   "execution_count": 41,
   "metadata": {},
   "outputs": [],
   "source": [
    "def SGHMC_parallel(theta0, X, gradU, eps, sample_size, B, C, batch_size,burnin, M = None):\n",
    "    '''\n",
    "    parallel version of SGHMC. Please set ipython Clusters before running the following code.\n",
    "    \n",
    "    SETUP:\n",
    "    ----------------------------------------------------------------------\n",
    "    Step1:\n",
    "    Open a terminal (cmd.exe) and type:\n",
    "    ipcluster start -n 4(or other specified number of engines)\n",
    "    \n",
    "    Step2: \n",
    "    Run the following code \n",
    "    \n",
    "    from ipyparallel import Client\n",
    "    rc = Client()\n",
    "    dv = rc[:]\n",
    "    n = len(rc.ids)\n",
    "    with dv.sync_imports():\n",
    "        from numpy import recarray\n",
    "    \n",
    "    dv.push(dict(gradU=gradU))\n",
    "    \n",
    "        \n",
    "    INPUT:\n",
    "    ----------------------------------------------------------------------\n",
    "    theta0: starting position of theta\n",
    "    \n",
    "    X: data\n",
    "    \n",
    "    grad_logden_data: gradient of the data log density\n",
    "    \n",
    "    grad_logden_prior: gradient of the prior log density\n",
    "    \n",
    "    eps: step size\n",
    "    \n",
    "    sample_size: number of samples drawn from prosterior distribution\n",
    "    \n",
    "    B: noise estimate\n",
    "    \n",
    "    C: user specified friction term\n",
    "    \n",
    "    batch_size: size of minibatches\n",
    "    \n",
    "    burnin: number of iterations for warm up\n",
    "    \n",
    "    M(optional): Mass matrix, defualt is set to be identity.\n",
    "    ----------------------------------------------------------------------\n",
    "    OUTPUT:\n",
    "    \n",
    "    thetat: thetas sampled from posterior distribution\n",
    "    ----------------------------------------------------------------------\n",
    "    '''\n",
    "    i = int((sample_size+n*burnin)/4)  \n",
    "\n",
    "    @dv.remote(block=True)\n",
    "    def SGHMC_friction4(theta0, X, gradU, eps, sample_size, B, C, batch_size,burnin, M = None):\n",
    "\n",
    "        i = sample_size+burnin\n",
    "        p = theta0.shape[0]\n",
    "        thetat = numpy.zeros((i+1,p))\n",
    "        thetat[0] = theta0\n",
    "\n",
    "        m1 = int(numpy.ceil(X.shape[0]/batch_size))\n",
    "        batch = [X[i::m1] for i in range(m1)]\n",
    "        m = len(batch)\n",
    "\n",
    "        if(M is None):\n",
    "            M = numpy.eye(p)\n",
    "\n",
    "        M1sqrt = numpy.linalg.cholesky(M)\n",
    "        Msqrt = numpy.linalg.cholesky(2*eps*(C-B))\n",
    "\n",
    "        for t in range(i):\n",
    "            thetai = thetat[t]\n",
    "            ri = M1sqrt@numpy.random.normal(size=p)\n",
    "            for j in range(m):\n",
    "                thetai = thetai + eps * numpy.linalg.solve(M,ri)\n",
    "                gU = gradU(X.shape[0]/batch[j].shape[0],thetai,batch[j])\n",
    "                ri = ri - eps * gU - eps * C @ numpy.linalg.solve(M, ri) + Msqrt@numpy.random.normal(size=p)\n",
    "            thetat[t+1] = thetai\n",
    "\n",
    "        return thetat[burnin+1:]\n",
    "    \n",
    "    theta = SGHMC_friction4(theta0, X, gradU, eps, i, B, C, batch_size,burnin, M)\n",
    "    return numpy.concatenate(theta)"
   ]
  },
  {
   "cell_type": "code",
   "execution_count": 43,
   "metadata": {},
   "outputs": [
    {
     "name": "stdout",
     "output_type": "stream",
     "text": [
      "Waiting for connection file: ~/.ipython/profile_default/security/ipcontroller-client.json\n"
     ]
    },
    {
     "ename": "OSError",
     "evalue": "Connection file '~/.ipython/profile_default/security/ipcontroller-client.json' not found.\nYou have attempted to connect to an IPython Cluster but no Controller could be found.\nPlease double-check your configuration and ensure that a cluster is running.",
     "output_type": "error",
     "traceback": [
      "\u001b[0;31m---------------------------------------------------------------------------\u001b[0m",
      "\u001b[0;31mOSError\u001b[0m                                   Traceback (most recent call last)",
      "\u001b[0;32m<ipython-input-43-e68f9c7104b3>\u001b[0m in \u001b[0;36m<module>\u001b[0;34m\u001b[0m\n\u001b[1;32m      1\u001b[0m \u001b[0;32mfrom\u001b[0m \u001b[0mipyparallel\u001b[0m \u001b[0;32mimport\u001b[0m \u001b[0mClient\u001b[0m\u001b[0;34m\u001b[0m\u001b[0;34m\u001b[0m\u001b[0m\n\u001b[0;32m----> 2\u001b[0;31m \u001b[0mrc\u001b[0m \u001b[0;34m=\u001b[0m \u001b[0mClient\u001b[0m\u001b[0;34m(\u001b[0m\u001b[0;34m)\u001b[0m\u001b[0;34m\u001b[0m\u001b[0;34m\u001b[0m\u001b[0m\n\u001b[0m\u001b[1;32m      3\u001b[0m \u001b[0mdv\u001b[0m \u001b[0;34m=\u001b[0m \u001b[0mrc\u001b[0m\u001b[0;34m[\u001b[0m\u001b[0;34m:\u001b[0m\u001b[0;34m]\u001b[0m\u001b[0;34m\u001b[0m\u001b[0;34m\u001b[0m\u001b[0m\n\u001b[1;32m      4\u001b[0m \u001b[0mn\u001b[0m \u001b[0;34m=\u001b[0m \u001b[0mlen\u001b[0m\u001b[0;34m(\u001b[0m\u001b[0mrc\u001b[0m\u001b[0;34m.\u001b[0m\u001b[0mids\u001b[0m\u001b[0;34m)\u001b[0m\u001b[0;34m\u001b[0m\u001b[0;34m\u001b[0m\u001b[0m\n\u001b[1;32m      5\u001b[0m \u001b[0;32mwith\u001b[0m \u001b[0mdv\u001b[0m\u001b[0;34m.\u001b[0m\u001b[0msync_imports\u001b[0m\u001b[0;34m(\u001b[0m\u001b[0;34m)\u001b[0m\u001b[0;34m:\u001b[0m\u001b[0;34m\u001b[0m\u001b[0;34m\u001b[0m\u001b[0m\n",
      "\u001b[0;32m/Applications/anaconda3/lib/python3.7/site-packages/ipyparallel/client/client.py\u001b[0m in \u001b[0;36m__init__\u001b[0;34m(self, url_file, profile, profile_dir, ipython_dir, context, debug, sshserver, sshkey, password, paramiko, timeout, cluster_id, **extra_args)\u001b[0m\n\u001b[1;32m    415\u001b[0m                         \u001b[0mno_file_msg\u001b[0m\u001b[0;34m,\u001b[0m\u001b[0;34m\u001b[0m\u001b[0;34m\u001b[0m\u001b[0m\n\u001b[1;32m    416\u001b[0m                     ])\n\u001b[0;32m--> 417\u001b[0;31m                     \u001b[0;32mraise\u001b[0m \u001b[0mIOError\u001b[0m\u001b[0;34m(\u001b[0m\u001b[0mmsg\u001b[0m\u001b[0;34m)\u001b[0m\u001b[0;34m\u001b[0m\u001b[0;34m\u001b[0m\u001b[0m\n\u001b[0m\u001b[1;32m    418\u001b[0m         \u001b[0;32mif\u001b[0m \u001b[0murl_file\u001b[0m \u001b[0;32mis\u001b[0m \u001b[0;32mNone\u001b[0m\u001b[0;34m:\u001b[0m\u001b[0;34m\u001b[0m\u001b[0;34m\u001b[0m\u001b[0m\n\u001b[1;32m    419\u001b[0m             \u001b[0;32mraise\u001b[0m \u001b[0mIOError\u001b[0m\u001b[0;34m(\u001b[0m\u001b[0mno_file_msg\u001b[0m\u001b[0;34m)\u001b[0m\u001b[0;34m\u001b[0m\u001b[0;34m\u001b[0m\u001b[0m\n",
      "\u001b[0;31mOSError\u001b[0m: Connection file '~/.ipython/profile_default/security/ipcontroller-client.json' not found.\nYou have attempted to connect to an IPython Cluster but no Controller could be found.\nPlease double-check your configuration and ensure that a cluster is running."
     ]
    }
   ],
   "source": [
    "from ipyparallel import Client\n",
    "rc = Client()\n",
    "dv = rc[:]\n",
    "n = len(rc.ids)\n",
    "with dv.sync_imports():\n",
    "    import numpy\n",
    "\n",
    "dv.push(dict(gradU=gradU))"
   ]
  },
  {
   "cell_type": "code",
   "execution_count": null,
   "metadata": {},
   "outputs": [],
   "source": [
    "%%time\n",
    "theta1 = SGHMC_parallel(np.array([0]),np.zeros((50,1)),gradU,0.1,10000, np.array([0]),2*np.eye(1),10,500)"
   ]
  },
  {
   "cell_type": "code",
   "execution_count": null,
   "metadata": {},
   "outputs": [],
   "source": [
    "sns.kdeplot(np.concatenate(theta1).reshape(-1,))"
   ]
  },
  {
   "cell_type": "code",
   "execution_count": null,
   "metadata": {},
   "outputs": [],
   "source": []
  },
  {
   "cell_type": "code",
   "execution_count": null,
   "metadata": {},
   "outputs": [],
   "source": []
  },
  {
   "cell_type": "code",
   "execution_count": null,
   "metadata": {},
   "outputs": [],
   "source": [
    "def std_HMC(theta0, epsilon, nmc, max_iteration):\n",
    "    '''\n",
    "    implement standard HMC\n",
    "    theta0: np.array\n",
    "    epsilon: float\n",
    "    '''\n",
    "    \n",
    "    theta_post = [theta0]\n",
    "    M = set_M(theta0)\n",
    "    m = M.shape[0] # number of parameters\n",
    "    \n",
    "    i = 1\n",
    "    while i < (nmc+1):\n",
    "        r = ri = np.random.multivariate_normal(np.zeros(m), M).reshape(-1,1)\n",
    "        \n",
    "        theta= theta0\n",
    "        \n",
    "        #simulate discretization of Hamiltonian Dynamics\n",
    "        r = r - epsilon * grad_U(theta)/2\n",
    "        \n",
    "        for j in range(max_iteration):\n",
    "            theta = theta + epsilon * np.linalg.inv(M) @ r\n",
    "            r = r - epsilon * grad_U(theta)\n",
    "        \n",
    "        # MH correction\n",
    "        u = np.random.rand()\n",
    "        ro = np.exp(H(theta, r, M) - H(theta_post[i-1], ri, M))\n",
    "        if u < min(1,ro):\n",
    "            theta_post.append(theta[0,0])\n",
    "            i += 1\n",
    "            \n",
    "    return theta_post[1:]"
   ]
  },
  {
   "cell_type": "code",
   "execution_count": null,
   "metadata": {},
   "outputs": [],
   "source": [
    "x = std_HMC(np.array([1]), 0.01, 1000, 100)"
   ]
  },
  {
   "cell_type": "markdown",
   "metadata": {},
   "source": [
    "# Stochastic Gradient HMC with Naive Approach"
   ]
  },
  {
   "cell_type": "markdown",
   "metadata": {},
   "source": [
    "The Naive approach refers to the simple plug-in estimator of $\\triangledown \\tilde{U}(\\theta) = -\\frac{|D|}{|\\tilde{D}|}\\sum_{x \\in \\tilde{D}} \\triangledown log p(x|\\theta) - \\triangledown log p(\\theta)$ with minibatch $\\tilde{D}$. $\\triangledown \\tilde{U}(\\theta)$ is computationally easier, but then the resulting joint distribution $\\pi(\\theta, r)$ is not invariant."
   ]
  },
  {
   "cell_type": "code",
   "execution_count": null,
   "metadata": {},
   "outputs": [],
   "source": []
  },
  {
   "cell_type": "markdown",
   "metadata": {},
   "source": [
    "The Hamiltonian Dynamics are:\n",
    "$$d\\theta = M^{-1}r dt\\\\ dr=-\\triangledown U(\\theta) dt + N(0,2B(\\theta)) dt$$\n",
    "where $B(\\theta) = \\frac{1}{2}\\epsilon V(\\theta)$"
   ]
  },
  {
   "cell_type": "markdown",
   "metadata": {},
   "source": [
    "# need to find covariance of the stochastic gradient noise"
   ]
  },
  {
   "cell_type": "markdown",
   "metadata": {},
   "source": [
    "Since $\\epsilon$ is small, it does not really matter that V is. Thus we take V as identity."
   ]
  },
  {
   "cell_type": "markdown",
   "metadata": {},
   "source": [
    "### Implement Naive SGHMC"
   ]
  },
  {
   "cell_type": "markdown",
   "metadata": {},
   "source": [
    "# SGHMC with Friction"
   ]
  },
  {
   "cell_type": "markdown",
   "metadata": {},
   "source": [
    "Add friction term to momentum update:\n",
    "$$\n",
    "d\\theta = M^{-1}r dt\\\\\n",
    "dr = - \\triangledown U(\\theta)dt - BM^{-1}rdt+N(0,2Bdt)\n",
    "$$"
   ]
  },
  {
   "cell_type": "markdown",
   "metadata": {},
   "source": [
    "# new proposal for SGHMC with friction"
   ]
  },
  {
   "cell_type": "code",
   "execution_count": null,
   "metadata": {},
   "outputs": [],
   "source": [
    "def SGHMC_friction(theta0, X, grad_logden_data, grad_logden_prior, V, eps, i, C, batch_size, M = None):\n",
    "    '''\n",
    "    SGHMC with friction:\n",
    "    theta0(numpy array): starting position of theta (p,)\n",
    "    X: data (n,m)\n",
    "    grad_logden_data: gradient of the data log density (p,)\n",
    "    grad_logden_prior: gradient of the prior log density (p,)\n",
    "    V: estimated finsher information, (p,p)\n",
    "    eps: step size\n",
    "    i: number of iterations\n",
    "    C: user specified friction term\n",
    "    batch_size: size of minibatches\n",
    "    M: Mass matrix\n",
    "    '''\n",
    "    \n",
    "    def minib(x, batch_size):\n",
    "        '''\n",
    "        create minibatchs of x\n",
    "        x: data\n",
    "        batch_size: size of minibatch, if len(x)/batch_size is not integer, some batches wille have smaller sizes\n",
    "        \n",
    "        output: list of np.array of batchs [[batch_size,],...,[]]\n",
    "        '''\n",
    "        m = np.ceil(x.shape[0]/batch_size)\n",
    "        np.random.shuffle(x)\n",
    "\n",
    "        return np.array_split(x, m)\n",
    "    \n",
    "    def grad_U(grad_log_data, grad_log_prior, batch, theta, n):\n",
    "        '''compute the gradient of U of batch'''\n",
    "        \n",
    "        return -(n*grad_log_data(batch,theta)/batch.shape[0]+grad_log_prior(theta))\n",
    "    \n",
    "    n, m = X.shape\n",
    "    p = theta0.shape[0] # dim of theta\n",
    "    \n",
    "    # samples\n",
    "    thetat = np.zeros((i+1,p)) # (#samples,p)\n",
    "    thetat[0] = theta0 # set initial\n",
    "    batch = minib(X, batch_size) # m-list of (batch_size,)\n",
    "    m = len(batch)\n",
    "    B = 1/2*eps*V\n",
    "    \n",
    "    \n",
    "    if(M is None):\n",
    "        M = np.eye(p)\n",
    "    \n",
    "    for t in range(i):\n",
    "        ri = np.random.multivariate_normal(np.zeros(p), M)\n",
    "        thetai = thetat[t]\n",
    "        for j in range(m):\n",
    "            bat = batch[j] # batch_j\n",
    "            thetai = thetai + eps * np.linalg.inv(M) @ ri\n",
    "            gU = grad_U(grad_logden_data,grad_logden_prior,bat,thetai,n)\n",
    "            ri = ri - eps * gU - eps * C @ ri + la.sqrtm(2*(C-B)*eps) @ np.random.multivariate_normal(np.zeros(p), M)\n",
    "        thetat[t+1] = thetai + eps * np.linalg.inv(M) @ ri\n",
    "    \n",
    "    return thetat[200:thetat.shape[0]]\n",
    "        "
   ]
  },
  {
   "cell_type": "code",
   "execution_count": null,
   "metadata": {},
   "outputs": [],
   "source": [
    "def SGHMC_friction(theta0, X, grad_logden_data, grad_logden_prior, V, eps, i, C, batch_size, M = None):\n",
    "    '''\n",
    "    SGHMC with friction:\n",
    "    theta0(numpy array): starting position of theta (p,)\n",
    "    X: data (n,m)\n",
    "    grad_logden_data: gradient of the data log density (p,)\n",
    "    grad_logden_prior: gradient of the prior log density (p,)\n",
    "    V: estimated finsher information, (p,p)\n",
    "    eps: step size\n",
    "    i: number of iterations\n",
    "    C: user specified friction term\n",
    "    batch_size: size of minibatches\n",
    "    M: Mass matrix\n",
    "    '''\n",
    "    \n",
    "    def minib(x, batch_size):\n",
    "        '''\n",
    "        create minibatchs of x\n",
    "        x: data\n",
    "        batch_size: size of minibatch, if len(x)/batch_size is not integer, some batches wille have smaller sizes\n",
    "        \n",
    "        output: list of np.array of batchs [[batch_size,],...,[]]\n",
    "        '''\n",
    "        m = np.ceil(x.shape[0]/batch_size)\n",
    "        np.random.shuffle(x)\n",
    "\n",
    "        return np.array_split(x, m)\n",
    "    \n",
    "    def grad_U(grad_log_data, grad_log_prior, batch, theta, n):\n",
    "        '''compute the gradient of U of batch'''\n",
    "        \n",
    "        return -(n*grad_log_data(batch,theta)/batch.shape[0]+grad_log_prior(theta))\n",
    "    \n",
    "    n, m = X.shape\n",
    "    p = theta0.shape[0] # dim of theta\n",
    "    \n",
    "    # samples\n",
    "    thetat = np.zeros((i+1,p)) # (#samples,p)\n",
    "    thetat[0] = theta0 # set initial\n",
    "    batch = minib(X, batch_size) # m-list of (batch_size,)\n",
    "    m = len(batch)\n",
    "    B = 1/2*eps*V\n",
    "    \n",
    "    sqm = np.linalg.cholesky(2*(C-B)*eps)\n",
    "    \n",
    "    if(M is None):\n",
    "        M = np.eye(p)\n",
    "    \n",
    "    for t in range(i):\n",
    "        ri = np.random.multivariate_normal(np.zeros(p), M)\n",
    "        thetai = thetat[t]\n",
    "        for j in range(m):\n",
    "            bat = batch[j] # batch_j\n",
    "            thetai = thetai + eps * np.linalg.inv(M) @ ri\n",
    "            gU = grad_U(grad_logden_data,grad_logden_prior,bat,thetai,n)\n",
    "            ri = ri - eps * gU - eps * C @ ri + sqm @ np.random.normal(size=p)\n",
    "        thetat[t+1] = thetai + eps * np.linalg.inv(M) @ ri\n",
    "    \n",
    "    return thetat[200:thetat.shape[0]]\n",
    "        "
   ]
  },
  {
   "cell_type": "code",
   "execution_count": null,
   "metadata": {},
   "outputs": [],
   "source": [
    "def grad_logden_data(x,theta):\n",
    "    return -(-4*theta+4*theta**3)/50"
   ]
  },
  {
   "cell_type": "code",
   "execution_count": null,
   "metadata": {},
   "outputs": [],
   "source": [
    "def grad_prior(theta):\n",
    "    return 0"
   ]
  },
  {
   "cell_type": "code",
   "execution_count": null,
   "metadata": {},
   "outputs": [],
   "source": [
    "np.zeros(1)"
   ]
  },
  {
   "cell_type": "code",
   "execution_count": null,
   "metadata": {},
   "outputs": [],
   "source": [
    "theta = SGHMC_friction(theta0 = np.array([0]),X = np.zeros((50,1)),grad_logden_data = grad_logden_data,grad_logden_prior = grad_prior,\n",
    "                V = np.eye(1)*0, eps=0.1,i=2000,C=2*np.eye(1),batch_size = 10)"
   ]
  },
  {
   "cell_type": "code",
   "execution_count": null,
   "metadata": {},
   "outputs": [],
   "source": [
    "sns.kdeplot(theta[:,0])"
   ]
  },
  {
   "cell_type": "markdown",
   "metadata": {},
   "source": [
    "## take simulated data from normal distribution as example"
   ]
  },
  {
   "cell_type": "markdown",
   "metadata": {},
   "source": [
    "Simulate 1000 samples from N($\\mu=10$,100). We want to sample $\\mu$ from the posterior $p(\\mu|D)$."
   ]
  },
  {
   "cell_type": "code",
   "execution_count": null,
   "metadata": {},
   "outputs": [],
   "source": [
    "x = np.random.normal(10,10,1000)"
   ]
  },
  {
   "cell_type": "code",
   "execution_count": null,
   "metadata": {},
   "outputs": [],
   "source": [
    "theta = np.linspace(-2,2,100)\n",
    "p = np.exp(2*theta**2-theta**4)\n",
    "fig, ax = plt.subplots()\n",
    "ax.plot(theta,p,label = \"true distribution\")\n",
    "ax.legend(loc= \"upper center\")"
   ]
  },
  {
   "cell_type": "markdown",
   "metadata": {},
   "source": [
    "# 2nd example of mixture normal"
   ]
  },
  {
   "cell_type": "markdown",
   "metadata": {},
   "source": [
    "Suppose we want to sample $x \\sim 0.5N(5,1)+0.5N(-5,1)$. We want to sample from SGHMC."
   ]
  },
  {
   "cell_type": "code",
   "execution_count": null,
   "metadata": {},
   "outputs": [],
   "source": [
    "mu = np.array([5, -5]).reshape(2,1)\n",
    "nmc = 200\n",
    "x = np.r_[np.random.normal(mu[0], 1, nmc),np.random.normal(mu[1], 1, nmc)]"
   ]
  },
  {
   "cell_type": "code",
   "execution_count": null,
   "metadata": {},
   "outputs": [],
   "source": [
    "# define gradient of log p(x|theta)\n",
    "def grad_log_p(x, mu):\n",
    "    '''compute gradient of log p(x|theta)'''\n",
    "    \n",
    "    #gd = np.c_[x-mu[0], x-mu[1]]\n",
    "    #return np.sum(gd, axis = 0)\n",
    "    exp1=np.exp(-0.5*(x-mu[0])**2)\n",
    "    exp2=np.exp(-0.5*(x-mu[1])**2)\n",
    "    \n",
    "    v = np.c_[exp1*(x-mu[0]),exp2*(x-mu[1])]\n",
    "    return np.sum(v/(exp1+exp2),axis=0)\n",
    "\n",
    "# define gradient of log prior of theta\n",
    "def grad_log_prior(mu):\n",
    "    '''compute gradient of log prior'''\n",
    "    \n",
    "    return -(np.sum(mu)/10)"
   ]
  },
  {
   "cell_type": "code",
   "execution_count": null,
   "metadata": {},
   "outputs": [],
   "source": [
    "sim_mn = SGHMC_friction(theta0=np.array([1,1]), X = x[:,None], grad_logden_data=grad_log_p, grad_logden_prior=grad_log_prior, V=np.eye(2), eps=0.01, i=5000, C=np.eye(2), batch_size=50)"
   ]
  },
  {
   "cell_type": "code",
   "execution_count": null,
   "metadata": {},
   "outputs": [],
   "source": [
    "kdeplt2 = sns.kdeplot(sim_mn[:,0],sim_mn[:,1]) "
   ]
  },
  {
   "cell_type": "markdown",
   "metadata": {},
   "source": [
    "# HMC in linear model"
   ]
  },
  {
   "cell_type": "code",
   "execution_count": null,
   "metadata": {},
   "outputs": [],
   "source": [
    "# simulated results for linear model, n = #{obs} = 100, p = 4 (p*p X matrix), s2 = 1, coef = [1,2,3,4]^T\n",
    "n, p = 100, 4\n",
    "s2 = 1\n",
    "X = np.c_[np.random.normal(size=n), np.random.normal(size=n), np.random.normal(size=n)]\n",
    "noise = np.random.normal(size=n).reshape(-1,1)\n",
    "beta = np.array([2,3,4]).reshape(-1,1)\n",
    "alpha = 1\n",
    "\n",
    "Y = X @ beta + alpha + noise"
   ]
  },
  {
   "cell_type": "code",
   "execution_count": null,
   "metadata": {},
   "outputs": [],
   "source": [
    "# set up priors for elements in beta and s2\n",
    "alpha_prior_m = 0\n",
    "alpha_prior_sd = 10\n",
    "\n",
    "beta_prior_m = 0\n",
    "beta_prior_sd = 10\n",
    "\n",
    "logs2_prior_m = 0\n",
    "logs2_prior_sd = 2\n",
    "\n",
    "data = np.c_[Y,X]"
   ]
  },
  {
   "cell_type": "code",
   "execution_count": null,
   "metadata": {},
   "outputs": [],
   "source": [
    "def logposterior(parameter, data, alpha_prior_m=0, alpha_prior_sd=1, beta_prior_m=0, beta_prior_sd=1, logs2_prior_m=0, logs2_prior_sd=1):\n",
    "    '''\n",
    "    \n",
    "    Compute the log density of data and gradient of log density of data\n",
    "    Parameter: beta and log variance (p+1,1)\n",
    "    X: data matrix (n,p)\n",
    "    Y: response (n,1)\n",
    "    ..._prior_m = prior mean of elts in parameters\n",
    "    ..._prior_sd = prior standard error of elts in parameters\n",
    "    \n",
    "    '''\n",
    "    \n",
    "    def normal_prior(p, mu, s):\n",
    "        '''compute the log prior and gradient of log prior'''\n",
    "        Z = (p-mu)/s\n",
    "        logpdf = np.sum(-np.log(s) - 0.5*np.log(2*np.pi)-0.5*Z**2, axis=0)\n",
    "        grad_logpdf = -Z/s\n",
    "        \n",
    "        return logpdf.reshape(-1,1), grad_logpdf.reshape(-1,1)\n",
    "    \n",
    "    Y = data[:,0].reshape(-1,1)\n",
    "    X = data[:,1:]\n",
    "    \n",
    "    alpha = parameter[0]\n",
    "    beta = parameter[1:parameter.shape[0]-1]\n",
    "    beta = beta.reshape(-1,1)\n",
    "    logs2 = parameter[parameter.shape[0]-1]\n",
    "    \n",
    "    # compute log likelihood and gradient\n",
    "    sigma = np.sqrt(np.exp(logs2))\n",
    "    mu = X @ beta + alpha\n",
    "    Z = (Y-mu)/sigma\n",
    "    \n",
    "    loglik = np.sum(-np.log(sigma)-0.5*np.log(2*np.pi)-0.5*Z**2)\n",
    "    \n",
    "    grad_alpha1 = np.sum(Z/sigma)\n",
    "    grad_beta1 = X.T @ Z/sigma\n",
    "    grad_logs21 = np.sum(-0.5 + 0.5*Z**2)\n",
    "    \n",
    "    # compute log priors and gradient\n",
    "    log_prior_alpha, grad_lp_alpha = normal_prior(alpha, alpha_prior_m, alpha_prior_sd)\n",
    "    log_prior_beta, grad_lp_beta = normal_prior(beta, beta_prior_m, beta_prior_sd)\n",
    "    log_prior_logs2, grad_lp_logs2 = normal_prior(logs2, logs2_prior_m, logs2_prior_sd)\n",
    "    log_prior = log_prior_alpha + log_prior_beta + log_prior_logs2 # '+' in matlab\n",
    "    \n",
    "    # log posterior and gradient\n",
    "    log_post = loglik + log_prior\n",
    "    grad_alpha = grad_alpha1 + grad_lp_alpha\n",
    "    grad_beta = grad_beta1 + grad_lp_beta\n",
    "    grad_logs2 = grad_logs21 + grad_lp_logs2\n",
    "    grad_log_post = np.hstack((grad_alpha[0], grad_beta[:,0], grad_logs2[0]))\n",
    "    \n",
    "    return grad_log_post"
   ]
  },
  {
   "cell_type": "code",
   "execution_count": null,
   "metadata": {},
   "outputs": [],
   "source": [
    "glp = logposterior(np.array([1,2,3,4,2]), data)"
   ]
  },
  {
   "cell_type": "code",
   "execution_count": null,
   "metadata": {},
   "outputs": [],
   "source": [
    "glp"
   ]
  },
  {
   "cell_type": "code",
   "execution_count": null,
   "metadata": {},
   "outputs": [],
   "source": [
    "def gradU3(scale,theta,batch):\n",
    "    '''compute gradient of U for linear model'''\n",
    "    \n",
    "    return - scale*logposterior(theta, batch)"
   ]
  },
  {
   "cell_type": "code",
   "execution_count": null,
   "metadata": {},
   "outputs": [],
   "source": [
    "gradU3(1,np.ones(5),data)"
   ]
  },
  {
   "cell_type": "code",
   "execution_count": null,
   "metadata": {},
   "outputs": [],
   "source": [
    "# try linear model hmc\n",
    "def SGHMC_friction2(theta0, X, gradU, eps, i, B, C, batch_size,burnin,seed=1, M = None):\n",
    "    '''\n",
    "    SGHMC with friction:\n",
    "    theta0(numpy array): starting position of theta\n",
    "    X: data\n",
    "    grad_logden_data: gradient of the data log density\n",
    "    grad_logden_prior: gradient of the prior log density\n",
    "    eps: step size\n",
    "    i: number of iterations\n",
    "    B: noise estimate\n",
    "    C: user specified friction term\n",
    "    batch_size: size of minibatches\n",
    "    M: Mass matrix\n",
    "    '''\n",
    "    \n",
    "    #def minib(x, batch_size):\n",
    "    #    '''\n",
    "    #    create minibatchs of x\n",
    "    #    x: data\n",
    "    #    batch_size: size of minibatch, if len(x)/batch_size is not integer, some batches wille have smaller sizes\n",
    "    #    '''\n",
    "    #    m = np.ceil(x.shape[0]/batch_size)\n",
    "    #    np.random.shuffle(x)\n",
    "    #\n",
    "    #    return np.array_split(x, m)\n",
    "    \n",
    "    m1 = int(np.ceil(X.shape[0]/batch_size))\n",
    "    batch = [X[i::m1] for i in range(m1)]\n",
    "    m = len(batch)\n",
    "    \n",
    "    i = sample_size+burnin\n",
    "    \n",
    "    p = theta0.shape[0]\n",
    "    thetat = np.zeros((i+1,p))\n",
    "    thetat[0,:] = theta0\n",
    "    \n",
    "\n",
    "    if(M is None):\n",
    "        M = np.eye(p)\n",
    "    \n",
    "    for t in range(i):\n",
    "        ri = np.random.multivariate_normal(np.zeros(p), M).reshape(-1,1)\n",
    "        thetai = thetat[t,:].reshape(-1,1)\n",
    "        for j in range(m):\n",
    "            thetai = thetai + eps * np.linalg.inv(M) @ ri\n",
    "            gU = gradU(X.shape[0]/batch[j].shape[0], thetai, batch[j]) # (5,1)\n",
    "            ri = ri - eps * gU.reshape(-1,1) - eps * C @ np.linalg.inv(M) @ ri + np.random.multivariate_normal(np.zeros(p), np.array(2*eps*(C-B)).reshape(p,p)).reshape(-1,1)\n",
    "        thetat[t+1,:] = thetai.reshape(-1,p)\n",
    "    \n",
    "    return thetat[burnin+1:,]"
   ]
  },
  {
   "cell_type": "code",
   "execution_count": null,
   "metadata": {},
   "outputs": [],
   "source": [
    "a = SGHMC_friction2(np.ones(5), data, gradU3, 0.01, 1000, 0*np.eye(5), np.eye(5), batch_size=20,burnin=100,seed=1)"
   ]
  },
  {
   "cell_type": "code",
   "execution_count": null,
   "metadata": {},
   "outputs": [],
   "source": [
    "theta_mn = SGHMC_friction(theta0=np.ones(5), X = data, gradU = gradU3, eps=0.01, sample_size=1000, B=0*np.eye(5), C=np.eye(5), batch_size=20,burnin=100)"
   ]
  },
  {
   "cell_type": "code",
   "execution_count": null,
   "metadata": {},
   "outputs": [],
   "source": [
    "np.mean(a,axis=0)"
   ]
  },
  {
   "cell_type": "code",
   "execution_count": null,
   "metadata": {},
   "outputs": [],
   "source": []
  }
 ],
 "metadata": {
  "kernelspec": {
   "display_name": "Python 3",
   "language": "python",
   "name": "python3"
  },
  "language_info": {
   "codemirror_mode": {
    "name": "ipython",
    "version": 3
   },
   "file_extension": ".py",
   "mimetype": "text/x-python",
   "name": "python",
   "nbconvert_exporter": "python",
   "pygments_lexer": "ipython3",
   "version": "3.7.4"
  }
 },
 "nbformat": 4,
 "nbformat_minor": 2
}

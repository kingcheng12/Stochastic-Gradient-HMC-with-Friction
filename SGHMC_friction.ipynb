{
 "cells": [
  {
   "cell_type": "markdown",
   "metadata": {},
   "source": [
    "# Project: Stochastic Gradient Hamiltonian Monte Carlo"
   ]
  },
  {
   "cell_type": "markdown",
   "metadata": {},
   "source": [
    "In this project we are going to implement standard HMC, HMC with MH, Naive SGHMC and SGHMC with Friction."
   ]
  },
  {
   "cell_type": "markdown",
   "metadata": {},
   "source": [
    "# standard HMC"
   ]
  },
  {
   "cell_type": "markdown",
   "metadata": {},
   "source": [
    "### Basic settings"
   ]
  },
  {
   "cell_type": "markdown",
   "metadata": {},
   "source": [
    "Suppose we want to sample from the posterior distribution: \n",
    "$$p(\\theta|D) \\propto exp(-U(\\theta))$$ where $D = \\{x_{1\\:n}\\}$\n",
    "which are independent and $U$ is the potential energy fucntion: \n",
    "$$U = -\\sum_{x_i \\in D}\\log p(x|\\theta)- \\log p(\\theta)$$\n",
    "We will sample from joint distribution $$\\pi(\\theta, r) \\propto exp(-U(\\theta)-\\frac{1}{2}r^TM^{-1}r)$$\n",
    "where r is the auxiliary momentum variables and M is the mass matrix. They define the kinetic energy together.\n",
    "Then we discard r and keep $\\theta$."
   ]
  },
  {
   "cell_type": "markdown",
   "metadata": {},
   "source": [
    "The Hamiltonian function is:\n",
    "$$H(\\theta, r)=U(\\theta)+\\frac{1}{2}r^TM^{-1}r$$\n",
    "The Hamiltonian dynamics are:\n",
    "$$d\\theta = M^{-1}r dt\\\\ dr=-\\triangledown U(\\theta) dt$$"
   ]
  },
  {
   "cell_type": "markdown",
   "metadata": {},
   "source": [
    "### Implement HMC"
   ]
  },
  {
   "cell_type": "markdown",
   "metadata": {},
   "source": [
    "We use a univariate $\\theta$ for illustration. Suppose $U(\\theta)=-2\\theta^2+\\theta^4$. Based on $U(\\theta)$, we need to define functions $\\triangledown U, H$."
   ]
  },
  {
   "cell_type": "code",
   "execution_count": null,
   "metadata": {},
   "outputs": [],
   "source": []
  },
  {
   "cell_type": "markdown",
   "metadata": {},
   "source": [
    "# Stochastic Gradient HMC with Naive Approach"
   ]
  },
  {
   "cell_type": "markdown",
   "metadata": {},
   "source": [
    "The Naive approach refers to the simple plug-in estimator of $\\triangledown \\tilde{U}(\\theta) = -\\frac{|D|}{|\\tilde{D}|}\\sum_{x \\in \\tilde{D}} \\triangledown log p(x|\\theta) - \\triangledown log p(\\theta)$ with minibatch $\\tilde{D}$. $\\triangledown \\tilde{U}(\\theta)$ is computationally easier, but then the resulting joint distribution $\\pi(\\theta, r)$ is not invariant."
   ]
  },
  {
   "cell_type": "code",
   "execution_count": null,
   "metadata": {},
   "outputs": [],
   "source": []
  },
  {
   "cell_type": "markdown",
   "metadata": {},
   "source": [
    "The Hamiltonian Dynamics are:\n",
    "$$d\\theta = M^{-1}r dt\\\\ dr=-\\triangledown U(\\theta) dt + N(0,2B(\\theta)) dt$$\n",
    "where $B(\\theta) = \\frac{1}{2}\\epsilon V(\\theta)$"
   ]
  },
  {
   "cell_type": "markdown",
   "metadata": {},
   "source": [
    "# need to find covariance of the stochastic gradient noise"
   ]
  },
  {
   "cell_type": "markdown",
   "metadata": {},
   "source": [
    "Since $\\epsilon$ is small, it does not really matter that V is. Thus we take V as identity."
   ]
  },
  {
   "cell_type": "markdown",
   "metadata": {},
   "source": [
    "### Implement Naive SGHMC"
   ]
  },
  {
   "cell_type": "markdown",
   "metadata": {},
   "source": [
    "# SGHMC with Friction"
   ]
  },
  {
   "cell_type": "markdown",
   "metadata": {},
   "source": [
    "Add friction term to momentum update:\n",
    "$$\n",
    "d\\theta = M^{-1}r dt\\\\\n",
    "dr = - \\triangledown U(\\theta)dt - BM^{-1}rdt+N(0,2Bdt)\n",
    "$$"
   ]
  },
  {
   "cell_type": "markdown",
   "metadata": {},
   "source": [
    "# new proposal for SGHMC with friction"
   ]
  },
  {
   "cell_type": "code",
   "execution_count": 1,
   "metadata": {},
   "outputs": [],
   "source": [
    "import scipy.stats as sta\n",
    "import seaborn as sns\n",
    "import numpy as np\n",
    "import matplotlib.pyplot as plt\n",
    "from numba import jit,vectorize\n",
    "from ipyparallel import Client\n",
    "import random\n",
    "import numpy\n",
    "from pyhmc import hmc"
   ]
  },
  {
   "cell_type": "markdown",
   "metadata": {},
   "source": [
    "## First Attempt: Basic Code"
   ]
  },
  {
   "cell_type": "code",
   "execution_count": 2,
   "metadata": {},
   "outputs": [],
   "source": [
    "def SGHMC_friction(theta0, X, gradU, eps, sample_size, B, C, batch_size,burnin, M = None):\n",
    "    '''\n",
    "    SGHMC with friction. See details from Stochastic Gradient Hamiltonian Monte Carlo (Chen et al., 2014)\n",
    "    \n",
    "    INPUT:\n",
    "    ----------------------------------------------------------------------\n",
    "    theta0(1-dim numpy array): starting position of theta\n",
    "    \n",
    "    X(2-dims numpy array): data\n",
    "    \n",
    "    gradU(scale,theta,batch): function to compute gradient of U on a particular batch,\n",
    "    \n",
    "        INPUT:\n",
    "        ----------------------------------------------------------------------\n",
    "        scale: data size/ batch size\n",
    "        theta: theta\n",
    "        batch(numpy array): batch\n",
    "        ----------------------------------------------------------------------\n",
    "        OUTPUT:\n",
    "        ----------------------------------------------------------------------\n",
    "        thetat: Gradient of U on batch\n",
    "        ----------------------------------------------------------------------\n",
    "    \n",
    "    eps: step size\n",
    "    \n",
    "    sample_size: number of samples drawn from prosterior distribution\n",
    "    \n",
    "    B: noise estimate\n",
    "    \n",
    "    C: user specified friction term\n",
    "    \n",
    "    batch_size: size of minibatches\n",
    "    \n",
    "    burnin: number of iterations for warm up\n",
    "    \n",
    "    M(optional): Mass matrix, defualt is set to be identity.\n",
    "    ----------------------------------------------------------------------\n",
    "    OUTPUT:\n",
    "    ----------------------------------------------------------------------\n",
    "    thetat: thetas sampled from posterior distribution\n",
    "    ----------------------------------------------------------------------\n",
    "    '''\n",
    "    \n",
    "    i = sample_size+burnin\n",
    "    p = theta0.shape[0]\n",
    "    thetat = np.zeros((i+1,p))\n",
    "    thetat[0,:] = theta0\n",
    "    \n",
    "    m1 = int(np.ceil(X.shape[0]/batch_size))\n",
    "    batch = [X[i::m1] for i in range(m1)]\n",
    "    m = len(batch)\n",
    "\n",
    "    if(M is None):\n",
    "        M = np.eye(p)\n",
    "    \n",
    "    \n",
    "    for t in range(i):\n",
    "        ri = np.random.multivariate_normal(np.zeros(p), M)\n",
    "        thetai = thetat[t]\n",
    "        for j in range(m):\n",
    "            thetai = thetai + eps * np.linalg.solve(M, ri)\n",
    "            gU = gradU(X.shape[0]/batch[j].shape[0],thetai,batch[j])\n",
    "            ri = ri - eps * gU - eps * C @ np.linalg.solve(M, ri) + np.random.multivariate_normal(np.zeros(p), np.array(2*eps*(C-B)).reshape(p,p))\n",
    "        thetat[t+1] = thetai\n",
    "\n",
    "    return thetat[burnin+1:]\n",
    "        "
   ]
  },
  {
   "cell_type": "markdown",
   "metadata": {},
   "source": [
    "## Test code and reproduce figure 1"
   ]
  },
  {
   "cell_type": "code",
   "execution_count": 3,
   "metadata": {},
   "outputs": [],
   "source": [
    "def gradU(scale,theta,batch):\n",
    "    \n",
    "    def grad_log_data(x,theta):\n",
    "        return -(-4*theta+4*theta**3)/50\n",
    "\n",
    "    def grad_log_prior(theta):\n",
    "        return 0\n",
    "    return - scale*batch.shape[0]*grad_log_data(batch,theta)-grad_log_prior(theta)\n"
   ]
  },
  {
   "cell_type": "code",
   "execution_count": 4,
   "metadata": {},
   "outputs": [],
   "source": [
    "@jit(nopython=True)\n",
    "def gradU_numba(scale,theta,batch):\n",
    "    return - scale*batch.shape[0]*(-(-4*theta+4*theta**3)/50)\n"
   ]
  },
  {
   "cell_type": "code",
   "execution_count": 5,
   "metadata": {
    "scrolled": true
   },
   "outputs": [
    {
     "name": "stdout",
     "output_type": "stream",
     "text": [
      "13.6 s ± 84.2 ms per loop (mean ± std. dev. of 7 runs, 1 loop each)\n"
     ]
    }
   ],
   "source": [
    "%%timeit\n",
    "SGHMC_friction(theta0 = np.array([0]),X = np.zeros((50,1)), gradU = gradU,\n",
    "                eps=0.1,sample_size=10000, B=np.array([0]),C=2*np.eye(1),batch_size = 10,burnin=500)"
   ]
  },
  {
   "cell_type": "code",
   "execution_count": 6,
   "metadata": {},
   "outputs": [
    {
     "name": "stdout",
     "output_type": "stream",
     "text": [
      "12.5 s ± 50.5 ms per loop (mean ± std. dev. of 7 runs, 1 loop each)\n"
     ]
    }
   ],
   "source": [
    "%%timeit\n",
    "SGHMC_friction(theta0 = np.array([0]),X = np.zeros((50,1)), gradU = gradU_numba,\n",
    "                eps=0.1,sample_size=10000, B=np.array([0]),C=2*np.eye(1),batch_size = 10,burnin=500)"
   ]
  },
  {
   "cell_type": "code",
   "execution_count": 7,
   "metadata": {},
   "outputs": [],
   "source": [
    "random.seed(100)\n",
    "theta1 = SGHMC_friction(theta0 = np.array([0]),X = np.zeros((50,1)), gradU = gradU_numba,eps=0.1,sample_size=10000, B=np.array([0]),C=2*np.eye(1),batch_size = 10,burnin=500)"
   ]
  },
  {
   "cell_type": "code",
   "execution_count": 8,
   "metadata": {
    "scrolled": false
   },
   "outputs": [
    {
     "data": {
      "text/plain": [
       "<matplotlib.axes._subplots.AxesSubplot at 0x7f73e9cb8d30>"
      ]
     },
     "execution_count": 8,
     "metadata": {},
     "output_type": "execute_result"
    },
    {
     "data": {
      "image/png": "[encoded data removed]",
      "text/plain": [
       "<Figure size 432x288 with 1 Axes>"
      ]
     },
     "metadata": {},
     "output_type": "display_data"
    }
   ],
   "source": [
    "sns.kdeplot(np.concatenate(theta1).reshape(-1,))"
   ]
  },
  {
   "cell_type": "markdown",
   "metadata": {},
   "source": [
    "## Example 2"
   ]
  },
  {
   "cell_type": "code",
   "execution_count": 9,
   "metadata": {},
   "outputs": [],
   "source": [
    "mu = np.array([-5, 5]).reshape(2,1) # true value for mu\n",
    "n = 200 # number of observations\n",
    "y = np.r_[np.random.normal(mu[0], 1, n),np.random.normal(mu[1], 1, n)]"
   ]
  },
  {
   "cell_type": "code",
   "execution_count": 10,
   "metadata": {},
   "outputs": [],
   "source": [
    "def gradU2(scale,theta,batch):\n",
    "    def mn_glpdf(y,mu):\n",
    "        exp1=numpy.exp(-0.5*(y-mu[0])**2)\n",
    "        exp2=numpy.exp(-0.5*(y-mu[1])**2)\n",
    "\n",
    "        v = numpy.c_[exp1*(y-mu[0]),exp2*(y-mu[1])]\n",
    "        return numpy.sum(v/(exp1+exp2),axis=0)\n",
    "\n",
    "    def mn_glpr(mu):\n",
    "        return -(numpy.sum(mu)/100)\n",
    "    return - scale*mn_glpdf(batch,theta)-mn_glpr(theta)"
   ]
  },
  {
   "cell_type": "code",
   "execution_count": 11,
   "metadata": {},
   "outputs": [],
   "source": [
    "theta_mn = SGHMC_friction(theta0=np.array([1,1]), X = y[:,None], gradU = gradU2, eps=0.01, sample_size=1000, B=0, C=np.eye(2), batch_size=100,burnin=500)"
   ]
  },
  {
   "cell_type": "code",
   "execution_count": 12,
   "metadata": {},
   "outputs": [
    {
     "data": {
      "image/png": "[encoded data removed]",
      "text/plain": [
       "<Figure size 432x288 with 1 Axes>"
      ]
     },
     "metadata": {},
     "output_type": "display_data"
    }
   ],
   "source": [
    "kdeplt2 = sns.kdeplot(theta_mn[:,0],theta_mn[:,1])  \n",
    "plt.show()"
   ]
  },
  {
   "cell_type": "markdown",
   "metadata": {},
   "source": [
    "## Profile Basic SGHMC function"
   ]
  },
  {
   "cell_type": "code",
   "execution_count": 13,
   "metadata": {},
   "outputs": [
    {
     "name": "stdout",
     "output_type": "stream",
     "text": [
      "          2132514 function calls (2057514 primitive calls) in 6.462 seconds\n",
      "\n",
      "   Ordered by: cumulative time\n",
      "   List reduced from 73 to 10 due to restriction <10>\n",
      "\n",
      "   ncalls  tottime  percall  cumtime  percall filename:lineno(function)\n",
      "        1    0.000    0.000    6.462    6.462 {built-in method builtins.exec}\n",
      "        1    0.000    0.000    6.462    6.462 <string>:1(<module>)\n",
      "        1    0.474    0.474    6.462    6.462 <ipython-input-2-d7007b0f19ef>:1(SGHMC_friction)\n",
      "    15000    0.655    0.000    4.179    0.000 {method 'multivariate_normal' of 'numpy.random.mtrand.RandomState' objects}\n",
      "145000/70000    0.313    0.000    3.473    0.000 {built-in method numpy.core._multiarray_umath.implement_array_function}\n",
      "    15000    0.038    0.000    2.100    0.000 <__array_function__ internals>:2(allclose)\n",
      "    15000    0.070    0.000    2.025    0.000 numeric.py:2091(allclose)\n",
      "    15000    0.035    0.000    1.690    0.000 <__array_function__ internals>:2(isclose)\n",
      "    15000    0.179    0.000    1.611    0.000 numeric.py:2167(isclose)\n",
      "    25000    0.060    0.000    1.407    0.000 <__array_function__ internals>:2(solve)\n",
      "\n",
      "\n"
     ]
    },
    {
     "data": {
      "text/plain": [
       "<pstats.Stats at 0x7f73e9e0b668>"
      ]
     },
     "execution_count": 13,
     "metadata": {},
     "output_type": "execute_result"
    }
   ],
   "source": [
    "profile = %prun -r -q SGHMC_friction(theta0 = np.array([0]),X = np.zeros((50,1)), gradU = gradU, eps=0.1,sample_size=2000, B=np.array([0]),C=2*np.eye(1),batch_size = 10,burnin=500)\n",
    "profile.sort_stats('cumtime').print_stats(10)"
   ]
  },
  {
   "cell_type": "markdown",
   "metadata": {},
   "source": [
    "`np.multivariate_normal` appears to be slow"
   ]
  },
  {
   "cell_type": "markdown",
   "metadata": {},
   "source": [
    "## Use SqrtM @ Normal to replace multivariate normal"
   ]
  },
  {
   "cell_type": "code",
   "execution_count": 14,
   "metadata": {},
   "outputs": [],
   "source": [
    "def SGHMC_friction2(theta0, X, gradU, eps, sample_size, B, C, batch_size,burnin, M = None):\n",
    "    '''\n",
    "    SGHMC with friction:\n",
    "    theta0(numpy array): starting position of theta\n",
    "    X: data\n",
    "    grad_logden_data: gradient of the data log density\n",
    "    grad_logden_prior: gradient of the prior log density\n",
    "    eps: step size\n",
    "    sample_size: number of samples drawn from prosterior distribution\n",
    "    B: noise estimate\n",
    "    C: user specified friction term\n",
    "    batch_size: size of minibatches\n",
    "    M: Mass matrix\n",
    "    '''\n",
    "    \n",
    "    i = sample_size+burnin\n",
    "    p = theta0.shape[0]\n",
    "    thetat = np.zeros((i+1,p))\n",
    "    thetat[0] = theta0\n",
    "    \n",
    "    m1 = int(np.ceil(X.shape[0]/batch_size))\n",
    "    batch = [X[i::m1] for i in range(m1)]\n",
    "    m = len(batch)\n",
    "\n",
    "    if(M is None):\n",
    "        M = np.eye(p)\n",
    "    \n",
    "    M1sqrt = np.linalg.cholesky(M)\n",
    "    Msqrt = np.linalg.cholesky(2*eps*(C-B))\n",
    "    \n",
    "    for t in range(i):\n",
    "        thetai = thetat[t]\n",
    "        ri = M1sqrt@np.random.normal(size=p)\n",
    "        for j in range(m):\n",
    "            thetai = thetai + eps * np.linalg.solve(M,ri)\n",
    "            gU = gradU(X.shape[0]/batch[j].shape[0],thetai,batch[j])\n",
    "            ri = ri - eps * gU - eps * C @ np.linalg.solve(M, ri) + Msqrt@np.random.normal(size=p)\n",
    "        thetat[t+1] = thetai\n",
    "    \n",
    "    return thetat[burnin+1:]\n",
    "        "
   ]
  },
  {
   "cell_type": "markdown",
   "metadata": {},
   "source": [
    "## Test SGHMC2"
   ]
  },
  {
   "cell_type": "code",
   "execution_count": 15,
   "metadata": {},
   "outputs": [
    {
     "name": "stdout",
     "output_type": "stream",
     "text": [
      "3.22 s ± 40.6 ms per loop (mean ± std. dev. of 7 runs, 1 loop each)\n"
     ]
    }
   ],
   "source": [
    "%%timeit\n",
    "SGHMC_friction2(theta0 = np.array([0]),X = np.zeros((50,1)), gradU = gradU, eps=0.1,sample_size=10000, B=np.array([0]),C=2*np.eye(1),batch_size = 10,burnin=500)"
   ]
  },
  {
   "cell_type": "code",
   "execution_count": 16,
   "metadata": {},
   "outputs": [
    {
     "name": "stdout",
     "output_type": "stream",
     "text": [
      "2.55 s ± 16.9 ms per loop (mean ± std. dev. of 7 runs, 1 loop each)\n"
     ]
    }
   ],
   "source": [
    "%%timeit\n",
    "SGHMC_friction2(theta0 = np.array([0]),X = np.zeros((50,1)), gradU = gradU_numba, eps=0.1,sample_size=10000, B=np.array([0]),C=2*np.eye(1),batch_size = 10,burnin=500)"
   ]
  },
  {
   "cell_type": "code",
   "execution_count": 17,
   "metadata": {},
   "outputs": [],
   "source": [
    "random.seed(100)\n",
    "theta1 = SGHMC_friction2(theta0 = np.array([0]),X = np.zeros((50,1)), gradU = gradU_numba, eps=0.1,sample_size=10000, B=np.array([0]),C=2*np.eye(1),batch_size = 10,burnin=500)"
   ]
  },
  {
   "cell_type": "code",
   "execution_count": 18,
   "metadata": {},
   "outputs": [
    {
     "data": {
      "text/plain": [
       "<matplotlib.axes._subplots.AxesSubplot at 0x7f73e9dc6748>"
      ]
     },
     "execution_count": 18,
     "metadata": {},
     "output_type": "execute_result"
    },
    {
     "data": {
      "image/png": "[encoded data removed]",
      "text/plain": [
       "<Figure size 432x288 with 1 Axes>"
      ]
     },
     "metadata": {},
     "output_type": "display_data"
    }
   ],
   "source": [
    "sns.kdeplot(theta1.reshape(-1,))"
   ]
  },
  {
   "cell_type": "code",
   "execution_count": 19,
   "metadata": {},
   "outputs": [],
   "source": [
    "theta_mn = SGHMC_friction2(theta0=np.array([1,1]), X = y[:,None], gradU = gradU2, eps=0.01, sample_size=1000, B=0, C=np.eye(2), batch_size=100,burnin=500)"
   ]
  },
  {
   "cell_type": "code",
   "execution_count": 20,
   "metadata": {
    "scrolled": false
   },
   "outputs": [
    {
     "data": {
      "image/png": "[encoded data removed]",
      "text/plain": [
       "<Figure size 432x288 with 1 Axes>"
      ]
     },
     "metadata": {},
     "output_type": "display_data"
    }
   ],
   "source": [
    "kdeplt2 = sns.kdeplot(theta_mn[:,0],theta_mn[:,1])  \n",
    "plt.show()"
   ]
  },
  {
   "cell_type": "markdown",
   "metadata": {},
   "source": [
    "## Profile SGHMC2"
   ]
  },
  {
   "cell_type": "code",
   "execution_count": 21,
   "metadata": {},
   "outputs": [
    {
     "name": "stdout",
     "output_type": "stream",
     "text": [
      "          802556 function calls in 1.819 seconds\n",
      "\n",
      "   Ordered by: cumulative time\n",
      "   List reduced from 33 to 10 due to restriction <10>\n",
      "\n",
      "   ncalls  tottime  percall  cumtime  percall filename:lineno(function)\n",
      "        1    0.000    0.000    1.819    1.819 {built-in method builtins.exec}\n",
      "        1    0.000    0.000    1.818    1.818 <string>:1(<module>)\n",
      "        1    0.269    0.269    1.818    1.818 <ipython-input-14-cde73ae1588d>:1(SGHMC_friction2)\n",
      "    25000    0.057    0.000    1.173    0.000 <__array_function__ internals>:2(solve)\n",
      "    25002    0.043    0.000    1.102    0.000 {built-in method numpy.core._multiarray_umath.implement_array_function}\n",
      "    25000    0.309    0.000    1.059    0.000 linalg.py:323(solve)\n",
      "    25002    0.140    0.000    0.342    0.000 linalg.py:144(_commonType)\n",
      "    12500    0.080    0.000    0.232    0.000 <ipython-input-3-876c899523f9>:1(gradU)\n",
      "    50002    0.099    0.000    0.222    0.000 linalg.py:116(_makearray)\n",
      "    12500    0.144    0.000    0.144    0.000 <ipython-input-3-876c899523f9>:3(grad_log_data)\n",
      "\n",
      "\n"
     ]
    },
    {
     "data": {
      "text/plain": [
       "<pstats.Stats at 0x7f73e9da3668>"
      ]
     },
     "execution_count": 21,
     "metadata": {},
     "output_type": "execute_result"
    }
   ],
   "source": [
    "profile = %prun -r -q SGHMC_friction2(theta0 = np.array([0]),X = np.zeros((50,1)), gradU = gradU, eps=0.1,sample_size=2000, B=np.array([0]),C=2*np.eye(1),batch_size = 10,burnin=500)\n",
    "profile.sort_stats('cumtime').print_stats(10)"
   ]
  },
  {
   "cell_type": "markdown",
   "metadata": {},
   "source": [
    "## Use parallel computation to test code"
   ]
  },
  {
   "cell_type": "code",
   "execution_count": 22,
   "metadata": {},
   "outputs": [],
   "source": [
    "def parallel_setup(view):\n",
    "    with view.sync_imports():\n",
    "        import numpy"
   ]
  },
  {
   "cell_type": "code",
   "execution_count": 23,
   "metadata": {},
   "outputs": [],
   "source": [
    "def SGHMC_parallel(theta0, X, gradU, eps, sample_size, B, C, batch_size,burnin, M = None):\n",
    "    '''\n",
    "    parallel version of SGHMC. Please set ipython Clusters before running the following code.\n",
    "    \n",
    "    SETUP:\n",
    "    ----------------------------------------------------------------------\n",
    "    Step1:\n",
    "    Open a terminal (cmd.exe) and type:\n",
    "    ipcluster start -n 4(or other specified number of engines)\n",
    "    \n",
    "    Step2: \n",
    "    Run the following code \n",
    "    \n",
    "    from ipyparallel import Client\n",
    "    rc = Client()\n",
    "    dv = rc[:]\n",
    "    n = len(rc.ids)\n",
    "    with dv.sync_imports():\n",
    "        import numpy\n",
    "    \n",
    "    dv.push(dict(gradU=gradU))\n",
    "    \n",
    "        \n",
    "    INPUT:\n",
    "    ----------------------------------------------------------------------\n",
    "    theta0: starting position of theta\n",
    "    \n",
    "    X: data\n",
    "    \n",
    "    grad_logden_data: gradient of the data log density\n",
    "    \n",
    "    grad_logden_prior: gradient of the prior log density\n",
    "    \n",
    "    eps: step size\n",
    "    \n",
    "    sample_size: number of samples drawn from prosterior distribution\n",
    "    \n",
    "    B: noise estimate\n",
    "    \n",
    "    C: user specified friction term\n",
    "    \n",
    "    batch_size: size of minibatches\n",
    "    \n",
    "    burnin: number of iterations for warm up\n",
    "    \n",
    "    M(optional): Mass matrix, defualt is set to be identity.\n",
    "    ----------------------------------------------------------------------\n",
    "    OUTPUT:\n",
    "    \n",
    "    thetat: thetas sampled from posterior distribution\n",
    "    ----------------------------------------------------------------------\n",
    "    '''\n",
    "    from ipyparallel import Client\n",
    "    rc = Client()\n",
    "    dv = rc[:]\n",
    "    n = len(rc.ids)\n",
    "    parallel_setup(dv)\n",
    "    \n",
    "    dv.push(dict(gradU=gradU))\n",
    "    i = int((sample_size+n*burnin)/4)  \n",
    "\n",
    "    @dv.remote(block=True)\n",
    "    def SGHMC_friction4(theta0, X, gradU, eps, sample_size, B, C, batch_size,burnin, M = None):\n",
    "\n",
    "        i = sample_size+burnin\n",
    "        p = theta0.shape[0]\n",
    "        thetat = numpy.zeros((i+1,p))\n",
    "        thetat[0] = theta0\n",
    "\n",
    "        m1 = int(numpy.ceil(X.shape[0]/batch_size))\n",
    "        batch = [X[i::m1] for i in range(m1)]\n",
    "        m = len(batch)\n",
    "\n",
    "        if(M is None):\n",
    "            M = numpy.eye(p)\n",
    "\n",
    "        M1sqrt = numpy.linalg.cholesky(M)\n",
    "        Msqrt = numpy.linalg.cholesky(2*eps*(C-B))\n",
    "\n",
    "        for t in range(i):\n",
    "            thetai = thetat[t]\n",
    "            ri = M1sqrt@numpy.random.normal(size=p)\n",
    "            for j in range(m):\n",
    "                thetai = thetai + eps * numpy.linalg.solve(M,ri)\n",
    "                gU = gradU(X.shape[0]/batch[j].shape[0],thetai,batch[j])\n",
    "                ri = ri - eps * gU - eps * C @ numpy.linalg.solve(M, ri) + Msqrt@numpy.random.normal(size=p)\n",
    "            thetat[t+1] = thetai\n",
    "\n",
    "        return thetat[burnin+1:]\n",
    "    \n",
    "    theta = SGHMC_friction4(theta0, X, gradU, eps, i, B, C, batch_size,burnin, M)\n",
    "    return numpy.concatenate(theta)"
   ]
  },
  {
   "cell_type": "code",
   "execution_count": 24,
   "metadata": {},
   "outputs": [
    {
     "name": "stdout",
     "output_type": "stream",
     "text": [
      "importing numpy on engine(s)\n",
      "importing numpy on engine(s)\n",
      "importing numpy on engine(s)\n",
      "importing numpy on engine(s)\n",
      "importing numpy on engine(s)\n",
      "importing numpy on engine(s)\n",
      "importing numpy on engine(s)\n",
      "importing numpy on engine(s)\n",
      "1.2 s ± 50.4 ms per loop (mean ± std. dev. of 7 runs, 1 loop each)\n"
     ]
    }
   ],
   "source": [
    "%%timeit\n",
    "SGHMC_parallel(np.array([0]),np.zeros((50,1)),gradU,0.1,10000, np.array([0]),2*np.eye(1),10,500)"
   ]
  },
  {
   "cell_type": "code",
   "execution_count": 25,
   "metadata": {},
   "outputs": [
    {
     "name": "stdout",
     "output_type": "stream",
     "text": [
      "importing numpy on engine(s)\n",
      "importing numpy on engine(s)\n",
      "importing numpy on engine(s)\n",
      "importing numpy on engine(s)\n",
      "importing numpy on engine(s)\n",
      "importing numpy on engine(s)\n",
      "importing numpy on engine(s)\n",
      "importing numpy on engine(s)\n",
      "1.21 s ± 47.8 ms per loop (mean ± std. dev. of 7 runs, 1 loop each)\n"
     ]
    }
   ],
   "source": [
    "%%timeit\n",
    "theta1 = SGHMC_parallel(np.array([0]),np.zeros((50,1)),gradU_numba,0.1,10000, np.array([0]),2*np.eye(1),10,500)"
   ]
  },
  {
   "cell_type": "code",
   "execution_count": 26,
   "metadata": {},
   "outputs": [
    {
     "name": "stdout",
     "output_type": "stream",
     "text": [
      "importing numpy on engine(s)\n"
     ]
    }
   ],
   "source": [
    "theta1 = SGHMC_parallel(np.array([0]),np.zeros((50,1)),gradU_numba,0.1,10000, np.array([0]),2*np.eye(1),10,500)"
   ]
  },
  {
   "cell_type": "code",
   "execution_count": 27,
   "metadata": {},
   "outputs": [
    {
     "data": {
      "text/plain": [
       "<matplotlib.axes._subplots.AxesSubplot at 0x7f73e9da64a8>"
      ]
     },
     "execution_count": 27,
     "metadata": {},
     "output_type": "execute_result"
    },
    {
     "data": {
      "image/png": "[encoded data removed]",
      "text/plain": [
       "<Figure size 432x288 with 1 Axes>"
      ]
     },
     "metadata": {},
     "output_type": "display_data"
    }
   ],
   "source": [
    "sns.kdeplot(theta1[:,0])"
   ]
  },
  {
   "cell_type": "code",
   "execution_count": 28,
   "metadata": {},
   "outputs": [
    {
     "name": "stdout",
     "output_type": "stream",
     "text": [
      "importing numpy on engine(s)\n"
     ]
    }
   ],
   "source": [
    "random.seed(100)\n",
    "theta_mn = SGHMC_parallel(theta0=np.array([1,1]), X = y[:,None], gradU = gradU2, eps=0.01, sample_size=5000, B=0, C=np.eye(2), batch_size=100,burnin=500)"
   ]
  },
  {
   "cell_type": "code",
   "execution_count": 29,
   "metadata": {},
   "outputs": [
    {
     "data": {
      "image/png": "[encoded data removed]",
      "text/plain": [
       "<Figure size 432x288 with 1 Axes>"
      ]
     },
     "metadata": {},
     "output_type": "display_data"
    }
   ],
   "source": [
    "kdeplt2 = sns.kdeplot(theta_mn[:,0],theta_mn[:,1])  \n",
    "plt.show()"
   ]
  },
  {
   "cell_type": "markdown",
   "metadata": {},
   "source": [
    "## figure 1 real distribution"
   ]
  },
  {
   "cell_type": "code",
   "execution_count": 30,
   "metadata": {},
   "outputs": [
    {
     "data": {
      "text/plain": [
       "<matplotlib.legend.Legend at 0x7f73d8727630>"
      ]
     },
     "execution_count": 30,
     "metadata": {},
     "output_type": "execute_result"
    },
    {
     "data": {
      "image/png": "[encoded data removed]",
      "text/plain": [
       "<Figure size 432x288 with 1 Axes>"
      ]
     },
     "metadata": {},
     "output_type": "display_data"
    }
   ],
   "source": [
    "theta = np.linspace(-2,2,100)\n",
    "p = np.exp(2*theta**2-theta**4)\n",
    "fig, ax = plt.subplots()\n",
    "ax.plot(theta,p,label = \"true distribution\")\n",
    "ax.legend(loc= \"upper center\")"
   ]
  },
  {
   "cell_type": "markdown",
   "metadata": {},
   "source": [
    "## Pyhmc"
   ]
  },
  {
   "cell_type": "code",
   "execution_count": 31,
   "metadata": {},
   "outputs": [],
   "source": [
    "def logprob(theta):\n",
    "    log = -2* theta**2 +theta**4 \n",
    "    grad = - 4*theta+4*theta**3\n",
    "    return log, grad"
   ]
  },
  {
   "cell_type": "code",
   "execution_count": 32,
   "metadata": {},
   "outputs": [
    {
     "name": "stdout",
     "output_type": "stream",
     "text": [
      "CPU times: user 368 ms, sys: 28 ms, total: 396 ms\n",
      "Wall time: 391 ms\n"
     ]
    }
   ],
   "source": [
    "%%time\n",
    "theta0 = np.array([0])\n",
    "samples = hmc(logprob, x0=theta0, n_samples=10000)"
   ]
  },
  {
   "cell_type": "code",
   "execution_count": 33,
   "metadata": {},
   "outputs": [
    {
     "data": {
      "text/plain": [
       "<matplotlib.axes._subplots.AxesSubplot at 0x7f73d8679f60>"
      ]
     },
     "execution_count": 33,
     "metadata": {},
     "output_type": "execute_result"
    },
    {
     "data": {
      "image/png": "[encoded data removed]",
      "text/plain": [
       "<Figure size 432x288 with 1 Axes>"
      ]
     },
     "metadata": {},
     "output_type": "display_data"
    }
   ],
   "source": [
    "sns.kdeplot(theta1[:,0])"
   ]
  },
  {
   "cell_type": "markdown",
   "metadata": {},
   "source": [
    "## PyStan"
   ]
  },
  {
   "cell_type": "code",
   "execution_count": 34,
   "metadata": {},
   "outputs": [],
   "source": [
    "import pystan"
   ]
  },
  {
   "cell_type": "code",
   "execution_count": null,
   "metadata": {},
   "outputs": [
    {
     "name": "stderr",
     "output_type": "stream",
     "text": [
      "WARNING:pystan:DeprecationWarning: pystan.stan was deprecated in version 2.17 and will be removed in version 3.0. Compile and use a Stan program in separate steps.\n",
      "INFO:pystan:COMPILING THE C++ CODE FOR MODEL anon_model_131ecaec6df280621883c2ade2313a62 NOW.\n"
     ]
    }
   ],
   "source": [
    "%%time\n",
    "model = \"\"\"\n",
    "functions {\n",
    "    real p_lpdf(real theta) {return 2*theta^2-theta^4;}\n",
    "}\n",
    "parameters {\n",
    "    real theta;\n",
    "}\n",
    "model {\n",
    "    theta ~ p_lpdf();\n",
    "}\n",
    "\"\"\"\n",
    "data = {}\n",
    "\n",
    "fit = pystan.stan(model_code=model, data=data, iter=1000, chains=1)\n",
    "theta = fit.extract(permuted=True)['theta']"
   ]
  },
  {
   "cell_type": "code",
   "execution_count": null,
   "metadata": {},
   "outputs": [],
   "source": [
    "sns.kdeplot(theta)"
   ]
  },
  {
   "cell_type": "code",
   "execution_count": null,
   "metadata": {},
   "outputs": [],
   "source": []
  }
 ],
 "metadata": {
  "kernelspec": {
   "display_name": "Python 3",
   "language": "python",
   "name": "python3"
  },
  "language_info": {
   "codemirror_mode": {
    "name": "ipython",
    "version": 3
   },
   "file_extension": ".py",
   "mimetype": "text/x-python",
   "name": "python",
   "nbconvert_exporter": "python",
   "pygments_lexer": "ipython3",
   "version": "3.6.10"
  }
 },
 "nbformat": 4,
 "nbformat_minor": 2
}

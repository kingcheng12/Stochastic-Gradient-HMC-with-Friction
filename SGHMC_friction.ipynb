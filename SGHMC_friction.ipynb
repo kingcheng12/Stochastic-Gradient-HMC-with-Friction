{
 "cells": [
  {
   "cell_type": "markdown",
   "metadata": {},
   "source": [
    "# Project: Stochastic Gradient Hamiltonian Monte Carlo"
   ]
  },
  {
   "cell_type": "markdown",
   "metadata": {},
   "source": [
    "In this project we are going to implement standard HMC, HMC with MH, Naive SGHMC and SGHMC with Friction."
   ]
  },
  {
   "cell_type": "markdown",
   "metadata": {},
   "source": [
    "# standard HMC"
   ]
  },
  {
   "cell_type": "markdown",
   "metadata": {},
   "source": [
    "### Basic settings"
   ]
  },
  {
   "cell_type": "markdown",
   "metadata": {},
   "source": [
    "Suppose we want to sample from the posterior distribution: \n",
    "$$p(\\theta|D) \\propto exp(-U(\\theta))$$ where $D = \\{x_{1\\:n}\\}$\n",
    "which are independent and $U$ is the potential energy fucntion: \n",
    "$$U = -\\sum_{x_i \\in D}\\log p(x|\\theta)- \\log p(\\theta)$$\n",
    "We will sample from joint distribution $$\\pi(\\theta, r) \\propto exp(-U(\\theta)-\\frac{1}{2}r^TM^{-1}r)$$\n",
    "where r is the auxiliary momentum variables and M is the mass matrix. They define the kinetic energy together.\n",
    "Then we discard r and keep $\\theta$."
   ]
  },
  {
   "cell_type": "markdown",
   "metadata": {},
   "source": [
    "The Hamiltonian function is:\n",
    "$$H(\\theta, r)=U(\\theta)+\\frac{1}{2}r^TM^{-1}r$$\n",
    "The Hamiltonian dynamics are:\n",
    "$$d\\theta = M^{-1}r dt\\\\ dr=-\\triangledown U(\\theta) dt$$"
   ]
  },
  {
   "cell_type": "markdown",
   "metadata": {},
   "source": [
    "### Implement HMC"
   ]
  },
  {
   "cell_type": "markdown",
   "metadata": {},
   "source": [
    "We use a univariate $\\theta$ for illustration. Suppose $U(\\theta)=-2\\theta^2+\\theta^4$. Based on $U(\\theta)$, we need to define functions $\\triangledown U, H$."
   ]
  },
  {
   "cell_type": "code",
   "execution_count": 1,
   "metadata": {},
   "outputs": [],
   "source": []
  },
  {
   "cell_type": "markdown",
   "metadata": {},
   "source": [
    "# Stochastic Gradient HMC with Naive Approach"
   ]
  },
  {
   "cell_type": "markdown",
   "metadata": {},
   "source": [
    "The Naive approach refers to the simple plug-in estimator of $\\triangledown \\tilde{U}(\\theta) = -\\frac{|D|}{|\\tilde{D}|}\\sum_{x \\in \\tilde{D}} \\triangledown log p(x|\\theta) - \\triangledown log p(\\theta)$ with minibatch $\\tilde{D}$. $\\triangledown \\tilde{U}(\\theta)$ is computationally easier, but then the resulting joint distribution $\\pi(\\theta, r)$ is not invariant."
   ]
  },
  {
   "cell_type": "code",
   "execution_count": null,
   "metadata": {},
   "outputs": [],
   "source": []
  },
  {
   "cell_type": "markdown",
   "metadata": {},
   "source": [
    "The Hamiltonian Dynamics are:\n",
    "$$d\\theta = M^{-1}r dt\\\\ dr=-\\triangledown U(\\theta) dt + N(0,2B(\\theta)) dt$$\n",
    "where $B(\\theta) = \\frac{1}{2}\\epsilon V(\\theta)$"
   ]
  },
  {
   "cell_type": "markdown",
   "metadata": {},
   "source": [
    "# need to find covariance of the stochastic gradient noise"
   ]
  },
  {
   "cell_type": "markdown",
   "metadata": {},
   "source": [
    "Since $\\epsilon$ is small, it does not really matter that V is. Thus we take V as identity."
   ]
  },
  {
   "cell_type": "markdown",
   "metadata": {},
   "source": [
    "### Implement Naive SGHMC"
   ]
  },
  {
   "cell_type": "markdown",
   "metadata": {},
   "source": [
    "# SGHMC with Friction"
   ]
  },
  {
   "cell_type": "markdown",
   "metadata": {},
   "source": [
    "Add friction term to momentum update:\n",
    "$$\n",
    "d\\theta = M^{-1}r dt\\\\\n",
    "dr = - \\triangledown U(\\theta)dt - BM^{-1}rdt+N(0,2Bdt)\n",
    "$$"
   ]
  },
  {
   "cell_type": "markdown",
   "metadata": {},
   "source": [
    "# new proposal for SGHMC with friction"
   ]
  },
  {
   "cell_type": "code",
   "execution_count": 1,
   "metadata": {},
   "outputs": [],
   "source": [
    "import scipy.stats as sta\n",
    "import seaborn as sns\n",
    "import numpy as np\n",
    "import matplotlib.pyplot as plt"
   ]
  },
  {
   "cell_type": "code",
   "execution_count": 22,
   "metadata": {},
   "outputs": [],
   "source": [
    "def SGHMC_friction2(theta0, X, grad_logden_data, grad_logden_prior, eps, i, B, C, batch_size,burnin,seed=1, M = None):\n",
    "    '''\n",
    "    SGHMC with friction:\n",
    "    theta0(numpy array): starting position of theta\n",
    "    X: data\n",
    "    grad_logden_data: gradient of the data log density\n",
    "    grad_logden_prior: gradient of the prior log density\n",
    "    eps: step size\n",
    "    i: number of iterations\n",
    "    B: noise estimate\n",
    "    C: user specified friction term\n",
    "    batch_size: size of minibatches\n",
    "    M: Mass matrix\n",
    "    '''\n",
    "    \n",
    "    def minib(x, batch_size):\n",
    "        '''\n",
    "        create minibatchs of x\n",
    "        x: data\n",
    "        batch_size: size of minibatch, if len(x)/batch_size is not integer, some batches wille have smaller sizes\n",
    "        '''\n",
    "        m = np.ceil(x.shape[0]/batch_size)\n",
    "        np.random.shuffle(x)\n",
    "\n",
    "        return np.array_split(x, m)\n",
    "    \n",
    "    n = theta0.shape[0]\n",
    "    rt = np.zeros((i+1,n))\n",
    "    thetat = np.zeros((i+1,n))\n",
    "    thetat[0,:] = theta0\n",
    "    batch = minib(X,batch_size)\n",
    "    m = len(batch)\n",
    "\n",
    "    if(M is None):\n",
    "        M = np.eye(n)\n",
    "    \n",
    "    for t in range(i):\n",
    "        rt[t,:] = np.random.multivariate_normal(np.zeros(n), M)\n",
    "        theta0,r0 = thetat[t,:],rt[t,:]\n",
    "        thetai,ri = theta0.reshape(-1,1),r0.reshape(-1,1)\n",
    "        for j in range(m):\n",
    "            thetai = thetai + eps * np.linalg.inv(M) @ ri\n",
    "            sumg = 0\n",
    "            for x in batch[j]:\n",
    "                sumg += grad_logden_data(x,thetai)-grad_logden_prior(thetai)\n",
    "            gU = - X.shape[0]/batch[j].shape[0]* sumg\n",
    "            ri = ri - eps * gU.reshape(-1,1) - eps * C @ np.linalg.inv(M) @ ri + np.random.multivariate_normal(np.zeros(n), np.array(2*eps*(C-B)).reshape(n,n)).reshape(-1,1)\n",
    "        thetat[t+1,:],rt[t+1,:] = thetai.reshape(-1,n), ri.reshape(-1,n)\n",
    "    \n",
    "    return thetat[burnin+1:,],rt[burnin+1:,:]\n",
    "        "
   ]
  },
  {
   "cell_type": "code",
   "execution_count": 3,
   "metadata": {},
   "outputs": [],
   "source": [
    "def SGHMC_friction3(theta0, X, grad_logden_data, grad_logden_prior, eps, i, B, C, batch_size,burnin, M = None):\n",
    "    '''\n",
    "    SGHMC with friction:\n",
    "    theta0(numpy array): starting position of theta\n",
    "    X: data\n",
    "    grad_logden_data: gradient of the data log density\n",
    "    grad_logden_prior: gradient of the prior log density\n",
    "    eps: step size\n",
    "    i: number of iterations\n",
    "    B: noise estimate\n",
    "    C: user specified friction term\n",
    "    batch_size: size of minibatches\n",
    "    M: Mass matrix\n",
    "    '''\n",
    "    \n",
    "    def minib(x, batch_size):\n",
    "        '''\n",
    "        create minibatchs of x\n",
    "        x: data\n",
    "        batch_size: size of minibatch, if len(x)/batch_size is not integer, some batches wille have smaller sizes\n",
    "        '''\n",
    "        m = np.ceil(x.shape[0]/batch_size)\n",
    "        np.random.shuffle(x)\n",
    "\n",
    "        return np.array_split(x, m)\n",
    "    \n",
    "    n = theta0.shape[0]\n",
    "    rt = np.zeros((i+1,n))\n",
    "    thetat = np.zeros((i+1,n))\n",
    "    thetat[0,:] = theta0\n",
    "    batch = minib(X,batch_size)\n",
    "    m = len(batch)\n",
    "\n",
    "    if(M is None):\n",
    "        M = np.eye(n)\n",
    "        \n",
    "    Msqrt = np.linalg.cholesky(2*eps*(C-B))\n",
    "    \n",
    "    for t in range(i):\n",
    "        rt[t,:] = np.random.multivariate_normal(np.zeros(n), M)\n",
    "        theta0,r0 = thetat[t,:],rt[t,:]\n",
    "        thetai,ri = theta0.reshape(-1,1),r0.reshape(-1,1)\n",
    "        for j in range(m):\n",
    "            thetai = thetai + eps * np.linalg.inv(M) @ ri\n",
    "            sumg = 0\n",
    "            for x in batch[j]:\n",
    "                sumg += grad_logden_data(x,thetai)-grad_logden_prior(thetai)\n",
    "            gU = - X.shape[0]/batch[j].shape[0]* sumg\n",
    "            ri = ri - eps * gU.reshape(-1,1) - eps * C @ np.linalg.inv(M) @ ri + (Msqrt@np.random.normal(size=n)).reshape(-1,1)\n",
    "        thetat[t+1,:],rt[t+1,:] = thetai.reshape(-1,n), ri.reshape(-1,n)\n",
    "    \n",
    "    return thetat[burnin+1:,],rt[burnin+1:,:]"
   ]
  },
  {
   "cell_type": "code",
   "execution_count": null,
   "metadata": {},
   "outputs": [],
   "source": []
  },
  {
   "cell_type": "code",
   "execution_count": 4,
   "metadata": {},
   "outputs": [],
   "source": [
    "def grad_logden_data(x,theta):\n",
    "    return -(-4*theta+4*theta**3)/50"
   ]
  },
  {
   "cell_type": "code",
   "execution_count": 5,
   "metadata": {},
   "outputs": [],
   "source": [
    "def grad_prior(theta):\n",
    "    return 0"
   ]
  },
  {
   "cell_type": "code",
   "execution_count": 6,
   "metadata": {},
   "outputs": [],
   "source": [
    "import random"
   ]
  },
  {
   "cell_type": "code",
   "execution_count": 32,
   "metadata": {},
   "outputs": [
    {
     "name": "stdout",
     "output_type": "stream",
     "text": [
      "CPU times: user 3.94 s, sys: 0 ns, total: 3.94 s\n",
      "Wall time: 3.94 s\n"
     ]
    }
   ],
   "source": [
    "%%time\n",
    "random.seed(100)\n",
    "theta1,r1 = SGHMC_friction2(theta0 = np.array([0]),X = np.zeros((50,1)),grad_logden_data = grad_logden_data,grad_logden_prior = grad_prior,\n",
    "                eps=0.1,i=2000, B=np.array([0]),C=2*np.eye(1),batch_size = 10,burnin=500)"
   ]
  },
  {
   "cell_type": "code",
   "execution_count": 33,
   "metadata": {
    "scrolled": false
   },
   "outputs": [
    {
     "data": {
      "text/plain": [
       "<matplotlib.axes._subplots.AxesSubplot at 0x7f8ff3a8aa58>"
      ]
     },
     "execution_count": 33,
     "metadata": {},
     "output_type": "execute_result"
    },
    {
     "data": {
      "image/png": "[encoded data removed]",
      "text/plain": [
       "<Figure size 432x288 with 1 Axes>"
      ]
     },
     "metadata": {},
     "output_type": "display_data"
    }
   ],
   "source": [
    "sns.kdeplot(theta1.reshape(-1,))"
   ]
  },
  {
   "cell_type": "code",
   "execution_count": 9,
   "metadata": {},
   "outputs": [
    {
     "name": "stdout",
     "output_type": "stream",
     "text": [
      "CPU times: user 2.16 s, sys: 0 ns, total: 2.16 s\n",
      "Wall time: 2.16 s\n"
     ]
    }
   ],
   "source": [
    "%%time\n",
    "random.seed(100)\n",
    "theta,r = SGHMC_friction3(theta0 = np.array([0]),X = np.zeros((50,1)),grad_logden_data = grad_logden_data,grad_logden_prior = grad_prior,\n",
    "                eps=0.1,i=2000, B=np.array([0]),C=2*np.eye(1),batch_size = 10,burnin=500)"
   ]
  },
  {
   "cell_type": "code",
   "execution_count": 10,
   "metadata": {},
   "outputs": [
    {
     "data": {
      "text/plain": [
       "<matplotlib.axes._subplots.AxesSubplot at 0x7f8ff3e28fd0>"
      ]
     },
     "execution_count": 10,
     "metadata": {},
     "output_type": "execute_result"
    },
    {
     "data": {
      "image/png": "[encoded data removed]",
      "text/plain": [
       "<Figure size 432x288 with 1 Axes>"
      ]
     },
     "metadata": {},
     "output_type": "display_data"
    }
   ],
   "source": [
    "sns.kdeplot(theta.reshape(-1,))"
   ]
  },
  {
   "cell_type": "code",
   "execution_count": null,
   "metadata": {},
   "outputs": [],
   "source": []
  },
  {
   "cell_type": "code",
   "execution_count": 36,
   "metadata": {},
   "outputs": [],
   "source": [
    "mu = np.array([-5, 5]).reshape(2,1) # true value for mu\n",
    "n = 200 # number of observations\n",
    "y = np.r_[np.random.normal(mu[0], 1, n),np.random.normal(mu[1], 1, n)]"
   ]
  },
  {
   "cell_type": "code",
   "execution_count": 37,
   "metadata": {},
   "outputs": [],
   "source": [
    "def mn_glpdf(y,mu):\n",
    "    exp1=np.exp(-0.5*(y-mu[0])**2)\n",
    "    exp2=np.exp(-0.5*(y-mu[1])**2)\n",
    "    \n",
    "    v = np.c_[exp1*(y-mu[0]),exp2*(y-mu[1])]\n",
    "    return np.sum(v/(exp1+exp2),axis=0)\n",
    "\n",
    "def mn_glpr(mu):\n",
    "    return -(np.sum(mu)/100)"
   ]
  },
  {
   "cell_type": "code",
   "execution_count": 38,
   "metadata": {},
   "outputs": [],
   "source": [
    "theta_mn,r_mn = SGHMC_friction2(theta0=np.array([1,1]), X = y[:,None], grad_logden_data=mn_glpdf, grad_logden_prior=mn_glpr, eps=0.01, i=1000, B=0, C=np.eye(2), batch_size=100,burnin=500)"
   ]
  },
  {
   "cell_type": "code",
   "execution_count": 39,
   "metadata": {
    "scrolled": true
   },
   "outputs": [
    {
     "data": {
      "image/png": "[encoded data removed]",
      "text/plain": [
       "<Figure size 432x288 with 1 Axes>"
      ]
     },
     "metadata": {},
     "output_type": "display_data"
    }
   ],
   "source": [
    "kdeplt2 = sns.kdeplot(theta_mn[:,0],theta_mn[:,1])  \n",
    "plt.show()"
   ]
  },
  {
   "cell_type": "markdown",
   "metadata": {},
   "source": [
    "## take simulated data from normal distribution as example"
   ]
  },
  {
   "cell_type": "markdown",
   "metadata": {},
   "source": [
    "Simulate 1000 samples from N($\\mu=10$,100). We want to sample $\\mu$ from the posterior $p(\\mu|D)$."
   ]
  },
  {
   "cell_type": "code",
   "execution_count": 17,
   "metadata": {},
   "outputs": [
    {
     "data": {
      "text/plain": [
       "array([ 17.80940264, -12.90820253,   7.28730158,  11.06798918,\n",
       "        11.60151888,  11.52779961,  13.94589599,   6.89335457,\n",
       "         3.16399043,   8.40223896,  13.50102312,  -1.40375701,\n",
       "        19.15975341,   4.18365302,  17.96333108,  24.49682133,\n",
       "        22.0669001 ,  28.21241096,  13.91144207,  12.41888075,\n",
       "        27.3721917 ,  12.00762573,  22.81031273,  -1.66883626,\n",
       "        14.16268348,  10.31081083,   3.37091621,   1.85686351,\n",
       "         9.12526968,   1.23114633,   8.73409384,  12.12821401,\n",
       "        21.82392889,  -1.67923164,   7.77180986,  28.60366585,\n",
       "         3.398824  ,  11.904201  ,  12.57085559,  -1.29833357,\n",
       "         0.76868049,   6.0881222 ,  20.58094711,  13.86919508,\n",
       "        18.89686745,   8.20342771,  11.93477613,  27.14852621,\n",
       "         2.67665932,  17.02110929,  21.18588254,   3.9019094 ,\n",
       "        19.22471588,  19.99143714,   8.89151477,  10.780995  ,\n",
       "        23.25832844,  19.99770292,  24.17510603,  -1.59341681,\n",
       "        -2.83259822,  14.63235251, -12.78731209,  16.17273605,\n",
       "         0.08216901,   9.60553623,   8.95416479,   0.32987498,\n",
       "        -8.67502377,  -1.64648536,  26.45446064, -14.82775215,\n",
       "         4.93459796,  14.24262959,   4.82627381,   2.95614738,\n",
       "         0.16822584,  12.88567336,  33.07899136,   8.04738606,\n",
       "         7.76512415,  13.0036465 ,  14.70197152,   6.65400631,\n",
       "         9.67805592,   7.9679119 ,  19.5924326 ,   3.98085737,\n",
       "        21.30212282,   1.06462098,   8.25625434, -11.63206409,\n",
       "         0.74373539,  17.645736  ,  -1.17837955,   4.78430826,\n",
       "        17.53862184,  10.29727697,  14.81258182,  -6.27078026,\n",
       "         8.23158658,   0.68512303,   5.5909613 ,  18.77839059,\n",
       "       -22.99391358,  -8.26957271,   5.32006492,   9.70730628,\n",
       "         1.96025428,  32.87362846,  12.9567181 ,  -2.21012541,\n",
       "        26.02850102,  10.26017375,  -4.04774609,  -3.86991079,\n",
       "       -13.32936411,   6.07487115,  -7.51487481,   1.02701845,\n",
       "         5.68918646,  19.61020066,  36.05408818,  12.45209982,\n",
       "        15.5747499 ,  11.69661896,  23.03947713,   4.11306843,\n",
       "         8.98346983,   3.95589067,  10.3216182 ,  10.50471016,\n",
       "        13.97133795,   9.24877001,   4.24769911,  16.81161534,\n",
       "        23.49753014,  11.43742482,  24.45179592,   5.27757585,\n",
       "        -7.21510385,  14.59186451,   4.86522103,   6.23859273,\n",
       "        29.59313562,  -0.16895613,  15.7623572 ,  23.97132069,\n",
       "         1.1394342 ,  12.95849685,  18.15168245,   9.69455125,\n",
       "        11.31070651,  20.87978932,  18.00698435,  -5.33814042,\n",
       "         9.61893369,  31.28282766,   5.22927498,   5.39746874,\n",
       "         6.18264475,  10.46920266,  11.01709952,   3.02496748,\n",
       "         7.02530543,  20.76265869,  11.59744179,   2.86188915,\n",
       "         0.90888485,   8.00503143,   5.28373948,   6.1516029 ,\n",
       "         4.85777533,  15.20328497,   8.71612003,  11.05598084,\n",
       "        16.40747061,  -0.12991044,  24.5848923 ,   1.29843569,\n",
       "        18.53819516,   8.62186506,  -6.95834464,  15.88964203,\n",
       "         8.03619187,  15.16130998,  21.38014499,   9.92163327,\n",
       "         5.25540462,   6.23577875,   6.05407243,  -6.53315175,\n",
       "        35.09916506,   3.48046178,  -8.10025559,  12.16557093,\n",
       "        -2.23084493,  19.0265892 ,  14.49351185,  -7.80211891,\n",
       "        25.10238913,  13.2801222 ,  12.39279779,  -0.87875499,\n",
       "        13.60459412,   7.35773273,  -0.37403282,   8.06728231,\n",
       "        -2.47400263,  12.68502082,   0.26989063,   6.49304682,\n",
       "        25.05633279,   6.12219452,  17.12981739,   5.69759242,\n",
       "        17.21276269,   3.59398156,  17.89342229,   9.04107698,\n",
       "        17.20584369,  24.96807806,  11.56562687,  12.04447509,\n",
       "        -0.2288143 ,   4.67667052,  18.76977843,  15.2918828 ,\n",
       "        19.56307804,  11.02013804,   8.2324003 ,  14.13429398,\n",
       "        18.0471135 ,  12.01416369,  13.32176799,   7.73303298,\n",
       "         7.4453415 ,  23.7102154 ,  -4.03767271,  12.53044545,\n",
       "        10.52621529,  14.22172551,   7.01401555,   8.18063097,\n",
       "        13.4307249 ,  -1.96127091,  19.93360627,  20.01538968,\n",
       "        17.44088896,   8.21429337,  12.7011658 , -20.36044611,\n",
       "        14.96852572,   9.30016887,   4.66571278,   2.04411274,\n",
       "         1.30047499,  18.89390129,   3.30259463,  22.99261092,\n",
       "        10.5186341 ,  15.97140813,  16.06466615,  15.2403675 ,\n",
       "         0.3835508 ,  20.41835141,   5.9457648 ,  20.25504821,\n",
       "        13.90810901,  14.59266382,   6.31755399, -12.06143587,\n",
       "         7.21564271,  13.25965596,  29.41951245,   3.37068461,\n",
       "         3.68949169,  18.79374225,   0.70516889,   1.36733098,\n",
       "         6.39430092,  19.34724711,   6.71923676,  14.4749536 ,\n",
       "        27.1959744 ,  13.80514641,   6.03175763,  13.73466294,\n",
       "         2.53430179,  17.66329717,  18.11706819,   4.91647165,\n",
       "        -2.65680498,  22.26629379,  -2.73125661,   5.03677748,\n",
       "        -0.25615315,  15.09810401,  32.75428163,  12.49111332,\n",
       "        15.58355834,  22.50183502,   8.45144649,   5.8806957 ,\n",
       "         7.14510572,   3.16945006,  22.61607852,  10.32584995,\n",
       "         5.90255801,   3.36522678,   2.84363335,  16.10539983,\n",
       "        -6.28039363,  11.7880458 ,   0.77111646,   8.85134536,\n",
       "         4.22227116,  11.69672684,  17.79628938,  19.45443121,\n",
       "         0.13587779,  -1.97687109,  26.27546445,  18.45641502,\n",
       "        22.13984071,   6.8675055 ,   5.79968304,  19.14383169,\n",
       "        25.35453254,  10.59451002,  -7.02624314,  12.77449447,\n",
       "        15.86220586,  12.43821918,   6.66420536,   1.7662743 ,\n",
       "        12.76588303,  11.38776842,  10.00164112,   7.26819586,\n",
       "        31.3801194 ,   0.9423393 ,  19.37399417,  19.57088139,\n",
       "        20.23374903,  12.19532855,  17.22167928,  21.58382289,\n",
       "        20.68894397,  10.91857075,  12.53128404,  17.52921113,\n",
       "         2.77275469,  21.5948345 ,  10.35048079,  -1.96399247,\n",
       "        14.38962546,  23.76369192,  24.18521606,   6.05967275,\n",
       "        -2.39314243,  14.72622664,  27.5153903 ,  -6.25816939,\n",
       "         6.07985259,   7.88188297,  -1.32544448,   1.16426524,\n",
       "        14.8463616 ,  24.92158296,   5.1136946 ,   3.50238459,\n",
       "        -2.04696653,  15.25469255,  30.12407559,   4.54130367,\n",
       "        -7.16516643,  11.20815867,  -1.08294483, -11.96547056,\n",
       "        10.91602379,   8.37054318,  39.24718339,   7.0429771 ,\n",
       "        20.93487727,  16.51592819,   6.33197541,  24.73657609,\n",
       "        13.41376457,   4.92440352,   2.74002608,  12.11732682,\n",
       "         1.27660422,  33.89884837,  23.40828342,  13.00275585,\n",
       "         2.00230804,  11.53703234,  15.83813156,  -3.82655626,\n",
       "        19.10022081,  21.24979927,   7.97755666,   7.14838216,\n",
       "        15.59810259,   8.45120253,  22.95975244,   4.54074477,\n",
       "        -5.37502925,  24.07356627,   9.53121227,  -5.03842448,\n",
       "        16.16219943,   7.82098269,   8.44790274,  -3.85737624,\n",
       "         6.50861685,  -8.14022983,  -3.24268975,  25.40218572,\n",
       "         3.80078152,  -9.38906433,  11.09723027,  -7.9271128 ,\n",
       "        12.35222569,  14.60118541,  31.05200284,   3.87798776,\n",
       "         9.74628988,  -2.898781  ,  23.78681007,   5.84138095,\n",
       "        -4.72736248,  23.0354011 ,  18.37464069,  11.58749413,\n",
       "        22.45576476,   0.83121715,  12.35840814,  35.49257024,\n",
       "         8.71329426,  11.55181987,  15.15809687,  26.99487647,\n",
       "        13.88435632,  12.10445055,  30.03843814,  17.77685315,\n",
       "        11.91441485,  13.47459068,  21.67155124,   6.64982127,\n",
       "         7.09990654,  18.65423591,   2.65784754,   0.89434288,\n",
       "        12.44447014,  10.89996771,  20.21970532,  28.58956828,\n",
       "        10.4000307 ,   9.7791208 ,  -4.06923106,   1.44382321,\n",
       "        19.29491901,  15.68092684,   8.11685501,   5.63204625,\n",
       "        20.92489485,  -4.03645694,  18.79282307,  -0.37981504,\n",
       "        13.80278566,  -7.31954867,  -7.59810797,  10.42200887,\n",
       "        -2.24131766,  15.22829216,  12.4894336 ,  27.41495158,\n",
       "        18.78392499,   9.42080992,  10.5514844 ,   0.09317382,\n",
       "        20.60022244,  14.90181383,  29.18538671,  13.61776829,\n",
       "        19.8852898 ,  -1.67147325,   8.08627977,   8.42415026,\n",
       "        -1.92971277, -17.20099546,  31.6912799 ,  39.56117773,\n",
       "         8.20122915,  10.6088428 ,  32.32446618,   9.74461439,\n",
       "         7.82876464,  -7.17639866,  22.16145243,  -4.99495204,\n",
       "         1.32503349,  13.1266757 ,  -4.02527696,  23.68436336,\n",
       "         0.7507557 ,  11.0077493 , -10.22324491,  -3.97263635,\n",
       "       -21.40922627,  -5.89180623,  17.87976651,   3.68632819,\n",
       "         7.65266382,  13.87824333,  15.69398383,  33.14876549,\n",
       "        -0.22762798,  -2.04429842,   4.68765754,   6.73254531,\n",
       "        24.80896244,   3.22864027,   6.82873574,  -3.20031113,\n",
       "        27.72741871,  -1.26179128,  -1.20868969,   4.17322921,\n",
       "        21.26551574, -10.48482431,  15.65347183,  -0.51599395,\n",
       "        -5.43969793,  20.06507925,  13.25882667,  -7.11381596,\n",
       "         0.83025609,  26.10703509,   4.60116108,  19.25649413,\n",
       "        11.82763352, -15.22696014,   2.19993136,  20.28884455,\n",
       "         1.81978009,   6.54697307,  16.79663533,   5.38679475,\n",
       "        -3.29900493,  14.90264139,   7.88219147,  17.89665202,\n",
       "        18.73313666, -13.33422338,   8.38919976,   0.29285107,\n",
       "         4.40452832,  12.35932218,   3.77193544,  -5.16337639,\n",
       "         6.54762525,  -9.33085709,  -4.82353238,   8.75084477,\n",
       "        17.12876787,  13.72783746,   5.19088548,   9.10617483,\n",
       "        25.70227284,  39.04711976,   8.32590155,  18.27527898,\n",
       "        15.71002124,  15.52626088,  28.91071619,  13.23993003,\n",
       "         3.53827719,  16.94930946,   9.13756346, -15.67380987,\n",
       "        -2.5290769 ,   0.1866985 ,  -3.62875662,  10.83602563,\n",
       "        22.03590055,  14.12052211,   0.84933689,  18.33072129,\n",
       "         8.76470776,  11.22535029,  14.2141297 ,   7.52159084,\n",
       "        24.130258  ,  14.01351613,  12.32940373,   0.56204743,\n",
       "        14.30769686,  24.72673977,  -8.21946592,   2.72688017,\n",
       "        -0.8360323 ,   9.40549626,  -1.37233093,   3.59122291,\n",
       "        -1.15993915,  18.50692858,   0.65089444,   9.82768035,\n",
       "         8.34817662,  10.33004859,  11.84055551,  -0.84365346,\n",
       "         1.95294152,   4.38173197,  -5.54002725,  14.92037111,\n",
       "        17.78780181,   0.18810702,  30.31829452,  11.00064256,\n",
       "        20.68149045,  17.43563148,   7.17493192,  11.65197601,\n",
       "        26.9665433 ,  18.3606735 ,   7.83093058,  12.57895114,\n",
       "       -13.72527031,  14.43255576,   7.50186863,   4.22521358,\n",
       "        -2.57584314,  22.77250763,  13.99072644,   3.90889307,\n",
       "        17.88077378,  19.76772406,  19.95060305,  21.93833915,\n",
       "         1.87570759,  21.12023522,  -1.01407613,  16.77881895,\n",
       "        10.73476663,   3.87817538,  -7.71495922,  12.67898144,\n",
       "        18.88770403,  -2.26053511,   0.44222489,   2.17188285,\n",
       "         9.70201553,  16.99159909,   5.85697318,   6.29833168,\n",
       "         2.49904425,  36.58188081,   1.75952292,  13.86426565,\n",
       "         8.07390176,  31.78301216,   6.91043876,  11.43813709,\n",
       "         6.82888562,  19.54943282,  -0.14231623,  12.12675326,\n",
       "         8.13597228,  11.73940191, -14.41389454,  -4.45006372,\n",
       "        12.4425771 ,   2.99350872,  15.43828375,  11.1044256 ,\n",
       "       -11.56571037,  24.15040808,   0.56487196,   8.72478857,\n",
       "        20.09407879,   3.99149059,   9.44669885,  13.57339185,\n",
       "        21.41293106,   1.64729685,  -1.46590859,   1.22532901,\n",
       "        -3.04035782,  23.40147988,  20.68096867,  21.7408811 ,\n",
       "         5.62634018,   5.20316199,   3.51131557,   7.38242515,\n",
       "         8.8607378 ,  19.94745854,  22.96882885,   9.19910766,\n",
       "         2.91616006,  17.93243083,   8.68784763,  27.68110518,\n",
       "         2.21165799,  24.55878861,  19.03338291,   0.76565485,\n",
       "         1.57405209,   6.00668933,   8.59970041,  19.98934268,\n",
       "        31.50233092,  12.67137991,   1.09048598,  -1.92683408,\n",
       "        11.26783487,  17.19639763,  -3.18807447,   3.6487903 ,\n",
       "         0.12131768,   6.30691429,  11.45053665,  11.65958847,\n",
       "         0.61571786,   3.74107634,   9.88450487,  35.20998652,\n",
       "         8.42931466,  19.72426308,  11.78454895,  19.81717316,\n",
       "         9.53753854,  -6.10693129,  31.06061328,   6.40232199,\n",
       "         0.25061267,  35.66438533,  12.96979965,   3.01881569,\n",
       "         3.42014758,  13.63563136,   7.09611707,  -6.832737  ,\n",
       "        10.3659022 ,  11.27314909,   9.45533283,   5.66806466,\n",
       "        10.52164173,  23.79514947,   5.51454896,  -3.86249817,\n",
       "        15.65325904,  22.32070193,  18.11846838,  34.65760698,\n",
       "         5.99512928,  16.09920986,  15.16635902,  39.64653784,\n",
       "         5.4911342 ,  26.24064205,  21.66150901,   1.17017191,\n",
       "         2.21420003,  -3.71171345,   1.46027692,   8.26319639,\n",
       "         4.683697  ,   9.41581188,  27.29354248, -11.42845639,\n",
       "         8.66422155,  28.06433844,  36.86071859,   6.04814844,\n",
       "         4.39793981,  17.07157361,  -2.69762211,  -0.1219815 ,\n",
       "        -4.79179343,  -0.89764859,   9.16154171,  16.73060306,\n",
       "        22.18567155,   5.23867328,  36.54665714,  27.5208689 ,\n",
       "        -6.94775681,  -7.65556583,   3.14595472,  -4.77574739,\n",
       "        -9.59294123,  12.76641296,   2.96902586,  -5.6688681 ,\n",
       "        -3.39351401,  26.72983948,  16.54702234,  -0.66743894,\n",
       "        -0.89819893,   9.80962085,  15.59744845,  14.01049073,\n",
       "        15.55636001,  -5.26190164,  10.69006474,   2.48710376,\n",
       "         7.58317996,  20.48920009,   6.76347478,  -8.24947626,\n",
       "         6.07241264,   3.58952925,  18.22086185,  17.84551393,\n",
       "        13.28309693,   4.68045817,  21.83283555,   9.84967207,\n",
       "         4.2393152 , -10.26766449,   3.40553419,   0.77356401,\n",
       "        11.51161817,  21.16177085,  -7.52715936,  11.10907616,\n",
       "        15.67180366,  10.601283  ,  -7.21161341,  18.93534339,\n",
       "         3.48212706,  14.73181285,  12.58231093,  20.94812278,\n",
       "        17.80768888,  -5.49402783,  20.22692815,  30.84931044,\n",
       "         7.52896759,  16.4470525 ,  10.39156808,  19.79444647,\n",
       "        -0.79343393,   0.24963583,   2.51238303,   6.53217175,\n",
       "        11.19070915,  17.25082487,  17.97862702,  -3.82338   ,\n",
       "        15.11903055,  12.02486634,  15.32901082,  -0.95046911,\n",
       "         2.16966352,  28.07241968,  21.09708377,   1.7870201 ,\n",
       "        15.22326414,  27.82659257,   3.89366779,   2.98845303,\n",
       "         1.63772606,  14.69155529,  20.13497167,  24.9509879 ,\n",
       "        -1.81164118,   6.55237879,   7.74555293,  -0.33042151,\n",
       "         7.00316026,  24.32018173,  -2.25258399,   0.8106835 ,\n",
       "        17.76800696,   5.54181782,  24.14862232,  -0.6763744 ,\n",
       "         7.43462029,   9.74406454,  11.89021535,   8.99069495,\n",
       "        29.53401284,   6.83755387,  11.07730183,  31.86724033,\n",
       "        15.22990537,  10.60528227,  -2.75644454,  19.68625737,\n",
       "         7.58006193,   2.74007664,  -2.70155855,  21.48300827,\n",
       "        26.60914488,  -0.39711601,   2.77983869,  21.52311237,\n",
       "        12.44583251,   4.96036831,  16.33977994,  -1.22994268,\n",
       "         4.40304689,  10.81433894,   9.64658204,  -6.69083502,\n",
       "        11.37944559,   9.65592515,  14.16723308,   6.0130149 ,\n",
       "         9.174353  ,   0.53162938,  10.70151503,   5.69126896,\n",
       "        18.41457613,  12.9244289 ,  20.95295375,  -6.66130207,\n",
       "         5.69149263,  -5.13616538,  -4.66240987,  13.09392976,\n",
       "        21.23252418,  10.70497045,   8.07463402,  18.71683271,\n",
       "         2.14654482,  14.78193327,  -8.30773331,  18.03362628,\n",
       "         7.98833449,  11.4609941 ,  11.00274637,   2.11759636,\n",
       "         8.29755501,  26.95389461,  17.78356328,   2.84157518,\n",
       "        13.05323309,  17.03000485,  12.66188441,  10.33185202,\n",
       "         6.39019899, -12.6748277 ,  16.52978819,   6.24807132,\n",
       "         8.49012573,  11.30486916,  29.92628109,   3.79645018,\n",
       "         2.72281553,   4.59493616,  10.18397284,   4.06307419,\n",
       "         5.99052918,  -2.60752974,  20.99139145,   3.26683088,\n",
       "         4.90377422,   3.34758162,   8.00266651,   3.23083271,\n",
       "        21.6178869 ,  -6.12509138,  10.63822895,  14.57580946,\n",
       "        20.01283852,  10.84191818,  -1.68128896,  24.59647189,\n",
       "        -1.10905242,  19.86723921,  16.42434888,  27.79840906,\n",
       "        10.08847093,  30.03737313,   0.8110042 ,  18.17686482,\n",
       "        32.23844628,   2.39611669,  -1.22884319,   6.26868896,\n",
       "         6.13676566,  17.76174998,  -2.40896738,   8.38857853,\n",
       "        10.42030298,   5.67577739,   1.63488585,  -1.66083416,\n",
       "         8.69878859,  12.47327112,  32.64802585, -11.5432403 ])"
      ]
     },
     "execution_count": 17,
     "metadata": {},
     "output_type": "execute_result"
    }
   ],
   "source": [
    "x = np.random.normal(10,10,1000)\n",
    "x"
   ]
  },
  {
   "cell_type": "code",
   "execution_count": 30,
   "metadata": {},
   "outputs": [
    {
     "data": {
      "text/plain": [
       "<matplotlib.legend.Legend at 0x7f2d90de2cf8>"
      ]
     },
     "execution_count": 30,
     "metadata": {},
     "output_type": "execute_result"
    },
    {
     "data": {
      "image/png": "[encoded data removed]",
      "text/plain": [
       "<Figure size 432x288 with 1 Axes>"
      ]
     },
     "metadata": {},
     "output_type": "display_data"
    }
   ],
   "source": [
    "theta = np.linspace(-2,2,100)\n",
    "p = np.exp(2*theta**2-theta**4)\n",
    "fig, ax = plt.subplots()\n",
    "ax.plot(theta,p,label = \"true distribution\")\n",
    "ax.legend(loc= \"upper center\")"
   ]
  },
  {
   "cell_type": "code",
   "execution_count": 33,
   "metadata": {},
   "outputs": [
    {
     "data": {
      "text/plain": [
       "array([[1., 0.],\n",
       "       [0., 1.]])"
      ]
     },
     "execution_count": 33,
     "metadata": {},
     "output_type": "execute_result"
    }
   ],
   "source": []
  },
  {
   "cell_type": "code",
   "execution_count": null,
   "metadata": {},
   "outputs": [],
   "source": []
  },
  {
   "cell_type": "code",
   "execution_count": null,
   "metadata": {},
   "outputs": [],
   "source": []
  }
 ],
 "metadata": {
  "kernelspec": {
   "display_name": "Python 3",
   "language": "python",
   "name": "python3"
  },
  "language_info": {
   "codemirror_mode": {
    "name": "ipython",
    "version": 3
   },
   "file_extension": ".py",
   "mimetype": "text/x-python",
   "name": "python",
   "nbconvert_exporter": "python",
   "pygments_lexer": "ipython3",
   "version": "3.6.10"
  }
 },
 "nbformat": 4,
 "nbformat_minor": 2
}

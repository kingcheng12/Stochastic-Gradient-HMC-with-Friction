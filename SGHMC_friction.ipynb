{
 "cells": [
  {
   "cell_type": "markdown",
   "metadata": {},
   "source": [
    "# Project: Stochastic Gradient Hamiltonian Monte Carlo"
   ]
  },
  {
   "cell_type": "markdown",
   "metadata": {},
   "source": [
    "In this project we are going to implement standard HMC, HMC with MH, Naive SGHMC and SGHMC with Friction."
   ]
  },
  {
   "cell_type": "markdown",
   "metadata": {},
   "source": [
    "# standard HMC"
   ]
  },
  {
   "cell_type": "markdown",
   "metadata": {},
   "source": [
    "### Basic settings"
   ]
  },
  {
   "cell_type": "markdown",
   "metadata": {},
   "source": [
    "Suppose we want to sample from the posterior distribution: \n",
    "$$p(\\theta|D) \\propto exp(-U(\\theta))$$ where $D = \\{x_{1\\:n}\\}$\n",
    "which are independent and $U$ is the potential energy fucntion: \n",
    "$$U = -\\sum_{x_i \\in D}\\log p(x|\\theta)- \\log p(\\theta)$$\n",
    "We will sample from joint distribution $$\\pi(\\theta, r) \\propto exp(-U(\\theta)-\\frac{1}{2}r^TM^{-1}r)$$\n",
    "where r is the auxiliary momentum variables and M is the mass matrix. They define the kinetic energy together.\n",
    "Then we discard r and keep $\\theta$."
   ]
  },
  {
   "cell_type": "markdown",
   "metadata": {},
   "source": [
    "The Hamiltonian function is:\n",
    "$$H(\\theta, r)=U(\\theta)+\\frac{1}{2}r^TM^{-1}r$$\n",
    "The Hamiltonian dynamics are:\n",
    "$$d\\theta = M^{-1}r dt\\\\ dr=-\\triangledown U(\\theta) dt$$"
   ]
  },
  {
   "cell_type": "markdown",
   "metadata": {},
   "source": [
    "### Implement HMC"
   ]
  },
  {
   "cell_type": "markdown",
   "metadata": {},
   "source": [
    "We use a univariate $\\theta$ for illustration. Suppose $U(\\theta)=-2\\theta^2+\\theta^4$. Based on $U(\\theta)$, we need to define functions $\\triangledown U, H$."
   ]
  },
  {
   "cell_type": "code",
   "execution_count": 1,
   "metadata": {},
   "outputs": [],
   "source": [
    "import numpy as np\n",
    "import matplotlib.pyplot as plt\n",
    "from scipy import linalg as la\n",
    "import seaborn as sns"
   ]
  },
  {
   "cell_type": "code",
   "execution_count": null,
   "metadata": {},
   "outputs": [],
   "source": [
    "from sghmc.sghmc.module import SGHMC_friction"
   ]
  },
  {
   "cell_type": "code",
   "execution_count": null,
   "metadata": {},
   "outputs": [],
   "source": []
  },
  {
   "cell_type": "code",
   "execution_count": null,
   "metadata": {},
   "outputs": [],
   "source": [
    "# need to be set manually\n",
    "def U(theta):\n",
    "    '''compute U'''\n",
    "    \n",
    "    return -2*theta**2 + theta**4"
   ]
  },
  {
   "cell_type": "code",
   "execution_count": null,
   "metadata": {},
   "outputs": [],
   "source": [
    "# need to be set manually\n",
    "def grad_U(theta):\n",
    "    '''compute gradient of U'''\n",
    "    \n",
    "    return -4*theta+4*theta**3"
   ]
  },
  {
   "cell_type": "code",
   "execution_count": null,
   "metadata": {},
   "outputs": [],
   "source": [
    "# need to be set manually\n",
    "def set_M(theta):\n",
    "    '''initialize M as identity with resonable dimensions based on theta, which is a np.array'''\n",
    "    \n",
    "    return np.eye(theta.shape[-1])"
   ]
  },
  {
   "cell_type": "code",
   "execution_count": null,
   "metadata": {},
   "outputs": [],
   "source": [
    "# need to be set manually\n",
    "def H(theta, r, M):\n",
    "    '''compute Hamiltonian function'''\n",
    "    assert M.shape[0]==M.shape[1], 'M is not a square matrix'\n",
    "    \n",
    "    return U(theta) + 1/2* r.T @ np.linalg.inv(M) @ r"
   ]
  },
  {
   "cell_type": "code",
   "execution_count": null,
   "metadata": {},
   "outputs": [],
   "source": [
    "def std_HMC(theta0, epsilon, nmc, max_iteration):\n",
    "    '''\n",
    "    implement standard HMC\n",
    "    theta0: np.array\n",
    "    epsilon: float\n",
    "    '''\n",
    "    \n",
    "    theta_post = [theta0]\n",
    "    M = set_M(theta0)\n",
    "    m = M.shape[0] # number of parameters\n",
    "    \n",
    "    i = 1\n",
    "    while i < (nmc+1):\n",
    "        r = ri = np.random.multivariate_normal(np.zeros(m), M).reshape(-1,1)\n",
    "        \n",
    "        theta= theta0\n",
    "        \n",
    "        #simulate discretization of Hamiltonian Dynamics\n",
    "        r = r - epsilon * grad_U(theta)/2\n",
    "        \n",
    "        for j in range(max_iteration):\n",
    "            theta = theta + epsilon * np.linalg.inv(M) @ r\n",
    "            r = r - epsilon * grad_U(theta)\n",
    "        \n",
    "        # MH correction\n",
    "        u = np.random.rand()\n",
    "        ro = np.exp(H(theta, r, M) - H(theta_post[i-1], ri, M))\n",
    "        if u < min(1,ro):\n",
    "            theta_post.append(theta[0,0])\n",
    "            i += 1\n",
    "            \n",
    "    return theta_post[1:]"
   ]
  },
  {
   "cell_type": "code",
   "execution_count": null,
   "metadata": {},
   "outputs": [],
   "source": [
    "x = std_HMC(np.array([1]), 0.01, 1000, 100)"
   ]
  },
  {
   "cell_type": "markdown",
   "metadata": {},
   "source": [
    "# Stochastic Gradient HMC with Naive Approach"
   ]
  },
  {
   "cell_type": "markdown",
   "metadata": {},
   "source": [
    "The Naive approach refers to the simple plug-in estimator of $\\triangledown \\tilde{U}(\\theta) = -\\frac{|D|}{|\\tilde{D}|}\\sum_{x \\in \\tilde{D}} \\triangledown log p(x|\\theta) - \\triangledown log p(\\theta)$ with minibatch $\\tilde{D}$. $\\triangledown \\tilde{U}(\\theta)$ is computationally easier, but then the resulting joint distribution $\\pi(\\theta, r)$ is not invariant."
   ]
  },
  {
   "cell_type": "code",
   "execution_count": null,
   "metadata": {},
   "outputs": [],
   "source": []
  },
  {
   "cell_type": "markdown",
   "metadata": {},
   "source": [
    "The Hamiltonian Dynamics are:\n",
    "$$d\\theta = M^{-1}r dt\\\\ dr=-\\triangledown U(\\theta) dt + N(0,2B(\\theta)) dt$$\n",
    "where $B(\\theta) = \\frac{1}{2}\\epsilon V(\\theta)$"
   ]
  },
  {
   "cell_type": "markdown",
   "metadata": {},
   "source": [
    "# need to find covariance of the stochastic gradient noise"
   ]
  },
  {
   "cell_type": "markdown",
   "metadata": {},
   "source": [
    "Since $\\epsilon$ is small, it does not really matter that V is. Thus we take V as identity."
   ]
  },
  {
   "cell_type": "markdown",
   "metadata": {},
   "source": [
    "### Implement Naive SGHMC"
   ]
  },
  {
   "cell_type": "markdown",
   "metadata": {},
   "source": [
    "# SGHMC with Friction"
   ]
  },
  {
   "cell_type": "markdown",
   "metadata": {},
   "source": [
    "Add friction term to momentum update:\n",
    "$$\n",
    "d\\theta = M^{-1}r dt\\\\\n",
    "dr = - \\triangledown U(\\theta)dt - BM^{-1}rdt+N(0,2Bdt)\n",
    "$$"
   ]
  },
  {
   "cell_type": "markdown",
   "metadata": {},
   "source": [
    "# new proposal for SGHMC with friction"
   ]
  },
  {
   "cell_type": "code",
   "execution_count": 57,
   "metadata": {},
   "outputs": [],
   "source": [
    "def SGHMC_friction(theta0, X, grad_logden_data, grad_logden_prior, V, eps, i, C, batch_size, M = None):\n",
    "    '''\n",
    "    SGHMC with friction:\n",
    "    theta0(numpy array): starting position of theta (p,)\n",
    "    X: data (n,m)\n",
    "    grad_logden_data: gradient of the data log density (p,)\n",
    "    grad_logden_prior: gradient of the prior log density (p,)\n",
    "    V: estimated finsher information, (p,p)\n",
    "    eps: step size\n",
    "    i: number of iterations\n",
    "    C: user specified friction term\n",
    "    batch_size: size of minibatches\n",
    "    M: Mass matrix\n",
    "    '''\n",
    "    \n",
    "    def minib(x, batch_size):\n",
    "        '''\n",
    "        create minibatchs of x\n",
    "        x: data\n",
    "        batch_size: size of minibatch, if len(x)/batch_size is not integer, some batches wille have smaller sizes\n",
    "        \n",
    "        output: list of np.array of batchs [[batch_size,],...,[]]\n",
    "        '''\n",
    "        m = np.ceil(x.shape[0]/batch_size)\n",
    "        np.random.shuffle(x)\n",
    "\n",
    "        return np.array_split(x, m)\n",
    "    \n",
    "    def grad_U(grad_log_data, grad_log_prior, batch, theta, n):\n",
    "        '''compute the gradient of U of batch'''\n",
    "        \n",
    "        return -(n*grad_log_data(batch,theta)/batch.shape[0]+grad_log_prior(theta))\n",
    "    \n",
    "    n, m = X.shape\n",
    "    p = theta0.shape[0] # dim of theta\n",
    "    \n",
    "    # samples\n",
    "    thetat = np.zeros((i+1,p)) # (#samples,p)\n",
    "    thetat[0] = theta0 # set initial\n",
    "    batch = minib(X, batch_size) # m-list of (batch_size,)\n",
    "    m = len(batch)\n",
    "    B = 1/2*eps*V\n",
    "    \n",
    "    \n",
    "    if(M is None):\n",
    "        M = np.eye(p)\n",
    "    \n",
    "    for t in range(i):\n",
    "        ri = np.random.multivariate_normal(np.zeros(p), M)\n",
    "        thetai = thetat[t]\n",
    "        for j in range(m):\n",
    "            bat = batch[j] # batch_j\n",
    "            thetai = thetai + eps * np.linalg.inv(M) @ ri\n",
    "            gU = grad_U(grad_logden_data,grad_logden_prior,bat,thetai,n)\n",
    "            ri = ri - eps * gU - eps * C @ ri + la.sqrtm(2*(C-B)*eps) @ np.random.multivariate_normal(np.zeros(p), M)\n",
    "        thetat[t+1] = thetai + eps * np.linalg.inv(M) @ ri\n",
    "    \n",
    "    return thetat[200:thetat.shape[0]]\n",
    "        "
   ]
  },
  {
   "cell_type": "code",
   "execution_count": 49,
   "metadata": {},
   "outputs": [],
   "source": [
    "def SGHMC_friction(theta0, X, grad_logden_data, grad_logden_prior, V, eps, i, C, batch_size, M = None):\n",
    "    '''\n",
    "    SGHMC with friction:\n",
    "    theta0(numpy array): starting position of theta (p,)\n",
    "    X: data (n,m)\n",
    "    grad_logden_data: gradient of the data log density (p,)\n",
    "    grad_logden_prior: gradient of the prior log density (p,)\n",
    "    V: estimated finsher information, (p,p)\n",
    "    eps: step size\n",
    "    i: number of iterations\n",
    "    C: user specified friction term\n",
    "    batch_size: size of minibatches\n",
    "    M: Mass matrix\n",
    "    '''\n",
    "    \n",
    "    def minib(x, batch_size):\n",
    "        '''\n",
    "        create minibatchs of x\n",
    "        x: data\n",
    "        batch_size: size of minibatch, if len(x)/batch_size is not integer, some batches wille have smaller sizes\n",
    "        \n",
    "        output: list of np.array of batchs [[batch_size,],...,[]]\n",
    "        '''\n",
    "        m = np.ceil(x.shape[0]/batch_size)\n",
    "        np.random.shuffle(x)\n",
    "\n",
    "        return np.array_split(x, m)\n",
    "    \n",
    "    def grad_U(grad_log_data, grad_log_prior, batch, theta, n):\n",
    "        '''compute the gradient of U of batch'''\n",
    "        \n",
    "        return -(n*grad_log_data(batch,theta)/batch.shape[0]+grad_log_prior(theta))\n",
    "    \n",
    "    n, m = X.shape\n",
    "    p = theta0.shape[0] # dim of theta\n",
    "    \n",
    "    # samples\n",
    "    thetat = np.zeros((i+1,p)) # (#samples,p)\n",
    "    thetat[0] = theta0 # set initial\n",
    "    batch = minib(X, batch_size) # m-list of (batch_size,)\n",
    "    m = len(batch)\n",
    "    B = 1/2*eps*V\n",
    "    \n",
    "    sqm = np.linalg.cholesky(2*(C-B)*eps)\n",
    "    \n",
    "    if(M is None):\n",
    "        M = np.eye(p)\n",
    "    \n",
    "    for t in range(i):\n",
    "        ri = np.random.multivariate_normal(np.zeros(p), M)\n",
    "        thetai = thetat[t]\n",
    "        for j in range(m):\n",
    "            bat = batch[j] # batch_j\n",
    "            thetai = thetai + eps * np.linalg.inv(M) @ ri\n",
    "            gU = grad_U(grad_logden_data,grad_logden_prior,bat,thetai,n)\n",
    "            ri = ri - eps * gU - eps * C @ ri + sqm @ np.random.normal(size=p)\n",
    "        thetat[t+1] = thetai + eps * np.linalg.inv(M) @ ri\n",
    "    \n",
    "    return thetat[200:thetat.shape[0]]\n",
    "        "
   ]
  },
  {
   "cell_type": "code",
   "execution_count": 58,
   "metadata": {},
   "outputs": [],
   "source": [
    "def grad_logden_data(x,theta):\n",
    "    return -(-4*theta+4*theta**3)/50"
   ]
  },
  {
   "cell_type": "code",
   "execution_count": 59,
   "metadata": {},
   "outputs": [],
   "source": [
    "def grad_prior(theta):\n",
    "    return 0"
   ]
  },
  {
   "cell_type": "code",
   "execution_count": 60,
   "metadata": {},
   "outputs": [
    {
     "data": {
      "text/plain": [
       "array([0.])"
      ]
     },
     "execution_count": 60,
     "metadata": {},
     "output_type": "execute_result"
    }
   ],
   "source": [
    "np.zeros(1)"
   ]
  },
  {
   "cell_type": "code",
   "execution_count": 79,
   "metadata": {},
   "outputs": [],
   "source": [
    "theta = SGHMC_friction(theta0 = np.array([0]),X = np.zeros((50,1)),grad_logden_data = grad_logden_data,grad_logden_prior = grad_prior,\n",
    "                V = np.eye(1)*0, eps=0.1,i=2000,C=2*np.eye(1),batch_size = 10)"
   ]
  },
  {
   "cell_type": "code",
   "execution_count": 80,
   "metadata": {},
   "outputs": [
    {
     "data": {
      "text/plain": [
       "<matplotlib.axes._subplots.AxesSubplot at 0x123dd8950>"
      ]
     },
     "execution_count": 80,
     "metadata": {},
     "output_type": "execute_result"
    },
    {
     "data": {
      "image/png": "[encoded data removed]",
      "text/plain": [
       "<Figure size 432x288 with 1 Axes>"
      ]
     },
     "metadata": {
      "needs_background": "light"
     },
     "output_type": "display_data"
    }
   ],
   "source": [
    "sns.kdeplot(theta[:,0])"
   ]
  },
  {
   "cell_type": "markdown",
   "metadata": {},
   "source": [
    "## take simulated data from normal distribution as example"
   ]
  },
  {
   "cell_type": "markdown",
   "metadata": {},
   "source": [
    "Simulate 1000 samples from N($\\mu=10$,100). We want to sample $\\mu$ from the posterior $p(\\mu|D)$."
   ]
  },
  {
   "cell_type": "code",
   "execution_count": 55,
   "metadata": {},
   "outputs": [],
   "source": [
    "x = np.random.normal(10,10,1000)"
   ]
  },
  {
   "cell_type": "code",
   "execution_count": 56,
   "metadata": {},
   "outputs": [
    {
     "data": {
      "text/plain": [
       "<matplotlib.legend.Legend at 0x123461050>"
      ]
     },
     "execution_count": 56,
     "metadata": {},
     "output_type": "execute_result"
    },
    {
     "data": {
      "image/png": "[encoded data removed]",
      "text/plain": [
       "<Figure size 432x288 with 1 Axes>"
      ]
     },
     "metadata": {
      "needs_background": "light"
     },
     "output_type": "display_data"
    }
   ],
   "source": [
    "theta = np.linspace(-2,2,100)\n",
    "p = np.exp(2*theta**2-theta**4)\n",
    "fig, ax = plt.subplots()\n",
    "ax.plot(theta,p,label = \"true distribution\")\n",
    "ax.legend(loc= \"upper center\")"
   ]
  },
  {
   "cell_type": "markdown",
   "metadata": {},
   "source": [
    "# 2nd example of mixture normal"
   ]
  },
  {
   "cell_type": "markdown",
   "metadata": {},
   "source": [
    "Suppose we want to sample $x \\sim 0.5N(5,1)+0.5N(-5,1)$. We want to sample from SGHMC."
   ]
  },
  {
   "cell_type": "code",
   "execution_count": 12,
   "metadata": {},
   "outputs": [],
   "source": [
    "mu = np.array([5, -5]).reshape(2,1)\n",
    "nmc = 200\n",
    "x = np.r_[np.random.normal(mu[0], 1, nmc),np.random.normal(mu[1], 1, nmc)]"
   ]
  },
  {
   "cell_type": "code",
   "execution_count": 13,
   "metadata": {},
   "outputs": [],
   "source": [
    "# define gradient of log p(x|theta)\n",
    "def grad_log_p(x, mu):\n",
    "    '''compute gradient of log p(x|theta)'''\n",
    "    \n",
    "    #gd = np.c_[x-mu[0], x-mu[1]]\n",
    "    #return np.sum(gd, axis = 0)\n",
    "    exp1=np.exp(-0.5*(x-mu[0])**2)\n",
    "    exp2=np.exp(-0.5*(x-mu[1])**2)\n",
    "    \n",
    "    v = np.c_[exp1*(x-mu[0]),exp2*(x-mu[1])]\n",
    "    return np.sum(v/(exp1+exp2),axis=0)\n",
    "\n",
    "# define gradient of log prior of theta\n",
    "def grad_log_prior(mu):\n",
    "    '''compute gradient of log prior'''\n",
    "    \n",
    "    return -(np.sum(mu)/10)"
   ]
  },
  {
   "cell_type": "code",
   "execution_count": 14,
   "metadata": {},
   "outputs": [],
   "source": [
    "sim_mn = SGHMC_friction(theta0=np.array([1,1]), X = x[:,None], grad_logden_data=grad_log_p, grad_logden_prior=grad_log_prior, V=np.eye(2), eps=0.01, i=5000, C=np.eye(2), batch_size=50)"
   ]
  },
  {
   "cell_type": "code",
   "execution_count": 15,
   "metadata": {},
   "outputs": [
    {
     "data": {
      "image/png": "[encoded data removed]",
      "text/plain": [
       "<Figure size 432x288 with 1 Axes>"
      ]
     },
     "metadata": {
      "needs_background": "light"
     },
     "output_type": "display_data"
    }
   ],
   "source": [
    "kdeplt2 = sns.kdeplot(sim_mn[:,0],sim_mn[:,1]) "
   ]
  },
  {
   "cell_type": "markdown",
   "metadata": {},
   "source": [
    "# HMC in linear model"
   ]
  },
  {
   "cell_type": "code",
   "execution_count": 148,
   "metadata": {},
   "outputs": [],
   "source": [
    "# simulated results for linear model, n = #{obs} = 100, p = 4 (p*p X matrix), s2 = 1, coef = [1,2,3,4]^T\n",
    "n, p = 100, 4\n",
    "s2 = 1\n",
    "X = np.c_[np.random.normal(size=n), np.random.normal(size=n), np.random.normal(size=n)]\n",
    "noise = np.random.normal(size=n).reshape(-1,1)\n",
    "beta = np.array([2,3,4]).reshape(-1,1)\n",
    "alpha = 1\n",
    "\n",
    "Y = X @ beta + alpha + noise"
   ]
  },
  {
   "cell_type": "code",
   "execution_count": 250,
   "metadata": {},
   "outputs": [],
   "source": [
    "# set up priors for elements in beta and s2\n",
    "alpha_prior_m = 0\n",
    "alpha_prior_sd = 10\n",
    "\n",
    "beta_prior_m = 0\n",
    "beta_prior_sd = 10\n",
    "\n",
    "logs2_prior_m = 0\n",
    "logs2_prior_sd = 2\n",
    "\n",
    "data = np.c_[Y,X]"
   ]
  },
  {
   "cell_type": "code",
   "execution_count": 267,
   "metadata": {},
   "outputs": [],
   "source": [
    "def logposterior(parameter, data, alpha_prior_m=0, alpha_prior_sd=1, beta_prior_m=0, beta_prior_sd=1, logs2_prior_m=0, logs2_prior_sd=1):\n",
    "    '''\n",
    "    \n",
    "    Compute the log density of data and gradient of log density of data\n",
    "    Parameter: beta and log variance (p+1,1)\n",
    "    X: data matrix (n,p)\n",
    "    Y: response (n,1)\n",
    "    ..._prior_m = prior mean of elts in parameters\n",
    "    ..._prior_sd = prior standard error of elts in parameters\n",
    "    \n",
    "    '''\n",
    "    \n",
    "    def normal_prior(p, mu, s):\n",
    "        '''compute the log prior and gradient of log prior'''\n",
    "        Z = (p-mu)/s\n",
    "        logpdf = np.sum(-np.log(s) - 0.5*np.log(2*np.pi)-0.5*Z**2, axis=0)\n",
    "        grad_logpdf = -Z/s\n",
    "        \n",
    "        return logpdf.reshape(-1,1), grad_logpdf.reshape(-1,1)\n",
    "    \n",
    "    Y = data[:,0].reshape(-1,1)\n",
    "    X = data[:,1:]\n",
    "    \n",
    "    alpha = parameter[0]\n",
    "    beta = parameter[1:parameter.shape[0]-1]\n",
    "    beta = beta.reshape(-1,1)\n",
    "    logs2 = parameter[parameter.shape[0]-1]\n",
    "    \n",
    "    # compute log likelihood and gradient\n",
    "    sigma = np.sqrt(np.exp(logs2))\n",
    "    mu = X @ beta + alpha\n",
    "    Z = (Y-mu)/sigma\n",
    "    \n",
    "    loglik = np.sum(-np.log(sigma)-0.5*np.log(2*np.pi)-0.5*Z**2)\n",
    "    \n",
    "    grad_alpha1 = np.sum(Z/sigma)\n",
    "    grad_beta1 = X.T @ Z/sigma\n",
    "    grad_logs21 = np.sum(-0.5 + 0.5*Z**2)\n",
    "    \n",
    "    # compute log priors and gradient\n",
    "    log_prior_alpha, grad_lp_alpha = normal_prior(alpha, alpha_prior_m, alpha_prior_sd)\n",
    "    log_prior_beta, grad_lp_beta = normal_prior(beta, beta_prior_m, beta_prior_sd)\n",
    "    log_prior_logs2, grad_lp_logs2 = normal_prior(logs2, logs2_prior_m, logs2_prior_sd)\n",
    "    log_prior = log_prior_alpha + log_prior_beta + log_prior_logs2 # '+' in matlab\n",
    "    \n",
    "    # log posterior and gradient\n",
    "    log_post = loglik + log_prior\n",
    "    grad_alpha = grad_alpha1 + grad_lp_alpha\n",
    "    grad_beta = grad_beta1 + grad_lp_beta\n",
    "    grad_logs2 = grad_logs21 + grad_lp_logs2\n",
    "    grad_log_post = np.r_[grad_alpha, grad_beta, grad_logs2].reshape(-1,1)\n",
    "    \n",
    "    return grad_log_post"
   ]
  },
  {
   "cell_type": "code",
   "execution_count": 268,
   "metadata": {},
   "outputs": [],
   "source": [
    "glp = logposterior(np.array([1,2,3,4,2]), data, alpha_prior_m, alpha_prior_sd, beta_prior_m, beta_prior_sd, logs2_prior_m, logs2_prior_sd)"
   ]
  },
  {
   "cell_type": "code",
   "execution_count": 269,
   "metadata": {},
   "outputs": [
    {
     "data": {
      "text/plain": [
       "array([[  1.91344269],\n",
       "       [ -2.20155194],\n",
       "       [ -1.21357864],\n",
       "       [  0.5563807 ],\n",
       "       [-42.76933966]])"
      ]
     },
     "execution_count": 269,
     "metadata": {},
     "output_type": "execute_result"
    }
   ],
   "source": [
    "glp"
   ]
  },
  {
   "cell_type": "code",
   "execution_count": 284,
   "metadata": {},
   "outputs": [],
   "source": [
    "# try linear model hmc\n",
    "def SGHMC_friction2(theta0, X, grad_logden_data, grad_logden_prior, eps, i, B, C, batch_size,burnin,seed=1, M = None):\n",
    "    '''\n",
    "    SGHMC with friction:\n",
    "    theta0(numpy array): starting position of theta\n",
    "    X: data\n",
    "    grad_logden_data: gradient of the data log density\n",
    "    grad_logden_prior: gradient of the prior log density\n",
    "    eps: step size\n",
    "    i: number of iterations\n",
    "    B: noise estimate\n",
    "    C: user specified friction term\n",
    "    batch_size: size of minibatches\n",
    "    M: Mass matrix\n",
    "    '''\n",
    "    \n",
    "    def minib(x, batch_size):\n",
    "        '''\n",
    "        create minibatchs of x\n",
    "        x: data\n",
    "        batch_size: size of minibatch, if len(x)/batch_size is not integer, some batches wille have smaller sizes\n",
    "        '''\n",
    "        m = np.ceil(x.shape[0]/batch_size)\n",
    "        np.random.shuffle(x)\n",
    "\n",
    "        return np.array_split(x, m)\n",
    "    \n",
    "    n = theta0.shape[0]\n",
    "    rt = np.zeros((i+1,n))\n",
    "    thetat = np.zeros((i+1,n))\n",
    "    thetat[0,:] = theta0\n",
    "    batch = minib(X,batch_size)\n",
    "    m = len(batch)\n",
    "\n",
    "    if(M is None):\n",
    "        M = np.eye(n)\n",
    "    \n",
    "    for t in range(i):\n",
    "        rt[t,:] = np.random.multivariate_normal(np.zeros(n), M)\n",
    "        theta0,r0 = thetat[t,:],rt[t,:]\n",
    "        thetai,ri = theta0.reshape(-1,1),r0.reshape(-1,1)\n",
    "        for j in range(m):\n",
    "            thetai = thetai + eps * np.linalg.inv(M) @ ri\n",
    "            gU = - X.shape[0]/batch[j].shape[0]* logposterior(thetai, batch[j])\n",
    "            ri = ri - eps * gU.reshape(-1,1) - eps * C @ np.linalg.inv(M) @ ri + np.random.multivariate_normal(np.zeros(n), np.array(2*eps*(C-B)).reshape(n,n)).reshape(-1,1)\n",
    "        thetat[t+1,:],rt[t+1,:] = thetai.reshape(-1,n), ri.reshape(-1,n)\n",
    "    \n",
    "    return thetat[burnin+1:,],rt[burnin+1:,:]"
   ]
  },
  {
   "cell_type": "code",
   "execution_count": 288,
   "metadata": {},
   "outputs": [],
   "source": [
    "a,b = SGHMC_friction2(np.array([1,2,3,4,2]), data, grad_logden_data, grad_logden_prior, 0.01, 2000, 0*np.eye(5), np.eye(5), batch_size=20,burnin=100,seed=1, M = None)"
   ]
  },
  {
   "cell_type": "code",
   "execution_count": 289,
   "metadata": {},
   "outputs": [
    {
     "data": {
      "text/plain": [
       "(1900, 5)"
      ]
     },
     "execution_count": 289,
     "metadata": {},
     "output_type": "execute_result"
    }
   ],
   "source": [
    "a.shape"
   ]
  },
  {
   "cell_type": "code",
   "execution_count": 290,
   "metadata": {},
   "outputs": [
    {
     "data": {
      "text/plain": [
       "array([1.07031217, 1.84082497, 2.78347437, 3.96260467, 0.25293734])"
      ]
     },
     "execution_count": 290,
     "metadata": {},
     "output_type": "execute_result"
    }
   ],
   "source": [
    "np.mean(a,axis=0)"
   ]
  },
  {
   "cell_type": "code",
   "execution_count": null,
   "metadata": {},
   "outputs": [],
   "source": []
  }
 ],
 "metadata": {
  "kernelspec": {
   "display_name": "Python 3",
   "language": "python",
   "name": "python3"
  },
  "language_info": {
   "codemirror_mode": {
    "name": "ipython",
    "version": 3
   },
   "file_extension": ".py",
   "mimetype": "text/x-python",
   "name": "python",
   "nbconvert_exporter": "python",
   "pygments_lexer": "ipython3",
   "version": "3.7.4"
  }
 },
 "nbformat": 4,
 "nbformat_minor": 2
}
